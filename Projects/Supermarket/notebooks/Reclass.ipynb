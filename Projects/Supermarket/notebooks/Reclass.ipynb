{
 "cells": [
  {
   "cell_type": "code",
   "execution_count": 7,
   "id": "f0de2abb",
   "metadata": {},
   "outputs": [],
   "source": [
    "import os\n",
    "import shutil\n",
    "from collections import defaultdict"
   ]
  },
  {
   "cell_type": "code",
   "execution_count": 8,
   "id": "b4ebcf0a",
   "metadata": {},
   "outputs": [],
   "source": [
    "ruta_origen = r\"C:\\Users\\homel\\OneDrive - Universidad San Sebastian\\Escritorio\\DeepNeuralNetworkUSS\\Projects\\Supermarket\\data\\items_prepared\\test\"\n",
    "ruta_destino = r\"C:\\Users\\homel\\OneDrive - Universidad San Sebastian\\Escritorio\\DeepNeuralNetworkUSS\\Projects\\Supermarket\\data\\items_prepared\\test_reduced\"\n"
   ]
  },
  {
   "cell_type": "code",
   "execution_count": 9,
   "id": "e6f1d1d5",
   "metadata": {},
   "outputs": [
    {
     "name": "stdout",
     "output_type": "stream",
     "text": [
      "✅ Reorganización completa.\n"
     ]
    }
   ],
   "source": [
    "# Diccionario de reagrupación\n",
    "clase_reagrupada = {\n",
    "    \"Fruit_Apple_Golden-Delicious\": \"Apple\",\n",
    "    \"Fruit_Apple_Granny-Smith\": \"Apple\",\n",
    "    \"Fruit_Apple_Pink-Lady\": \"Apple\",\n",
    "    \"Fruit_Apple_Red-Delicious\": \"Apple\",\n",
    "    \"Fruit_Apple_Royal-Gala\": \"Apple\",\n",
    "    \n",
    "    \"Fruit_Melon_Cantaloupe\": \"Melon\",\n",
    "    \"Fruit_Melon_Galia-Melon\": \"Melon\",\n",
    "    \"Fruit_Melon_Honeydew-Melon\": \"Melon\",\n",
    "    \"Fruit_Melon_Watermelon\": \"Melon\",\n",
    "    \n",
    "    \"Fruit_Pear_Anjou\": \"Pear\",\n",
    "    \"Fruit_Pear_Conference\": \"Pear\",\n",
    "    \"Fruit_Pear_Kaiser\": \"Pear\",\n",
    "    \n",
    "    \"Packages_Juice_Bravo-Apple-Juice\": \"Juice_Bravo\",\n",
    "    \"Packages_Juice_Bravo-Orange-Juice\": \"Juice_Bravo\",\n",
    "\n",
    "    \"Packages_Juice_God-Morgon-Apple-Juice\": \"Juice_GodMorgon\",\n",
    "    \"Packages_Juice_God-Morgon-Orange-Juice\": \"Juice_GodMorgon\",\n",
    "    \"Packages_Juice_God-Morgon-Orange-Red-Grapefruit-Juice\": \"Juice_GodMorgon\",\n",
    "    \"Packages_Juice_God-Morgon-Red-Grapefruit-Juice\": \"Juice_GodMorgon\",\n",
    "    \n",
    "    \"Packages_Juice_Tropicana-Apple-Juice\": \"Juice_Tropicana\",\n",
    "    \"Packages_Juice_Tropicana-Golden-Grapefruit\": \"Juice_Tropicana\",\n",
    "    \"Packages_Juice_Tropicana-Juice-Smooth\": \"Juice_Tropicana\"\n",
    "}\n",
    "\n",
    "# Crear carpetas destino\n",
    "for clase in set(clase_reagrupada.values()):\n",
    "    os.makedirs(os.path.join(ruta_destino, clase), exist_ok=True)\n",
    "\n",
    "# Copiar archivos a sus nuevas carpetas\n",
    "for clase_origen, clase_destino in clase_reagrupada.items():\n",
    "    ruta_clase_origen = os.path.join(ruta_origen, clase_origen)\n",
    "    ruta_clase_destino = os.path.join(ruta_destino, clase_destino)\n",
    "    \n",
    "    if not os.path.exists(ruta_clase_origen):\n",
    "        print(f\"⚠️ No se encontró: {ruta_clase_origen}\")\n",
    "        continue\n",
    "\n",
    "    for archivo in os.listdir(ruta_clase_origen):\n",
    "        origen = os.path.join(ruta_clase_origen, archivo)\n",
    "        destino = os.path.join(ruta_clase_destino, f\"{clase_origen}_{archivo}\")\n",
    "        shutil.copyfile(origen, destino)\n",
    "\n",
    "print(\"✅ Reorganización completa.\")"
   ]
  }
 ],
 "metadata": {
  "kernelspec": {
   "display_name": "venv_cnn",
   "language": "python",
   "name": "python3"
  },
  "language_info": {
   "codemirror_mode": {
    "name": "ipython",
    "version": 3
   },
   "file_extension": ".py",
   "mimetype": "text/x-python",
   "name": "python",
   "nbconvert_exporter": "python",
   "pygments_lexer": "ipython3",
   "version": "3.11.9"
  }
 },
 "nbformat": 4,
 "nbformat_minor": 5
}
