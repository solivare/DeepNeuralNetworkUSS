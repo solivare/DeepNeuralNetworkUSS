{
 "cells": [
  {
   "cell_type": "code",
   "execution_count": null,
   "id": "6b32a913",
   "metadata": {},
   "outputs": [],
   "source": [
    "# 📚 Entrenamiento de Red Neuronal CNN para clasificación multiclase\n",
    "\n",
    "# 🔧 Cargar librerías\n",
    "import os\n",
    "import sys\n",
    "import yaml\n",
    "import numpy as np\n",
    "import matplotlib.pyplot as plt\n",
    "from tensorflow.keras.callbacks import EarlyStopping, ModelCheckpoint\n",
    "from tensorflow.keras.preprocessing.image import ImageDataGenerator\n",
    "from tensorflow.keras.models import load_model"
   ]
  },
  {
   "cell_type": "code",
   "execution_count": null,
   "id": "6d1fefbf",
   "metadata": {},
   "outputs": [],
   "source": [
    "# Ajustar path para importar módulos locales\n",
    "sys.path.append(\"../src\")\n",
    "import model\n",
    "import utils\n",
    "import train"
   ]
  },
  {
   "cell_type": "code",
   "execution_count": null,
   "id": "0073da1f",
   "metadata": {},
   "outputs": [],
   "source": [
    "# 🔧 Cargar configuración\n",
    "with open(\"../config.yaml\", \"r\") as f:\n",
    "    config = yaml.safe_load(f)\n",
    "\n",
    "img_height = config[\"image\"][\"height\"]\n",
    "img_width = config[\"image\"][\"width\"]\n",
    "batch_size = config[\"training\"][\"batch_size\"]\n",
    "epochs = config[\"training\"][\"epochs\"]\n",
    "data_path = config[\"paths\"][\"prepared_data\"]\n",
    "model_path = config[\"paths\"][\"model\"]"
   ]
  },
  {
   "cell_type": "code",
   "execution_count": null,
   "id": "594374a3",
   "metadata": {},
   "outputs": [],
   "source": [
    "# 📦 Cargar datos\n",
    "train_datagen = ImageDataGenerator(rescale=1./255)\n",
    "val_datagen = ImageDataGenerator(rescale=1./255)\n",
    "\n",
    "train_generator = train_datagen.flow_from_directory(\n",
    "    os.path.join(data_path, \"train\"),\n",
    "    target_size=(img_height, img_width),\n",
    "    batch_size=batch_size,\n",
    "    class_mode=\"categorical\"\n",
    ")\n",
    "\n",
    "val_generator = val_datagen.flow_from_directory(\n",
    "    os.path.join(data_path, \"val\"),\n",
    "    target_size=(img_height, img_width),\n",
    "    batch_size=batch_size,\n",
    "    class_mode=\"categorical\"\n",
    ")"
   ]
  },
  {
   "cell_type": "code",
   "execution_count": null,
   "id": "8e9fc6a0",
   "metadata": {},
   "outputs": [],
   "source": [
    "# ✅ Verificar consistencia de clases\n",
    "assert train_generator.class_indices == val_generator.class_indices\n",
    "num_classes = len(train_generator.class_indices)"
   ]
  },
  {
   "cell_type": "code",
   "execution_count": null,
   "id": "51563ea2",
   "metadata": {},
   "outputs": [],
   "source": [
    "# 🧠 Construir modelo\n",
    "cnn_model = model.build_model(config, num_classes)\n",
    "\n",
    "cnn_model.summary()"
   ]
  },
  {
   "cell_type": "code",
   "execution_count": null,
   "id": "0c642022",
   "metadata": {},
   "outputs": [],
   "source": [
    "# 🏋️ Entrenar el modelo\n",
    "callbacks = [\n",
    "    EarlyStopping(patience=5, restore_best_weights=True),\n",
    "    ModelCheckpoint(model_path, save_best_only=True)\n",
    "]\n",
    "\n",
    "history = cnn_model.fit(\n",
    "    train_generator,\n",
    "    validation_data=val_generator,\n",
    "    epochs=epochs,\n",
    "    callbacks=callbacks\n",
    ")"
   ]
  },
  {
   "cell_type": "code",
   "execution_count": null,
   "id": "0d458c45",
   "metadata": {},
   "outputs": [],
   "source": [
    "# 💾 Guardar modelo\n",
    "cnn_model.save(model_path)"
   ]
  },
  {
   "cell_type": "code",
   "execution_count": null,
   "id": "7b8adcd9",
   "metadata": {},
   "outputs": [],
   "source": [
    "# 📈 Graficar historia de entrenamiento\n",
    "utils.plot_training_history(history, model_name=\"CNN\")"
   ]
  },
  {
   "cell_type": "code",
   "execution_count": null,
   "id": "e35d33f0",
   "metadata": {},
   "outputs": [],
   "source": [
    "# ✅ Guardar nombres de clases para uso posterior\n",
    "with open(\"class_indices.yaml\", \"w\") as f:\n",
    "    yaml.dump(train_generator.class_indices, f)"
   ]
  },
  {
   "cell_type": "code",
   "execution_count": null,
   "id": "d137ddee",
   "metadata": {},
   "outputs": [],
   "source": []
  }
 ],
 "metadata": {
  "kernelspec": {
   "display_name": "3.11.9",
   "language": "python",
   "name": "python3"
  },
  "language_info": {
   "codemirror_mode": {
    "name": "ipython",
    "version": 3
   },
   "file_extension": ".py",
   "mimetype": "text/x-python",
   "name": "python",
   "nbconvert_exporter": "python",
   "pygments_lexer": "ipython3",
   "version": "3.11.9"
  }
 },
 "nbformat": 4,
 "nbformat_minor": 5
}
