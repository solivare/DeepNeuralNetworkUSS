{
 "cells": [
  {
   "cell_type": "code",
   "execution_count": 1,
   "id": "385a7d52",
   "metadata": {},
   "outputs": [],
   "source": [
    "import os\n",
    "import shutil\n",
    "import random\n",
    "import tensorflow as tf\n",
    "from tensorflow.keras.preprocessing.image import ImageDataGenerator\n",
    "\n"
   ]
  },
  {
   "cell_type": "code",
   "execution_count": 2,
   "id": "eed78c5f",
   "metadata": {},
   "outputs": [],
   "source": [
    "# 📁 Rutas originales y destino\n",
    "origen = r\"C:/Users/homel/OneDrive - Universidad San Sebastian/Escritorio/DeepNeuralNetworkUSS/Projects/Supermarket/data/items_prepared/train_reduced\"\n",
    "destino = r\"C:/Users/homel/OneDrive - Universidad San Sebastian/Escritorio/DeepNeuralNetworkUSS/Projects/Supermarket/data/items_prepared/train_Reduced_balanced\""
   ]
  },
  {
   "cell_type": "code",
   "execution_count": 3,
   "id": "cbaa494f",
   "metadata": {},
   "outputs": [],
   "source": [
    "# 🎯 Objetivo de imágenes por clase\n",
    "objetivo = 100\n",
    "\n",
    "# 🧪 Configuración de aumentación\n",
    "datagen = ImageDataGenerator(\n",
    "    rotation_range=15,\n",
    "    width_shift_range=0.1,\n",
    "    height_shift_range=0.1,\n",
    "    shear_range=0.1,\n",
    "    zoom_range=0.2,\n",
    "    horizontal_flip=True,\n",
    "    fill_mode='nearest'\n",
    ")\n",
    "\n",
    "# 📂 Procesar cada clase\n",
    "for clase in os.listdir(origen):\n",
    "    ruta_origen_clase = os.path.join(origen, clase)\n",
    "    if not os.path.isdir(ruta_origen_clase):\n",
    "        continue\n",
    "    ruta_destino_clase = os.path.join(destino, clase)\n",
    "    os.makedirs(ruta_destino_clase, exist_ok=True)\n",
    "\n",
    "    imagenes = os.listdir(ruta_origen_clase)\n",
    "\n",
    "    # Copiar originales\n",
    "    for img in imagenes:\n",
    "        shutil.copy(os.path.join(ruta_origen_clase, img), os.path.join(ruta_destino_clase, img))\n",
    "\n",
    "    # Generar aumentadas si son menos de 100\n",
    "    while len(os.listdir(ruta_destino_clase)) < objetivo:\n",
    "        img_nombre = random.choice(imagenes)\n",
    "        img_path = os.path.join(ruta_origen_clase, img_nombre)\n",
    "\n",
    "        img = tf.keras.preprocessing.image.load_img(img_path, target_size=(348, 348))  # ajusta tamaño si es distinto\n",
    "        x = tf.keras.preprocessing.image.img_to_array(img)\n",
    "        x = x.reshape((1,) + x.shape)\n",
    "\n",
    "        for batch in datagen.flow(x, batch_size=1,\n",
    "                                   save_to_dir=ruta_destino_clase,\n",
    "                                   save_prefix='aug', save_format='jpeg'):\n",
    "            break  # solo una imagen por iteración"
   ]
  }
 ],
 "metadata": {
  "kernelspec": {
   "display_name": "venv_cnn",
   "language": "python",
   "name": "python3"
  },
  "language_info": {
   "codemirror_mode": {
    "name": "ipython",
    "version": 3
   },
   "file_extension": ".py",
   "mimetype": "text/x-python",
   "name": "python",
   "nbconvert_exporter": "python",
   "pygments_lexer": "ipython3",
   "version": "3.11.9"
  }
 },
 "nbformat": 4,
 "nbformat_minor": 5
}
