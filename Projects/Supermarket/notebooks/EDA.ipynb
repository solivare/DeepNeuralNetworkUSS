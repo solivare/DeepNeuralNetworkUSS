{
 "cells": [
  {
   "cell_type": "code",
   "execution_count": null,
   "id": "73bde824",
   "metadata": {},
   "outputs": [],
   "source": [
    "import os\n",
    "import yaml\n",
    "from tensorflow.keras.preprocessing.image import ImageDataGenerator\n",
    "import matplotlib.pyplot as plt\n",
    "import seaborn as sns\n",
    "import numpy as np\n",
    "from collections import Counter"
   ]
  },
  {
   "cell_type": "code",
   "execution_count": null,
   "id": "5abf35a9",
   "metadata": {},
   "outputs": [],
   "source": [
    "# Cargar configuración\n",
    "with open(\"../config.yaml\", \"r\") as f:\n",
    "    config = yaml.safe_load(f)\n",
    "\n",
    "data_path = config[\"paths\"][\"prepared_data\"]\n",
    "img_height = config[\"image\"][\"height\"]\n",
    "img_width = config[\"image\"][\"width\"]\n",
    "batch_size = config[\"training\"][\"batch_size\"]"
   ]
  },
  {
   "cell_type": "code",
   "execution_count": null,
   "id": "c7905a3f",
   "metadata": {},
   "outputs": [],
   "source": [
    "train_datagen = ImageDataGenerator(rescale=1./255)\n",
    "\n",
    "train_generator = train_datagen.flow_from_directory(\n",
    "    os.path.join(data_path, \"train\"),\n",
    "    target_size=(img_height, img_width),\n",
    "    batch_size=batch_size,\n",
    "    class_mode=\"categorical\"\n",
    ")\n",
    "\n",
    "# Visualizar algunas imágenes\n",
    "class_names = list(train_generator.class_indices.keys())\n",
    "images, labels = next(train_generator)\n",
    "\n",
    "plt.figure(figsize=(12, 6))\n",
    "for i in range(8):\n",
    "    plt.subplot(2, 4, i + 1)\n",
    "    plt.imshow(images[i])\n",
    "    plt.title(class_names[np.argmax(labels[i])])\n",
    "    plt.axis(\"off\")\n",
    "plt.tight_layout()\n",
    "plt.show()"
   ]
  },
  {
   "cell_type": "code",
   "execution_count": null,
   "id": "11bcfb58",
   "metadata": {},
   "outputs": [],
   "source": [
    "from collections import Counter\n",
    "\n",
    "class_counts = Counter(train_generator.classes)\n",
    "sorted_counts = dict(sorted(class_counts.items(), key=lambda x: x[1], reverse=True))\n",
    "\n",
    "plt.figure(figsize=(12, 5))\n",
    "sns.barplot(x=[class_names[k] for k in sorted_counts.keys()],\n",
    "            y=list(sorted_counts.values()))\n",
    "plt.xticks(rotation=90)\n",
    "plt.title(\"Distribución de imágenes por clase (train)\")\n",
    "plt.xlabel(\"Clase\")\n",
    "plt.ylabel(\"Cantidad\")\n",
    "plt.tight_layout()\n",
    "plt.show()"
   ]
  },
  {
   "cell_type": "code",
   "execution_count": null,
   "id": "b2dc0e10",
   "metadata": {},
   "outputs": [],
   "source": [
    "# Cargar set de validación\n",
    "val_generator = train_datagen.flow_from_directory(\n",
    "    os.path.join(data_path, \"val\"),\n",
    "    target_size=(img_height, img_width),\n",
    "    batch_size=batch_size,\n",
    "    class_mode=\"categorical\"\n",
    ")\n",
    "\n",
    "# Comprobar que las clases coincidan\n",
    "assert train_generator.class_indices == val_generator.class_indices\n",
    "print(\"✅ Las clases del conjunto de entrenamiento y validación son consistentes.\")"
   ]
  },
  {
   "cell_type": "code",
   "execution_count": null,
   "id": "687818b3",
   "metadata": {},
   "outputs": [],
   "source": [
    "# ✍️ Reflexión: ¿hay clases poco representadas? ¿se requiere balanceo?"
   ]
  }
 ],
 "metadata": {
  "kernelspec": {
   "display_name": "3.11.9",
   "language": "python",
   "name": "python3"
  },
  "language_info": {
   "codemirror_mode": {
    "name": "ipython",
    "version": 3
   },
   "file_extension": ".py",
   "mimetype": "text/x-python",
   "name": "python",
   "nbconvert_exporter": "python",
   "pygments_lexer": "ipython3",
   "version": "3.11.9"
  }
 },
 "nbformat": 4,
 "nbformat_minor": 5
}
