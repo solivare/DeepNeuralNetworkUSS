{
 "cells": [
  {
   "cell_type": "code",
   "execution_count": null,
   "id": "f6570c83",
   "metadata": {},
   "outputs": [],
   "source": [
    "# 📊 Evaluación de la Red Neuronal Convolucional (CNN)\n",
    "\n",
    "# 🔧 Cargar librerías\n",
    "import os\n",
    "import sys\n",
    "sys.path.append(\"../src\")\n",
    "\n",
    "import yaml\n",
    "import numpy as np\n",
    "import matplotlib.pyplot as plt\n",
    "from tensorflow.keras.models import load_model\n",
    "\n",
    "import evaluate as ev\n",
    "import utils"
   ]
  },
  {
   "cell_type": "code",
   "execution_count": null,
   "id": "183c8fd9",
   "metadata": {},
   "outputs": [],
   "source": [
    "# 📁 Cargar configuración\n",
    "with open(\"../config.yaml\", \"r\") as f:\n",
    "    config = yaml.safe_load(f)"
   ]
  },
  {
   "cell_type": "code",
   "execution_count": null,
   "id": "8159c2d0",
   "metadata": {},
   "outputs": [],
   "source": [
    "# 📂 Cargar generador de validación\n",
    "from tensorflow.keras.preprocessing.image import ImageDataGenerator\n",
    "\n",
    "val_path = os.path.join(config[\"paths\"][\"prepared_data\"], \"val\")\n",
    "img_height = config[\"image\"][\"height\"]\n",
    "img_width = config[\"image\"][\"width\"]\n",
    "batch_size = config[\"training\"][\"batch_size\"]\n",
    "\n",
    "val_datagen = ImageDataGenerator(rescale=1./255)\n",
    "val_generator = val_datagen.flow_from_directory(\n",
    "    val_path,\n",
    "    target_size=(img_height, img_width),\n",
    "    batch_size=batch_size,\n",
    "    class_mode=\"categorical\",\n",
    "    shuffle=False\n",
    ")"
   ]
  },
  {
   "cell_type": "code",
   "execution_count": null,
   "id": "4dd569b2",
   "metadata": {},
   "outputs": [],
   "source": [
    "# 💾 Cargar modelo entrenado\n",
    "model_path = config[\"paths\"][\"model\"]\n",
    "model = load_model(model_path)"
   ]
  },
  {
   "cell_type": "code",
   "execution_count": null,
   "id": "8213c02a",
   "metadata": {},
   "outputs": [],
   "source": [
    "# 🔮 Predecir probabilidades\n",
    "y_scores = model.predict(val_generator)\n",
    "y_true = val_generator.classes\n",
    "class_names = list(val_generator.class_indices.keys())"
   ]
  },
  {
   "cell_type": "code",
   "execution_count": null,
   "id": "dae6c75e",
   "metadata": {},
   "outputs": [],
   "source": [
    "# 🔢 Convertir predicciones a clases\n",
    "y_pred = np.argmax(y_scores, axis=1)"
   ]
  },
  {
   "cell_type": "code",
   "execution_count": null,
   "id": "5bdf96ab",
   "metadata": {},
   "outputs": [],
   "source": [
    "# 📉 Matriz de Confusión multiclase\n",
    "ev.plot_confusion_matrix(y_true, y_pred, class_names=class_names)"
   ]
  },
  {
   "cell_type": "code",
   "execution_count": null,
   "id": "f266552f",
   "metadata": {},
   "outputs": [],
   "source": [
    "# 🧪 Métricas de clasificación\n",
    "from sklearn.metrics import classification_report\n",
    "\n",
    "# ✅ Mostrar métricas por clase\n",
    "print(\"📄 Reporte de clasificación por clase:\")\n",
    "print(classification_report(y_true, y_pred, target_names=class_names, zero_division=0))"
   ]
  },
  {
   "cell_type": "code",
   "execution_count": null,
   "id": "f1141871",
   "metadata": {},
   "outputs": [],
   "source": [
    "# 📈 Distribución de probabilidades para cada clase\n",
    "for i, class_name in enumerate(class_names):\n",
    "    ev.plot_prediction_distribution(y_true, y_scores[:, i], class_index=i, class_name=class_name)"
   ]
  },
  {
   "cell_type": "code",
   "execution_count": null,
   "id": "9f1c92b9",
   "metadata": {},
   "outputs": [],
   "source": [
    "# ✅ Reflexión final\n",
    "print(\"✅ Evaluación completa. Analiza si hay overfitting, errores sistemáticos o clases mal representadas.\")"
   ]
  }
 ],
 "metadata": {
  "kernelspec": {
   "display_name": "3.11.9",
   "language": "python",
   "name": "python3"
  },
  "language_info": {
   "codemirror_mode": {
    "name": "ipython",
    "version": 3
   },
   "file_extension": ".py",
   "mimetype": "text/x-python",
   "name": "python",
   "nbconvert_exporter": "python",
   "pygments_lexer": "ipython3",
   "version": "3.11.9"
  }
 },
 "nbformat": 4,
 "nbformat_minor": 5
}
