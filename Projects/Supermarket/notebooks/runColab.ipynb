{
 "cells": [
  {
   "cell_type": "markdown",
   "id": "vUI6ALWtBmmZ",
   "metadata": {
    "id": "vUI6ALWtBmmZ"
   },
   "source": [
    "# 🧠 Clasificación de Productos - Google Colab\n",
    "Este notebook carga datos desde Google Drive, entrena una red neuronal convolucional (CNN) y evalúa su desempeño."
   ]
  },
  {
   "cell_type": "code",
   "id": "N-g6dt0JBmmb",
   "metadata": {
    "colab": {
     "base_uri": "https://localhost:8080/"
    },
    "id": "N-g6dt0JBmmb",
    "outputId": "ca367fcc-e936-4307-9596-0032777a6e7b",
    "ExecuteTime": {
     "end_time": "2025-08-05T23:58:10.481552Z",
     "start_time": "2025-08-05T23:58:10.438713Z"
    }
   },
   "source": [
    "# 📂 Montar Google Drive con dataset ya preprocesado\n",
    "from google.colab import drive\n",
    "drive.mount('/content/drive')"
   ],
   "outputs": [
    {
     "ename": "ModuleNotFoundError",
     "evalue": "No module named 'google.colab'",
     "output_type": "error",
     "traceback": [
      "\u001B[31m---------------------------------------------------------------------------\u001B[39m",
      "\u001B[31mModuleNotFoundError\u001B[39m                       Traceback (most recent call last)",
      "\u001B[36mCell\u001B[39m\u001B[36m \u001B[39m\u001B[32mIn[1]\u001B[39m\u001B[32m, line 2\u001B[39m\n\u001B[32m      1\u001B[39m \u001B[38;5;66;03m# 📂 Montar Google Drive con dataset ya preprocesado\u001B[39;00m\n\u001B[32m----> \u001B[39m\u001B[32m2\u001B[39m \u001B[38;5;28;01mfrom\u001B[39;00m\u001B[38;5;250m \u001B[39m\u001B[34;01mgoogle\u001B[39;00m\u001B[34;01m.\u001B[39;00m\u001B[34;01mcolab\u001B[39;00m\u001B[38;5;250m \u001B[39m\u001B[38;5;28;01mimport\u001B[39;00m drive\n\u001B[32m      3\u001B[39m drive.mount(\u001B[33m'\u001B[39m\u001B[33m/content/drive\u001B[39m\u001B[33m'\u001B[39m)\n",
      "\u001B[31mModuleNotFoundError\u001B[39m: No module named 'google.colab'"
     ]
    }
   ],
   "execution_count": 1
  },
  {
   "cell_type": "code",
   "execution_count": null,
   "id": "j2OuPFMMBmmb",
   "metadata": {
    "colab": {
     "base_uri": "https://localhost:8080/"
    },
    "id": "j2OuPFMMBmmb",
    "outputId": "414bdd46-17df-499c-cc2b-ebf6c2116941"
   },
   "outputs": [],
   "source": [
    "# 🚀 Clonar repositorio\n",
    "!git clone https://github.com/solivare/DeepNeuralNetworkUSS.git\n",
    "%cd DeepNeuralNetworkUSS/Projects/Supermarket/"
   ]
  },
  {
   "cell_type": "code",
   "execution_count": null,
   "id": "JDTKc3siBmmb",
   "metadata": {
    "colab": {
     "base_uri": "https://localhost:8080/"
    },
    "id": "JDTKc3siBmmb",
    "outputId": "f45c17f2-eaf2-41a7-ee86-36900d8cd44e"
   },
   "outputs": [],
   "source": [
    "# 📦 Instalar dependencias\n",
    "!pip install -r requirements.txt"
   ]
  },
  {
   "cell_type": "code",
   "id": "fdM_IO5EBmmb",
   "metadata": {
    "id": "fdM_IO5EBmmb",
    "ExecuteTime": {
     "end_time": "2025-08-05T23:59:16.800452Z",
     "start_time": "2025-08-05T23:59:16.796178Z"
    }
   },
   "source": [
    "# 📁 Ajustar paths para importar módulos\n",
    "import os, sys\n",
    "src_path = os.path.abspath('src')\n",
    "if src_path not in sys.path:\n",
    "    sys.path.append(src_path)"
   ],
   "outputs": [],
   "execution_count": 2
  },
  {
   "cell_type": "markdown",
   "id": "zqXyspkCBmmc",
   "metadata": {
    "id": "zqXyspkCBmmc"
   },
   "source": [
    "## 🧠 Entrenamiento del Modelo"
   ]
  },
  {
   "cell_type": "code",
   "id": "Ux6V3yD4Bmmc",
   "metadata": {
    "colab": {
     "base_uri": "https://localhost:8080/"
    },
    "id": "Ux6V3yD4Bmmc",
    "outputId": "035fe5ea-7cb0-4a9b-e38f-f4a2e0229036",
    "ExecuteTime": {
     "end_time": "2025-08-05T23:59:22.452234Z",
     "start_time": "2025-08-05T23:59:22.397209Z"
    }
   },
   "source": [
    "# 🔧 Cargar config y actualizar ruta a Drive\n",
    "from src import train, model, utils\n",
    "import yaml\n",
    "\n",
    "with open(\"config.yaml\") as f:\n",
    "    config = yaml.safe_load(f)\n",
    "\n",
    "# Sobrescribir ruta para correr desde Drive\n",
    "config[\"paths\"][\"prepared_data\"] = \"/content/drive/MyDrive/DeepNeuralNetworkUSS/Data/Supermarket/items_prepared\"\n",
    "\n",
    "# 🧠 Entrenamiento\n",
    "train_gen, val_gen = train.get_data_generators(config)\n",
    "num_classes = len(train_gen.class_indices)\n",
    "\n",
    "cnn_model = model.build_model(config, num_classes)\n",
    "\n",
    "history = cnn_model.fit(\n",
    "    train_gen,\n",
    "    validation_data=val_gen,\n",
    "    epochs=config['training']['epochs']\n",
    ")\n",
    "\n",
    "utils.plot_training_history(history)\n",
    "\n",
    "# ✍️ Mejora el modelo en src/model.py"
   ],
   "outputs": [
    {
     "ename": "ModuleNotFoundError",
     "evalue": "No module named 'src'",
     "output_type": "error",
     "traceback": [
      "\u001B[31m---------------------------------------------------------------------------\u001B[39m",
      "\u001B[31mModuleNotFoundError\u001B[39m                       Traceback (most recent call last)",
      "\u001B[36mCell\u001B[39m\u001B[36m \u001B[39m\u001B[32mIn[3]\u001B[39m\u001B[32m, line 2\u001B[39m\n\u001B[32m      1\u001B[39m \u001B[38;5;66;03m# 🔧 Cargar config y actualizar ruta a Drive\u001B[39;00m\n\u001B[32m----> \u001B[39m\u001B[32m2\u001B[39m \u001B[38;5;28;01mfrom\u001B[39;00m\u001B[38;5;250m \u001B[39m\u001B[34;01msrc\u001B[39;00m\u001B[38;5;250m \u001B[39m\u001B[38;5;28;01mimport\u001B[39;00m train, model, utils\n\u001B[32m      3\u001B[39m \u001B[38;5;28;01mimport\u001B[39;00m\u001B[38;5;250m \u001B[39m\u001B[34;01myaml\u001B[39;00m\n\u001B[32m      5\u001B[39m \u001B[38;5;28;01mwith\u001B[39;00m \u001B[38;5;28mopen\u001B[39m(\u001B[33m\"\u001B[39m\u001B[33mconfig.yaml\u001B[39m\u001B[33m\"\u001B[39m) \u001B[38;5;28;01mas\u001B[39;00m f:\n",
      "\u001B[31mModuleNotFoundError\u001B[39m: No module named 'src'"
     ]
    }
   ],
   "execution_count": 3
  },
  {
   "cell_type": "markdown",
   "id": "Xj4XVdISBmmc",
   "metadata": {
    "id": "Xj4XVdISBmmc"
   },
   "source": [
    "## 📊 Evaluación del Modelo"
   ]
  },
  {
   "cell_type": "code",
   "execution_count": null,
   "id": "VR_1GYsWBmmc",
   "metadata": {
    "id": "VR_1GYsWBmmc"
   },
   "outputs": [],
   "source": [
    "from src import evaluate as ev\n",
    "import numpy as np\n",
    "from sklearn.metrics import classification_report\n",
    "\n",
    "y_true = val_gen.classes\n",
    "y_scores = cnn_model.predict(val_gen)\n",
    "y_pred = np.argmax(y_scores, axis=1)\n",
    "class_names = list(val_gen.class_indices.keys())\n",
    "\n",
    "ev.plot_confusion_matrix(y_true, y_pred, class_names)\n",
    "print(classification_report(y_true, y_pred, target_names=class_names))"
   ]
  },
  {
   "cell_type": "code",
   "execution_count": null,
   "id": "fb1bc69f",
   "metadata": {},
   "outputs": [],
   "source": [
    "# ✍️ TODO: Agrega estas funciones de visualización\n",
    "# - Distribución de probabilidades\n",
    "# - F1 vs threshold\n",
    "# - Imágenes mal clasificadas\n",
    "\n",
    "# ev.plot_prediction_distribution(y_true, y_scores[:, i], class_name=class_names[i])\n",
    "# ev.plot_f1_vs_threshold(y_true, y_scores[:, i], modelo=\"CNN\")\n",
    "# ev.show_misclassified_images(val_gen, cnn_model, class_names)"
   ]
  }
 ],
 "metadata": {
  "accelerator": "GPU",
  "colab": {
   "gpuType": "A100",
   "machine_shape": "hm",
   "provenance": []
  },
  "kernelspec": {
   "display_name": "Python 3 (ipykernel)",
   "name": "python3",
   "language": "python"
  },
  "language_info": {
   "name": "python",
   "version": ""
  }
 },
 "nbformat": 4,
 "nbformat_minor": 5
}
