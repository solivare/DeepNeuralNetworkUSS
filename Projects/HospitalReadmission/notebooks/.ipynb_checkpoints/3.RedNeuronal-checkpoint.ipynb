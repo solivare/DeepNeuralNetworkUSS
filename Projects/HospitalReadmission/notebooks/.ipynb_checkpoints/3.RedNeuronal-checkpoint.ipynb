{
 "cells": [
  {
   "cell_type": "markdown",
   "id": "6c62ad36",
   "metadata": {},
   "source": [
    "# Red Neuronal desde código modular (src/train.py)\n"
   ]
  },
  {
   "cell_type": "code",
   "execution_count": null,
   "id": "930b1b8a",
   "metadata": {},
   "outputs": [],
   "source": [
    "# Importar librerias\n",
    "import sys\n",
    "import os\n",
    "import pandas as pd\n",
    "from sklearn.metrics import classification_report, roc_auc_score\n",
    "import matplotlib.pyplot as plt"
   ]
  },
  {
   "cell_type": "code",
   "execution_count": null,
   "id": "c194e201",
   "metadata": {},
   "outputs": [],
   "source": [
    "# Ajustar ruta para importar desde src/\n",
    "sys.path.append(\"../src\")\n",
    "import train"
   ]
  },
  {
   "cell_type": "code",
   "execution_count": null,
   "id": "559b5c2c",
   "metadata": {},
   "outputs": [],
   "source": [
    "# Cargar configuración y datos\n",
    "config = train.load_config()\n",
    "X, y = train.load_data()\n",
    "X_train, X_test, y_train, y_test = train.preprocess(X, y, config)"
   ]
  },
  {
   "cell_type": "code",
   "execution_count": null,
   "id": "07067f77",
   "metadata": {},
   "outputs": [],
   "source": [
    "# Construir y entrenar el modelo\n",
    "model = train.build_model(config, input_dim=X.shape[1])\n",
    "history = train.train_model(model, X_train, y_train, config)"
   ]
  },
  {
   "cell_type": "code",
   "execution_count": null,
   "id": "2fe4971c",
   "metadata": {},
   "outputs": [],
   "source": [
    "# Evaluación\n",
    "y_pred_proba = model.predict(X_test).flatten()\n",
    "y_pred = (y_pred_proba > 0.5).astype(int)\n",
    "\n",
    "print(classification_report(y_test, y_pred))\n",
    "print(\"ROC AUC:\", roc_auc_score(y_test, y_pred_proba))"
   ]
  },
  {
   "cell_type": "code",
   "execution_count": null,
   "id": "d6e3dc60",
   "metadata": {},
   "outputs": [],
   "source": [
    "# Visualización de métricas\n",
    "plt.plot(history.history[\"loss\"], label=\"Train Loss\")\n",
    "plt.plot(history.history[\"val_loss\"], label=\"Val Loss\")\n",
    "plt.title(\"Evolución de la función de pérdida\")\n",
    "plt.xlabel(\"Épocas\")\n",
    "plt.ylabel(\"Pérdida\")\n",
    "plt.legend()\n",
    "plt.show()"
   ]
  },
  {
   "cell_type": "code",
   "execution_count": null,
   "id": "7a9024f7",
   "metadata": {},
   "outputs": [],
   "source": [
    "# Al final de RedNeuronal.ipynb\n",
    "model.save(\"../models/modelo_nn.keras\")"
   ]
  },
  {
   "cell_type": "code",
   "execution_count": null,
   "id": "45180c62",
   "metadata": {},
   "outputs": [],
   "source": []
  }
 ],
 "metadata": {
  "kernelspec": {
   "display_name": "Python 3 (ipykernel)",
   "language": "python",
   "name": "python3"
  },
  "language_info": {
   "codemirror_mode": {
    "name": "ipython",
    "version": 3
   },
   "file_extension": ".py",
   "mimetype": "text/x-python",
   "name": "python",
   "nbconvert_exporter": "python",
   "pygments_lexer": "ipython3",
   "version": "3.11.5"
  }
 },
 "nbformat": 4,
 "nbformat_minor": 5
}
