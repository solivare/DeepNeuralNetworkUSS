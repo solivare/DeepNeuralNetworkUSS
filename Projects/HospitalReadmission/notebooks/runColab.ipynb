{
 "cells": [
  {
   "cell_type": "code",
   "execution_count": null,
   "id": "9a22da9f",
   "metadata": {},
   "outputs": [],
   "source": [
    "import sys\n",
    "import os\n",
    "\n",
    "# Agrega la ruta del directorio padre (donde está src/)\n",
    "sys.path.append(os.path.abspath(\"..\"))"
   ]
  },
  {
   "cell_type": "markdown",
   "id": "ada57a7d",
   "metadata": {},
   "source": [
    "# 🏥 Proyecto: Predicción de Readmisión Hospitalaria\n",
    "Este notebook está diseñado para ejecutarse en **Google Colab**.\n",
    "\n",
    "Contiene todo el flujo del proyecto:\n",
    "- Exploración de datos (EDA)\n",
    "- Entrenamiento de modelo base (Regresión Logística)\n",
    "- Entrenamiento de Red Neuronal\n",
    "- Evaluación y comparación de modelos\n",
    "\n",
    "🔧 Los estudiantes pueden modificar el código y los archivos como `config.yaml` o `train.py`."
   ]
  },
  {
   "cell_type": "code",
   "execution_count": null,
   "id": "c259ac6a",
   "metadata": {},
   "outputs": [],
   "source": [
    "# Clonar el repositorio (solo una vez por sesión de Colab)\n",
    "!git clone https://github.com/solivare/DeepNeuralNetworkUSS.git\n",
    "%cd DeepNeuralNetworkUSS/Projects/HospitalReadmission\n"
   ]
  },
  {
   "cell_type": "code",
   "execution_count": null,
   "id": "741fa079",
   "metadata": {},
   "outputs": [],
   "source": [
    "# Instalar dependencias necesarias (si no están ya instaladas)\n",
    "!pip install -r requirements.txt"
   ]
  },
  {
   "cell_type": "code",
   "execution_count": null,
   "id": "8f48921d",
   "metadata": {},
   "outputs": [],
   "source": [
    "# Creacion del directorio de trabajo\n",
    "%mkdir run\n",
    "%cd run/"
   ]
  },
  {
   "cell_type": "code",
   "execution_count": null,
   "id": "3002f3fd",
   "metadata": {},
   "outputs": [],
   "source": [
    "# Preprocesamiento del dataset original\n",
    "!python ../src/preprocess.py"
   ]
  },
  {
   "cell_type": "code",
   "execution_count": null,
   "id": "d6b14d9e",
   "metadata": {},
   "outputs": [],
   "source": [
    "# Exploración de Datos (EDA)\n",
    "import pandas as pd\n",
    "import matplotlib.pyplot as plt\n",
    "import seaborn as sns\n",
    "\n",
    "df = pd.read_csv('../data/hospital_readmission_clean.csv')\n",
    "df.head()"
   ]
  },
  {
   "cell_type": "code",
   "execution_count": null,
   "id": "b464ca4c",
   "metadata": {},
   "outputs": [],
   "source": [
    "# Modelo base: Regresión Logística\n",
    "from sklearn.linear_model import LogisticRegression\n",
    "from sklearn.model_selection import train_test_split\n",
    "from sklearn.preprocessing import StandardScaler\n",
    "sys.path.append(os.path.abspath(\"..\"))\n",
    "import src.evaluate as ev\n",
    "import numpy as np\n",
    "import yaml\n",
    "\n",
    "# Cargar configuración y datos\n",
    "with open('../config.yaml', 'r') as f:\n",
    "    config = yaml.safe_load(f)\n",
    "df = pd.read_csv('../data/hospital_readmission_clean.csv')\n",
    "X = df.drop('readmitted', axis=1)\n",
    "y = df['readmitted']\n",
    "\n",
    "# Escalar y separar datos\n",
    "scaler = StandardScaler()\n",
    "X_scaled = scaler.fit_transform(X)\n",
    "X_train, X_test, y_train, y_test = train_test_split(\n",
    "    X_scaled, y, test_size=config['test_size'],\n",
    "    random_state=config['random_state'], stratify=y)\n",
    "\n",
    "# Entrenar modelo base\n",
    "base_model = LogisticRegression()\n",
    "base_model.fit(X_train, y_train)\n",
    "y_pred_base = base_model.predict(X_test)\n",
    "y_pred_proba_base = base_model.predict_proba(X_test)[:, 1]\n",
    "\n",
    "# Evaluar modelo base\n",
    "ev.evaluate_model(y_test, y_pred_base, y_pred_proba_base, model_name=\"Regresión Logística\")"
   ]
  },
  {
   "cell_type": "code",
   "execution_count": null,
   "id": "982f69b7",
   "metadata": {},
   "outputs": [],
   "source": [
    "# Entrenamiento de Red Neuronal\n",
    "sys.path.append(os.path.abspath(\"..\"))\n",
    "import src.train as tr\n",
    "model = tr.build_model(config, input_dim=X_train.shape[1])\n",
    "history = tr.train_model(model, X_train, y_train, config)\n",
    "y_pred_nn_proba = model.predict(X_test).flatten()\n",
    "y_pred_nn = ev.predict_with_threshold(y_pred_nn_proba)\n",
    "\n",
    "ev.evaluate_model(y_test, y_pred_nn, y_pred_nn_proba, model_name=\"Red Neuronal\")"
   ]
  },
  {
   "cell_type": "code",
   "execution_count": null,
   "id": "9a581f31",
   "metadata": {},
   "outputs": [],
   "source": [
    "# Comparación de ROC y métricas\n",
    "ev.plot_roc_comparison(y_test, y_pred_nn_proba, y_test, y_pred_proba_base,\n",
    "                       label1='Red Neuronal', label2='Regresión Logística')\n",
    "\n",
    "df_metrics = ev.compare_models_metrics(\n",
    "    y_test, y_pred_nn, y_pred_nn_proba,\n",
    "    y_test, y_pred_base, y_pred_proba_base,\n",
    "    model_name_1='Red Neuronal', model_name_2='Regresión Logística')\n",
    "import pandas as pd\n",
    "from IPython.display import display\n",
    "display(df_metrics)"
   ]
  }
 ],
 "metadata": {
  "language_info": {
   "name": "python"
  }
 },
 "nbformat": 4,
 "nbformat_minor": 5
}
