{
 "cells": [
  {
   "cell_type": "markdown",
   "id": "3d91368a",
   "metadata": {},
   "source": [
    "# Reporte de Mejoras - Red Neuronal para Reingresos Hospitalarios"
   ]
  },
  {
   "cell_type": "markdown",
   "id": "a1dba3dc",
   "metadata": {},
   "source": [
    "\n",
    "Este reporte resume las mejoras implementadas sobre el modelo base de red neuronal desarrollado para predecir reingresos hospitalarios. Se aplicaron técnicas para combatir el sobreajuste y el desbalance de clases.\n"
   ]
  },
  {
   "cell_type": "markdown",
   "id": "7d2ec39c",
   "metadata": {},
   "source": [
    "## Mejora 1: Regularización L2"
   ]
  },
  {
   "cell_type": "code",
   "execution_count": null,
   "id": "96daeb11",
   "metadata": {},
   "outputs": [],
   "source": [
    "\n",
    "# En src/train.py (función build_model)\n",
    "# Se añadió regularización L2 a las capas ocultas\n",
    "from tensorflow.keras.regularizers import l2\n",
    "\n",
    "Dense(units, activation='relu', kernel_regularizer=l2(0.001))\n"
   ]
  },
  {
   "cell_type": "markdown",
   "id": "2a5255e5",
   "metadata": {},
   "source": [
    "## Mejora 2: EarlyStopping"
   ]
  },
  {
   "cell_type": "code",
   "execution_count": null,
   "id": "05394dad",
   "metadata": {},
   "outputs": [],
   "source": [
    "\n",
    "from tensorflow.keras.callbacks import EarlyStopping\n",
    "\n",
    "early_stop = EarlyStopping(monitor='val_loss', patience=3, restore_best_weights=True)\n",
    "\n",
    "model.fit(..., callbacks=[early_stop])\n"
   ]
  },
  {
   "cell_type": "markdown",
   "id": "036d9551",
   "metadata": {},
   "source": [
    "## Mejora 3: Balanceo de clases con `class_weight`"
   ]
  },
  {
   "cell_type": "code",
   "execution_count": null,
   "id": "06f82e66",
   "metadata": {},
   "outputs": [],
   "source": [
    "\n",
    "from sklearn.utils.class_weight import compute_class_weight\n",
    "import numpy as np\n",
    "\n",
    "class_weights = compute_class_weight(class_weight='balanced', classes=np.unique(y_train), y=y_train)\n",
    "class_weights = {i: w for i, w in enumerate(class_weights)}\n",
    "\n",
    "model.fit(X_train, y_train, class_weight=class_weights)\n"
   ]
  },
  {
   "cell_type": "markdown",
   "id": "bf14fed1",
   "metadata": {},
   "source": [
    "## Resultados y Comparación"
   ]
  },
  {
   "cell_type": "markdown",
   "id": "ad3d64db",
   "metadata": {},
   "source": [
    "\n",
    "**Modelo Base:**\n",
    "- ROC AUC: 0.628\n",
    "- Recall clase minoritaria: 0.01\n",
    "- Accuracy: 0.89\n",
    "\n",
    "**Con Mejoras:**\n",
    "- ROC AUC: 0.627\n",
    "- Precision clase minoritaria: 0.58\n",
    "- Recall clase minoritaria: 0.01 (sin mejora)\n",
    "- Accuracy: 0.89\n",
    "\n",
    "> Aunque el recall sigue siendo bajo, se observó una leve mejora en la precisión de la clase minoritaria y mayor estabilidad en la pérdida de validación.\n"
   ]
  },
  {
   "cell_type": "markdown",
   "id": "5e0a8534",
   "metadata": {},
   "source": [
    "## Próximos pasos sugeridos"
   ]
  },
  {
   "cell_type": "markdown",
   "id": "01a36056",
   "metadata": {},
   "source": [
    "\n",
    "- Implementar técnicas de sobremuestreo o submuestreo.\n",
    "- Probar optimización de hiperparámetros (config.yaml).\n",
    "- Aplicar técnicas de interpretabilidad como SHAP o LIME.\n"
   ]
  }
 ],
 "metadata": {
  "language_info": {
   "name": "python"
  }
 },
 "nbformat": 4,
 "nbformat_minor": 5
}
