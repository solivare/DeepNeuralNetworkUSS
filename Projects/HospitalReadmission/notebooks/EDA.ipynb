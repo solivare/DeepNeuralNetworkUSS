{
 "cells": [
  {
   "cell_type": "markdown",
   "metadata": {},
   "source": [
    "# Exploración de Datos (EDA)\n",
    "\n",
    "Este notebook realiza un análisis exploratorio del dataset de readmisión hospitalaria. Puedes correrlo en Google Colab o localmente."
   ]
  },
  {
   "cell_type": "code",
   "execution_count": null,
   "metadata": {},
   "outputs": [],
   "source": [
    "# 📌 Montar Google Drive si estás en Colab\n",
    "import os\n",
    "IN_COLAB = 'google.colab' in str(get_ipython())\n",
    "if IN_COLAB:\n",
    "    from google.colab import drive\n",
    "    drive.mount('/content/drive')\n",
    "    BASE_PATH = '/content/drive/MyDrive/Hospital_Readmission'\n",
    "else:\n",
    "    BASE_PATH = '.'"
   ]
  },
  {
   "cell_type": "code",
   "execution_count": null,
   "metadata": {},
   "outputs": [],
   "source": [
    "# Define BASE_PATH como el directorio actual\n",
    "os.chdir(BASE_PATH)\n",
    "print(f\"Directorio actual: {os.getcwd()}\")"
   ]
  },
  {
   "cell_type": "code",
   "execution_count": null,
   "metadata": {},
   "outputs": [],
   "source": [
    "# 📊 Cargar datos\n",
    "import pandas as pd\n",
    "#data_path = os.path.join(BASE_PATH, '../data/hospital_readmission_light.csv')\n",
    "data_path = os.path.join(BASE_PATH, '../data/diabetic_data.csv')\n",
    "df = pd.read_csv(data_path)\n",
    "df.head()"
   ]
  },
  {
   "cell_type": "markdown",
   "metadata": {},
   "source": [
    "## Estadísticas generales"
   ]
  },
  {
   "cell_type": "code",
   "execution_count": null,
   "metadata": {},
   "outputs": [],
   "source": [
    "df.info()\n",
    "df.describe(include='all')"
   ]
  },
  {
   "cell_type": "markdown",
   "metadata": {},
   "source": [
    "## Distribución de la variable objetivo (`readmitted`)"
   ]
  },
  {
   "cell_type": "code",
   "execution_count": null,
   "metadata": {},
   "outputs": [],
   "source": [
    "import seaborn as sns\n",
    "import matplotlib.pyplot as plt\n",
    "\n",
    "sns.countplot(x='readmitted', data=df)\n",
    "plt.title('Distribución de la variable objetivo')\n",
    "plt.show()"
   ]
  },
  {
   "cell_type": "markdown",
   "metadata": {},
   "source": [
    "## Variables categóricas y numéricas (histogramas)"
   ]
  },
  {
   "cell_type": "code",
   "execution_count": null,
   "metadata": {},
   "outputs": [],
   "source": [
    "# Renombrar las columnas para que sean más descriptivas y en castellano\n",
    "df.rename(columns={\n",
    "    'race': 'Raza',\n",
    "    'gender': 'Sexo',\n",
    "    'age': 'Edad',\n",
    "    'time_in_hospital': 'Tiempo_en_hospital',\n",
    "    'num_lab_procedures': 'Num_procedimientos_lab',\n",
    "    'num_procedures': 'Num_procedimientos',\n",
    "    'num_medications': 'Num_medicamentos',\n",
    "    'number_outpatient': 'Num_visitas_ambulatorias',\n",
    "    'number_emergency': 'Num_visitas_urgencias',\n",
    "    'number_inpatient': 'Num_hospitalizaciones',\n",
    "    'diag_1': 'Diagnostico_1',\n",
    "    'diag_2': 'Diagnostico_2',\n",
    "    'diag_3': 'Diagnostico_3',\n",
    "    'number_diagnoses': 'Num_diagnosticos',\n",
    "    'readmitted': 'Readmitido'\n",
    "}, inplace=True)\n",
    "# Verificar los cambios\n",
    "df.head()"
   ]
  },
  {
   "cell_type": "code",
   "execution_count": null,
   "metadata": {},
   "outputs": [],
   "source": [
    "# Podrias graficar nuevamente las variables con los nuevos nombres? Podrias ademas indicar que 1 significa que el paciente fue readmitido y 0 que no?\n",
    "for col in df.select_dtypes(include=['float64', 'int64']).columns:\n",
    "    plt.figure(figsize=(10, 6))\n",
    "    sns.boxplot(x='Readmitido', y=col, data=df)\n",
    "    plt.xticks([0, 1], ['No', 'Si'])\n",
    "    plt.title(f'{col} por Readmisión')\n",
    "    plt.show()\n",
    "# Visualización de la relación entre variables categóricas y la variable objetivo\n",
    "for col in df.select_dtypes(include=['object']).columns:\n",
    "    if col != 'Readmitido':\n",
    "        plt.figure(figsize=(10, 6))\n",
    "        sns.countplot(x='Readmitido', hue=col, data=df)\n",
    "        plt.title(f'Readmisión por {col}')\n",
    "        plt.xticks(rotation=45)\n",
    "        plt.xticks([0, 1], ['No', 'Si'])\n",
    "        plt.show()"
   ]
  }
 ],
 "metadata": {
  "kernelspec": {
   "display_name": "base",
   "language": "python",
   "name": "python3"
  },
  "language_info": {
   "codemirror_mode": {
    "name": "ipython",
    "version": 3
   },
   "file_extension": ".py",
   "mimetype": "text/x-python",
   "name": "python",
   "nbconvert_exporter": "python",
   "pygments_lexer": "ipython3",
   "version": "3.12.9"
  }
 },
 "nbformat": 4,
 "nbformat_minor": 2
}
