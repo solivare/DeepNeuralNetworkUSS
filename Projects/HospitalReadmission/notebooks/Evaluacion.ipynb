{
 "cells": [
  {
   "cell_type": "code",
   "id": "ef418699",
   "metadata": {
    "ExecuteTime": {
     "end_time": "2025-07-04T21:01:28.103658Z",
     "start_time": "2025-07-04T21:00:48.020664Z"
    }
   },
   "source": [
    "# Evaluación y comparación de modelos\n",
    "import pandas as pd\n",
    "from sklearn.model_selection import train_test_split\n",
    "from sklearn.preprocessing import StandardScaler\n",
    "from sklearn.linear_model import LogisticRegression\n",
    "from tensorflow.keras.models import load_model"
   ],
   "outputs": [
    {
     "name": "stderr",
     "output_type": "stream",
     "text": [
      "2025-07-04 17:00:54.577056: I tensorflow/core/platform/cpu_feature_guard.cc:210] This TensorFlow binary is optimized to use available CPU instructions in performance-critical operations.\n",
      "To enable the following instructions: SSE4.1 SSE4.2 AVX AVX2 FMA, in other operations, rebuild TensorFlow with the appropriate compiler flags.\n"
     ]
    }
   ],
   "execution_count": 1
  },
  {
   "cell_type": "code",
   "id": "2b2ab151",
   "metadata": {
    "ExecuteTime": {
     "end_time": "2025-07-04T21:01:36.428743Z",
     "start_time": "2025-07-04T21:01:36.420779Z"
    }
   },
   "source": [
    "import sys\n",
    "sys.path.append(\"../src\")  # O \"../src\" si estás en otra carpeta\n",
    "import evaluate as ev"
   ],
   "outputs": [],
   "execution_count": 2
  },
  {
   "cell_type": "code",
   "id": "ce8889e4",
   "metadata": {
    "ExecuteTime": {
     "end_time": "2025-07-04T21:02:16.221496Z",
     "start_time": "2025-07-04T21:01:42.194938Z"
    }
   },
   "source": [
    "# Cargar datos\n",
    "df = pd.read_csv(\"../data/hospital_readmission_clean.csv\")\n",
    "X = df.drop(\"readmitted\", axis=1)\n",
    "y = df[\"readmitted\"]"
   ],
   "outputs": [],
   "execution_count": 3
  },
  {
   "cell_type": "code",
   "execution_count": null,
   "id": "27f729e7",
   "metadata": {},
   "outputs": [],
   "source": [
    "# Cargar el modelo de NN\n",
    "model_nn = load_model(\"../models/modelo_nn.keras\")"
   ]
  },
  {
   "cell_type": "code",
   "id": "365dedd4",
   "metadata": {
    "ExecuteTime": {
     "end_time": "2025-07-04T21:03:58.793963Z",
     "start_time": "2025-07-04T21:03:32.463348Z"
    }
   },
   "source": [
    "# Escalar y dividir\n",
    "scaler = StandardScaler()\n",
    "X_scaled = scaler.fit_transform(X)\n",
    "X_train, X_test, y_train, y_test = train_test_split(X_scaled, y, test_size=0.2, random_state=42, stratify=y)"
   ],
   "outputs": [],
   "execution_count": 4
  },
  {
   "cell_type": "code",
   "id": "c6d76bfd",
   "metadata": {
    "ExecuteTime": {
     "end_time": "2025-07-04T21:04:14.550315Z",
     "start_time": "2025-07-04T21:04:05.253722Z"
    }
   },
   "source": [
    "# Modelo base\n",
    "base_model = LogisticRegression()\n",
    "base_model.fit(X_train, y_train)\n",
    "y_pred_base = base_model.predict(X_test)\n",
    "y_pred_log = base_model.predict_proba(X_test)[:, 1]"
   ],
   "outputs": [],
   "execution_count": 5
  },
  {
   "cell_type": "code",
   "id": "31541327",
   "metadata": {
    "ExecuteTime": {
     "end_time": "2025-07-04T21:05:04.847911Z",
     "start_time": "2025-07-04T21:05:04.237526Z"
    }
   },
   "source": [
    "# Evaluar modelo base\n",
    "ev.evaluate_model(y_test, y_pred_base, y_pred_log, model_name=\"Regresión Logística\")\n",
    "ev.plot_confusion_matrix(y_test, y_pred_base, model_name=\"Regresión Logística\")"
   ],
   "outputs": [
    {
     "name": "stdout",
     "output_type": "stream",
     "text": [
      "\n",
      "📊 Evaluación del modelo: Regresión Logística\n",
      "              precision    recall  f1-score   support\n",
      "\n",
      "           0       0.89      0.99      0.94     17665\n",
      "           1       0.33      0.03      0.05      2234\n",
      "\n",
      "    accuracy                           0.88     19899\n",
      "   macro avg       0.61      0.51      0.49     19899\n",
      "weighted avg       0.83      0.88      0.84     19899\n",
      "\n",
      "F1 Score     : 0.0504\n",
      "Precision    : 0.3297\n",
      "Recall       : 0.0273\n",
      "ROC AUC      : 0.6312\n"
     ]
    },
    {
     "data": {
      "text/plain": [
       "<Figure size 640x480 with 2 Axes>"
      ],
      "image/png": "[encoded data removed]"
     },
     "metadata": {},
     "output_type": "display_data"
    }
   ],
   "execution_count": 6
  },
  {
   "cell_type": "code",
   "id": "b09504f5",
   "metadata": {
    "ExecuteTime": {
     "end_time": "2025-07-04T21:05:17.534229Z",
     "start_time": "2025-07-04T21:05:15.735974Z"
    }
   },
   "source": [
    "# Red neuronal (ya entrenada en memoria como `model`)\n",
    "y_proba_nn = model_nn.predict(X_test).flatten()\n",
    "y_pred_nn = (y_proba_nn > 0.5).astype(int)\n",
    "\n",
    "ev.evaluate_model(y_test, y_pred_nn, y_proba_nn, model_name=\"Red Neuronal\")\n",
    "ev.plot_confusion_matrix(y_test, y_pred_nn, model_name=\"Red Neuronal\")\n"
   ],
   "outputs": [
    {
     "ename": "NameError",
     "evalue": "name 'model_nn' is not defined",
     "output_type": "error",
     "traceback": [
      "\u001B[0;31m---------------------------------------------------------------------------\u001B[0m",
      "\u001B[0;31mNameError\u001B[0m                                 Traceback (most recent call last)",
      "Cell \u001B[0;32mIn[7], line 2\u001B[0m\n\u001B[1;32m      1\u001B[0m \u001B[38;5;66;03m# Red neuronal (ya entrenada en memoria como `model`)\u001B[39;00m\n\u001B[0;32m----> 2\u001B[0m y_proba_nn \u001B[38;5;241m=\u001B[39m \u001B[43mmodel_nn\u001B[49m\u001B[38;5;241m.\u001B[39mpredict(X_test)\u001B[38;5;241m.\u001B[39mflatten()\n\u001B[1;32m      3\u001B[0m y_pred_nn \u001B[38;5;241m=\u001B[39m (y_proba_nn \u001B[38;5;241m>\u001B[39m \u001B[38;5;241m0.5\u001B[39m)\u001B[38;5;241m.\u001B[39mastype(\u001B[38;5;28mint\u001B[39m)\n\u001B[1;32m      5\u001B[0m ev\u001B[38;5;241m.\u001B[39mevaluate_model(y_test, y_pred_nn, y_proba_nn, model_name\u001B[38;5;241m=\u001B[39m\u001B[38;5;124m\"\u001B[39m\u001B[38;5;124mRed Neuronal\u001B[39m\u001B[38;5;124m\"\u001B[39m)\n",
      "\u001B[0;31mNameError\u001B[0m: name 'model_nn' is not defined"
     ]
    }
   ],
   "execution_count": 7
  },
  {
   "cell_type": "code",
   "execution_count": null,
   "id": "9720b047",
   "metadata": {},
   "outputs": [],
   "source": [
    "# Comparar curvas ROC\n",
    "ev.plot_roc_comparison(y_test, y_proba_nn, y_test, y_pred_log,\n",
    "                    label1=\"Red Neuronal\", label2=\"Regresión Logística\")"
   ]
  },
  {
   "cell_type": "code",
   "execution_count": null,
   "id": "33f7513c",
   "metadata": {},
   "outputs": [],
   "source": [
    "#from src.evaluate import compare_models_metrics\n",
    "\n",
    "# Probabilidades\n",
    "y_pred_log_proba = base_model.predict_proba(X_test)[:, 1]\n",
    "\n",
    "# Clases binarias\n",
    "y_pred_log = (y_pred_log_proba >= 0.5).astype(int)\n",
    "\n",
    "comparison_df = ev.compare_models_metrics(\n",
    "    y_test, y_pred_nn, y_proba_nn,\n",
    "    y_test, y_pred_log, y_pred_log_proba,\n",
    "    model_name_1=\"Red Neuronal\",\n",
    "    model_name_2=\"Regresión Logística\"\n",
    ")\n",
    "\n",
    "import pandas as pd\n",
    "from IPython.display import display\n",
    "display(comparison_df)"
   ]
  },
  {
   "cell_type": "code",
   "execution_count": null,
   "id": "a4714ec5",
   "metadata": {},
   "outputs": [],
   "source": [
    "# Probabilidades del modelo de red neuronal\n",
    "results_df = ev.evaluate_thresholds(y_test, y_proba_nn)\n",
    "\n",
    "import matplotlib.pyplot as plt\n",
    "\n",
    "plt.figure(figsize=(10,6))\n",
    "plt.plot(results_df[\"Threshold\"], results_df[\"Precision\"], label=\"Precision\")\n",
    "plt.plot(results_df[\"Threshold\"], results_df[\"Recall\"], label=\"Recall\")\n",
    "plt.plot(results_df[\"Threshold\"], results_df[\"F1-score\"], label=\"F1-score\")\n",
    "plt.xlabel(\"Threshold\")\n",
    "plt.ylabel(\"Score\")\n",
    "plt.title(\"Evaluación de métricas con distintos thresholds\")\n",
    "plt.legend()\n",
    "plt.grid(True)\n",
    "plt.show()\n",
    "\n",
    "# Mostrar tabla completa\n",
    "import pandas as pd\n",
    "from IPython.display import display\n",
    "display(results_df)"
   ]
  }
 ],
 "metadata": {
  "kernelspec": {
   "display_name": "base",
   "language": "python",
   "name": "python3"
  },
  "language_info": {
   "codemirror_mode": {
    "name": "ipython",
    "version": 3
   },
   "file_extension": ".py",
   "mimetype": "text/x-python",
   "name": "python",
   "nbconvert_exporter": "python",
   "pygments_lexer": "ipython3",
   "version": "3.12.9"
  }
 },
 "nbformat": 4,
 "nbformat_minor": 5
}
