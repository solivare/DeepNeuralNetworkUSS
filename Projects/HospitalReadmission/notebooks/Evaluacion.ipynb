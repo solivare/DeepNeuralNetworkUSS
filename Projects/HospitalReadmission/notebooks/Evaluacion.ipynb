{
 "cells": [
  {
   "cell_type": "code",
   "execution_count": null,
   "id": "ef418699",
   "metadata": {},
   "outputs": [],
   "source": [
    "# Evaluación y comparación de modelos\n",
    "import pandas as pd\n",
    "from sklearn.model_selection import train_test_split\n",
    "from sklearn.preprocessing import StandardScaler\n",
    "from sklearn.linear_model import LogisticRegression\n",
    "from tensorflow.keras.models import load_model"
   ]
  },
  {
   "cell_type": "code",
   "execution_count": null,
   "id": "2b2ab151",
   "metadata": {},
   "outputs": [],
   "source": [
    "import sys\n",
    "sys.path.append(\"../src\")  # O \"../src\" si estás en otra carpeta\n",
    "import evaluate as ev"
   ]
  },
  {
   "cell_type": "code",
   "execution_count": null,
   "id": "ce8889e4",
   "metadata": {},
   "outputs": [],
   "source": [
    "# Cargar datos\n",
    "df = pd.read_csv(\"../data/hospital_readmission_clean.csv\")\n",
    "X = df.drop(\"readmitted\", axis=1)\n",
    "y = df[\"readmitted\"]"
   ]
  },
  {
   "cell_type": "code",
   "execution_count": null,
   "id": "27f729e7",
   "metadata": {},
   "outputs": [],
   "source": [
    "# Cargar el modelo de NN\n",
    "model_nn = load_model(\"../models/modelo_nn.keras\")"
   ]
  },
  {
   "cell_type": "code",
   "execution_count": null,
   "id": "365dedd4",
   "metadata": {},
   "outputs": [],
   "source": [
    "# Escalar y dividir\n",
    "scaler = StandardScaler()\n",
    "X_scaled = scaler.fit_transform(X)\n",
    "X_train, X_test, y_train, y_test = train_test_split(X_scaled, y, test_size=0.2, random_state=42, stratify=y)"
   ]
  },
  {
   "cell_type": "code",
   "execution_count": null,
   "id": "c6d76bfd",
   "metadata": {},
   "outputs": [],
   "source": [
    "# Modelo base\n",
    "base_model = LogisticRegression()\n",
    "base_model.fit(X_train, y_train)\n",
    "y_pred_base = base_model.predict(X_test)\n",
    "y_pred_log = base_model.predict_proba(X_test)[:, 1]"
   ]
  },
  {
   "cell_type": "code",
   "execution_count": null,
   "id": "31541327",
   "metadata": {},
   "outputs": [],
   "source": [
    "# Evaluar modelo base\n",
    "ev.evaluate_model(y_test, y_pred_base, y_pred_log, model_name=\"Regresión Logística\")\n",
    "ev.plot_confusion_matrix(y_test, y_pred_base, model_name=\"Regresión Logística\")"
   ]
  },
  {
   "cell_type": "code",
   "execution_count": null,
   "id": "b09504f5",
   "metadata": {},
   "outputs": [],
   "source": [
    "# Red neuronal (ya entrenada en memoria como `model`)\n",
    "y_proba_nn = model_nn.predict(X_test).flatten()\n",
    "y_pred_nn = (y_proba_nn > 0.5).astype(int)\n",
    "\n",
    "ev.evaluate_model(y_test, y_pred_nn, y_proba_nn, model_name=\"Red Neuronal\")\n",
    "ev.plot_confusion_matrix(y_test, y_pred_nn, model_name=\"Red Neuronal\")\n"
   ]
  },
  {
   "cell_type": "code",
   "execution_count": null,
   "id": "9720b047",
   "metadata": {},
   "outputs": [],
   "source": [
    "# Comparar curvas ROC\n",
    "ev.plot_roc_comparison(y_test, y_proba_nn, y_test, y_pred_log,\n",
    "                    label1=\"Red Neuronal\", label2=\"Regresión Logística\")"
   ]
  },
  {
   "cell_type": "code",
   "execution_count": null,
   "id": "33f7513c",
   "metadata": {},
   "outputs": [],
   "source": [
    "#from src.evaluate import compare_models_metrics\n",
    "\n",
    "# Probabilidades\n",
    "y_pred_log_proba = base_model.predict_proba(X_test)[:, 1]\n",
    "\n",
    "# Clases binarias\n",
    "y_pred_log = (y_pred_log_proba >= 0.5).astype(int)\n",
    "\n",
    "comparison_df = ev.compare_models_metrics(\n",
    "    y_test, y_pred_nn, y_proba_nn,\n",
    "    y_test, y_pred_log, y_pred_log_proba,\n",
    "    model_name_1=\"Red Neuronal\",\n",
    "    model_name_2=\"Regresión Logística\"\n",
    ")\n",
    "\n",
    "import pandas as pd\n",
    "from IPython.display import display\n",
    "display(comparison_df)"
   ]
  },
  {
   "cell_type": "code",
   "execution_count": null,
   "id": "a4714ec5",
   "metadata": {},
   "outputs": [],
   "source": [
    "# Probabilidades del modelo de red neuronal\n",
    "results_df = ev.evaluate_thresholds(y_test, y_proba_nn)\n",
    "\n",
    "import matplotlib.pyplot as plt\n",
    "\n",
    "plt.figure(figsize=(10,6))\n",
    "plt.plot(results_df[\"Threshold\"], results_df[\"Precision\"], label=\"Precision\")\n",
    "plt.plot(results_df[\"Threshold\"], results_df[\"Recall\"], label=\"Recall\")\n",
    "plt.plot(results_df[\"Threshold\"], results_df[\"F1-score\"], label=\"F1-score\")\n",
    "plt.xlabel(\"Threshold\")\n",
    "plt.ylabel(\"Score\")\n",
    "plt.title(\"Evaluación de métricas con distintos thresholds\")\n",
    "plt.legend()\n",
    "plt.grid(True)\n",
    "plt.show()\n",
    "\n",
    "# Mostrar tabla completa\n",
    "import pandas as pd\n",
    "from IPython.display import display\n",
    "display(results_df)"
   ]
  }
 ],
 "metadata": {
  "kernelspec": {
   "display_name": "base",
   "language": "python",
   "name": "python3"
  },
  "language_info": {
   "codemirror_mode": {
    "name": "ipython",
    "version": 3
   },
   "file_extension": ".py",
   "mimetype": "text/x-python",
   "name": "python",
   "nbconvert_exporter": "python",
   "pygments_lexer": "ipython3",
   "version": "3.12.9"
  }
 },
 "nbformat": 4,
 "nbformat_minor": 5
}
