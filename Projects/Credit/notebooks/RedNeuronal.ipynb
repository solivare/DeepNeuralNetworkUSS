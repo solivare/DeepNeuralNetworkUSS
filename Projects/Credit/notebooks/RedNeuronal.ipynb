{
 "cells": [
  {
   "cell_type": "code",
   "execution_count": null,
   "id": "d19ab4b5",
   "metadata": {},
   "outputs": [],
   "source": [
    "### 🔧 TAREA\n",
    "#Antes de entrenar la red neuronal, modifica los hiperparámetros en `config.yaml`, especialmente:\n",
    "#- `hidden_layers`: cambia el número de capas o neuronas.\n",
    "#- `activation`: prueba funciones como `tanh` o `elu`.\n",
    "#- `epochs`: aumenta o reduce el número de épocas.\n",
    "#\n",
    "#Luego, vuelve a ejecutar este notebook y observa cómo cambia el rendimiento."
   ]
  },
  {
   "cell_type": "code",
   "execution_count": null,
   "id": "de0cee39",
   "metadata": {},
   "outputs": [],
   "source": [
    "import os\n",
    "print(os.getcwd())\n",
    "\n",
    "import sys\n",
    "sys.path.append(\"../src\")\n",
    "\n",
    "import train\n",
    "import model\n",
    "import utils\n",
    "import evaluate as ev\n",
    "import pandas as pd\n",
    "import numpy as np\n",
    "import yaml"
   ]
  },
  {
   "cell_type": "code",
   "execution_count": null,
   "id": "67482e6f",
   "metadata": {},
   "outputs": [],
   "source": [
    "# 🔧 Cargar configuración\n",
    "config = train.load_config(\"../config.yaml\")\n",
    "\n",
    "# 📦 Cargar y preparar los datos\n",
    "X, y = train.load_data(\"../data/credit_clean.csv\")\n",
    "X_train, X_test, y_train, y_test = train.preprocess(X, y, config)"
   ]
  },
  {
   "cell_type": "code",
   "execution_count": null,
   "id": "6289daa3",
   "metadata": {},
   "outputs": [],
   "source": [
    "# 🧠 Construir el modelo\n",
    "input_dim = X_train.shape[1]\n",
    "nn_model = model.build_model(config, input_dim)"
   ]
  },
  {
   "cell_type": "code",
   "execution_count": null,
   "id": "9ad3bfe5",
   "metadata": {},
   "outputs": [],
   "source": [
    "# 🚀 Entrenar el modelo\n",
    "history = train.train_model(nn_model, X_train, y_train, config)"
   ]
  },
  {
   "cell_type": "code",
   "execution_count": null,
   "id": "030a028b",
   "metadata": {},
   "outputs": [],
   "source": [
    "# 💾 Guardar modelo entrenado\n",
    "utils.save_model(nn_model, path=\"../models/nn_model.keras\")"
   ]
  },
  {
   "cell_type": "code",
   "execution_count": null,
   "id": "46c81119",
   "metadata": {},
   "outputs": [],
   "source": [
    "# 📈 Visualizar evolución del entrenamiento\n",
    "utils.plot_training_history(history, model_name=\"Red Neuronal\")"
   ]
  },
  {
   "cell_type": "code",
   "execution_count": null,
   "id": "12f82efa",
   "metadata": {},
   "outputs": [],
   "source": [
    "### 📊 Pregunta de reflexión\n",
    "# ¿Ves signos de sobreajuste en las curvas de pérdida o precisión?  \n",
    "# ¿Cuál fue la época donde la validación alcanzó su mejor punto?  \n",
    "# ¿Qué pasaría si entrenaras con más (o menos) datos?"
   ]
  }
 ],
 "metadata": {
  "kernelspec": {
   "display_name": "3.11.9",
   "language": "python",
   "name": "python3"
  },
  "language_info": {
   "codemirror_mode": {
    "name": "ipython",
    "version": 3
   },
   "file_extension": ".py",
   "mimetype": "text/x-python",
   "name": "python",
   "nbconvert_exporter": "python",
   "pygments_lexer": "ipython3",
   "version": "3.11.9"
  }
 },
 "nbformat": 4,
 "nbformat_minor": 5
}
