{
 "cells": [
  {
   "cell_type": "code",
   "execution_count": null,
   "id": "846cf151",
   "metadata": {},
   "outputs": [],
   "source": [
    "### 🔧 TAREA\n",
    "#Explora el dataset e intenta responder:\n",
    "#\n",
    "#- ¿Qué variables tienen valores faltantes?\n",
    "#- ¿Qué variables parecen más correlacionadas con el target?\n",
    "#- ¿Hay valores extremos que deberías tratar?"
   ]
  },
  {
   "cell_type": "code",
   "execution_count": null,
   "id": "79c6be83",
   "metadata": {},
   "outputs": [],
   "source": [
    "import pandas as pd\n",
    "import numpy as np\n",
    "import matplotlib.pyplot as plt\n",
    "import seaborn as sns"
   ]
  },
  {
   "cell_type": "code",
   "execution_count": null,
   "id": "f7c35302",
   "metadata": {},
   "outputs": [],
   "source": [
    "# Configuración de estilo\n",
    "sns.set(style=\"whitegrid\")"
   ]
  },
  {
   "cell_type": "code",
   "execution_count": null,
   "id": "5e9ae7b5",
   "metadata": {},
   "outputs": [],
   "source": [
    "# 📥 Cargar el dataset limpio\n",
    "df = pd.read_csv(\"../data/credit_clean.csv\")\n",
    "\n",
    "# 👁️ Primer vistazo a los datos\n",
    "df.head()\n",
    "\n",
    "# 🧼 Información general\n",
    "df.info()"
   ]
  },
  {
   "cell_type": "code",
   "execution_count": null,
   "id": "57dfeefb",
   "metadata": {},
   "outputs": [],
   "source": [
    "# 🔍 Distribución de la variable objetivo\n",
    "target_counts = df[\"SeriousDlqin2yrs\"].value_counts(normalize=True)\n",
    "print(\"Distribución del target:\")\n",
    "print(target_counts)\n",
    "\n",
    "sns.countplot(data=df, x=\"SeriousDlqin2yrs\")\n",
    "plt.title(\"Distribución de la variable objetivo\")\n",
    "plt.xlabel(\"Mora en los próximos 2 años\")\n",
    "plt.ylabel(\"Cantidad de personas\")\n",
    "plt.xticks([0, 1], [\"No\", \"Sí\"])\n",
    "plt.show()"
   ]
  },
  {
   "cell_type": "code",
   "execution_count": null,
   "id": "b815aa94",
   "metadata": {},
   "outputs": [],
   "source": [
    "# 📊 Estadísticas descriptivas\n",
    "df.describe()"
   ]
  },
  {
   "cell_type": "code",
   "execution_count": null,
   "id": "ce42edb9",
   "metadata": {},
   "outputs": [],
   "source": [
    "# 📉 Boxplots por variable numérica\n",
    "for col in df.columns:\n",
    "    if col != \"SeriousDlqin2yrs\":\n",
    "        plt.figure(figsize=(8, 4))\n",
    "        sns.boxplot(x=\"SeriousDlqin2yrs\", y=col, data=df)\n",
    "        plt.title(f\"{col} por clase\")\n",
    "        plt.xticks([0, 1], [\"No\", \"Sí\"])\n",
    "        plt.tight_layout()\n",
    "        plt.show()"
   ]
  },
  {
   "cell_type": "code",
   "execution_count": null,
   "id": "9fd4f609",
   "metadata": {},
   "outputs": [],
   "source": [
    "# 🧠 TODO: Agregar histograma por variable (para tarea)\n",
    "# for col in df.columns:\n",
    "#     if col != \"SeriousDlqin2yrs\":\n",
    "#         plt.hist(df[col], bins=30)\n",
    "#         plt.title(f\"Histograma de {col}\")\n",
    "#         plt.show()"
   ]
  },
  {
   "cell_type": "code",
   "execution_count": null,
   "id": "cb0669e9",
   "metadata": {},
   "outputs": [],
   "source": [
    "# 🔗 Mapa de correlación\n",
    "plt.figure(figsize=(10, 8))\n",
    "sns.heatmap(df.corr(), annot=True, cmap=\"coolwarm\", fmt=\".2f\")\n",
    "plt.title(\"Matriz de correlación entre variables\")\n",
    "plt.show()"
   ]
  },
  {
   "cell_type": "code",
   "execution_count": null,
   "id": "7b8e0dc9",
   "metadata": {},
   "outputs": [],
   "source": [
    "# 📝 TODO: Identificar outliers o valores extremos (completar)\n",
    "# - Analizar la columna RevolvingUtilizationOfUnsecuredLines\n",
    "# - Verificar valores inusuales en MonthlyIncome o DebtRatio"
   ]
  },
  {
   "cell_type": "code",
   "execution_count": null,
   "id": "0fe32537",
   "metadata": {},
   "outputs": [],
   "source": [
    "# 🧩 Comentarios\n",
    "# - ¿Qué variables parecen más correlacionadas con la clase objetivo?\n",
    "# - ¿Hay variables que podrían necesitar transformación o escalamiento?\n",
    "# - ¿Existe desbalance significativo?"
   ]
  },
  {
   "cell_type": "code",
   "execution_count": null,
   "id": "acfda833",
   "metadata": {},
   "outputs": [],
   "source": [
    "### 📊 Pregunta de reflexión\n",
    "#Después del análisis exploratorio:\n",
    "#\n",
    "#- ¿Qué variable crees que será más relevante para predecir el default?\n",
    "#- ¿Alguna variable presenta un comportamiento que te parezca inesperado?"
   ]
  }
 ],
 "metadata": {
  "kernelspec": {
   "display_name": "3.11.9",
   "language": "python",
   "name": "python3"
  },
  "language_info": {
   "codemirror_mode": {
    "name": "ipython",
    "version": 3
   },
   "file_extension": ".py",
   "mimetype": "text/x-python",
   "name": "python",
   "nbconvert_exporter": "python",
   "pygments_lexer": "ipython3",
   "version": "3.11.9"
  }
 },
 "nbformat": 4,
 "nbformat_minor": 5
}
