{
  "cells": [
    {
      "cell_type": "code",
      "execution_count": null,
      "id": "04119cce",
      "metadata": {
        "id": "04119cce"
      },
      "outputs": [],
      "source": [
        "# ⚙️ Setup inicial en Google Colab\n",
        "\n",
        "# Si no tienes git instalado o es tu primera vez:\n",
        "# !apt-get install git\n",
        "\n",
        "# 🚨 Si es repositorio privado, deberás usar tu token\n",
        "# Clona el repositorio del curso (puedes cambiar este link si ya lo moviste)\n",
        "!git clone https://github.com/solivare/DeepNeuralNetworkUSS.git\n",
        "\n",
        "# Cambia al directorio del proyecto\n",
        "%cd DeepNeuralNetworkUSS/Projects/Credit/\n",
        "\n",
        "# Reinstala dependencias si es necesario\n",
        "!pip install -r requirements.txt"
      ]
    },
    {
      "cell_type": "code",
      "execution_count": null,
      "id": "606760af",
      "metadata": {
        "id": "606760af"
      },
      "outputs": [],
      "source": [
        "# 🔧 Ajuste de ruta de imports\n",
        "import os\n",
        "import sys\n",
        "\n",
        "# Añadir path absoluto de la carpeta src\n",
        "src_path = os.path.abspath(\"src\")\n",
        "if src_path not in sys.path:\n",
        "    sys.path.append(src_path)"
      ]
    },
    {
      "cell_type": "code",
      "execution_count": null,
      "id": "66c9d155",
      "metadata": {
        "id": "66c9d155"
      },
      "outputs": [],
      "source": [
        "# 🧼 Preprocesamiento de los datos\n",
        "%cd src\n",
        "!python preprocess.py\n",
        "%cd .."
      ]
    },
    {
      "cell_type": "code",
      "execution_count": null,
      "id": "bfe8dcba",
      "metadata": {
        "id": "bfe8dcba"
      },
      "outputs": [],
      "source": [
        "# 🧠 Entrenamiento de la red neuronal\n",
        "\n",
        "import train\n",
        "import model\n",
        "import utils\n",
        "import evaluate as ev\n",
        "import pandas as pd\n",
        "\n",
        "config = train.load_config(\"config.yaml\")\n",
        "X, y = train.load_data(\"data/credit_clean.csv\")\n",
        "X_train, X_test, y_train, y_test = train.preprocess(X, y, config)\n",
        "\n",
        "nn_model = model.build_model(config, X_train.shape[1])\n",
        "history = train.train_model(nn_model, X_train, y_train, config)\n",
        "\n",
        "utils.plot_training_history(history, model_name=\"Red Neuronal\")\n",
        "utils.save_model(nn_model, path=\"models/nn_model.keras\")"
      ]
    },
    {
      "cell_type": "code",
      "execution_count": null,
      "id": "c38e59c2",
      "metadata": {
        "id": "c38e59c2"
      },
      "outputs": [],
      "source": [
        "# 📈 Evaluación y comparación con Regresión Logística\n",
        "\n",
        "from sklearn.linear_model import LogisticRegression\n",
        "from tensorflow.keras.models import load_model\n",
        "\n",
        "# Modelo base\n",
        "base_model = LogisticRegression(max_iter=1000)\n",
        "base_model.fit(X_train, y_train)\n",
        "y_pred_log = base_model.predict(X_test)\n",
        "y_proba_log = base_model.predict_proba(X_test)[:, 1]\n",
        "\n",
        "# Red Neuronal\n",
        "nn_model = load_model(\"models/nn_model.keras\")\n",
        "y_proba_nn = nn_model.predict(X_test).flatten()\n",
        "y_pred_nn = ev.predict_with_threshold(y_proba_nn)\n",
        "\n",
        "# Evaluación\n",
        "ev.plot_confusion_matrix(y_test, y_pred_log, model_name=\"Regresión Logística\")\n",
        "ev.plot_confusion_matrix(y_test, y_pred_nn, model_name=\"Red Neuronal\")\n",
        "\n",
        "ev.plot_roc_comparison(y_test, y_proba_nn, y_test, y_proba_log)\n",
        "ev.plot_precision_recall_curves(y_test, y_proba_nn, y_test, y_proba_log)\n",
        "\n",
        "metrics_table = ev.compare_models_metrics(\n",
        "    y_test, y_pred_nn, y_proba_nn,\n",
        "    y_test, y_pred_log, y_proba_log,\n",
        "    model_name_1=\"Red Neuronal\", model_name_2=\"Regresión Logística\"\n",
        ")\n",
        "\n",
        "import IPython.display as display\n",
        "display.display(metrics_table)"
      ]
    },
    {
      "cell_type": "code",
      "execution_count": null,
      "id": "6ceb29a3",
      "metadata": {
        "id": "6ceb29a3"
      },
      "outputs": [],
      "source": [
        "## ✅ Preguntas de reflexión final\n",
        "\n",
        "### 🔧 Sobre el modelo de red neuronal:\n",
        "#- ¿Qué arquitectura usaste? ¿Probaste cambiar el número de capas o neuronas?\n",
        "#- ¿Qué función de activación usaste? ¿Qué impacto crees que tuvo?\n",
        "#- ¿El modelo mostró signos de sobreajuste? ¿Cómo lo notaste?\n",
        "\n",
        "### 📊 Sobre la evaluación del modelo:\n",
        "#- ¿Cuál modelo funcionó mejor: la red neuronal o la regresión logística?\n",
        "#- ¿En qué métrica viste mayor diferencia entre ellos? ¿Por qué crees que ocurrió?\n",
        "#- ¿La red neuronal fue más conservadora (más falsos negativos) o más arriesgada?\n",
        "\n",
        "### 🎯 Sobre la distribución de probabilidades:\n",
        "#- ¿Qué forma tiene la distribución de predicciones de tu red neuronal?\n",
        "#- ¿En qué umbral se maximiza el F1-score?\n",
        "#- ¿Crees que usar un threshold de 0.5 es razonable en este caso?\n",
        "\n",
        "## ✍️ Recomendación\n",
        "\n",
        "#Anota tus conclusiones, copia las mejores gráficas y entrega un resumen con:\n",
        "#- Métricas clave\n",
        "#- Comparación entre modelos\n",
        "#- Comentario personal sobre el rendimiento y ajustes posibles"
      ]
    }
  ],
  "metadata": {
    "accelerator": "GPU",
    "colab": {
      "gpuType": "A100",
      "machine_shape": "hm",

      "gpuType": "T4"

      "provenance": []

    },
    "kernelspec": {
      "display_name": "Python 3",
      "name": "python3"
    },
    "language_info": {
      "name": "python"
    }
  },
  "nbformat": 4,
  "nbformat_minor": 5
}
