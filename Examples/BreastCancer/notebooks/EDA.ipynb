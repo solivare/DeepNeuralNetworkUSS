{
 "cells": [
  {
   "cell_type": "code",
   "execution_count": null,
   "id": "4545d171",
   "metadata": {},
   "outputs": [],
   "source": [
    "# 🔎 Análisis exploratorio de imágenes - Dataset Cáncer de Mama\n",
    "import os\n",
    "import matplotlib.pyplot as plt\n",
    "import seaborn as sns\n",
    "from PIL import Image\n",
    "import numpy as np\n",
    "import random"
   ]
  },
  {
   "cell_type": "code",
   "execution_count": null,
   "id": "f3c87a18",
   "metadata": {},
   "outputs": [],
   "source": [
    "import yaml\n",
    "\n",
    "# Cargar configuración\n",
    "with open(\"../config.yaml\", \"r\") as f:\n",
    "    config = yaml.safe_load(f)\n",
    "\n",
    "image_root = config[\"paths\"][\"absolute_data_path\"]"
   ]
  },
  {
   "cell_type": "code",
   "execution_count": null,
   "id": "761d118f",
   "metadata": {},
   "outputs": [],
   "source": [
    "# class_0: tejido benigno, class_1: tejido maligno\n",
    "# Recorrer carpetas: subfolder/nombre_clase/imagen.png\n",
    "counts = {\"class_0\": 0, \"class_1\": 0}\n",
    "folders = os.listdir(image_root)\n",
    "\n",
    "for folder in folders:\n",
    "    subfolder_path = os.path.join(image_root, folder)\n",
    "    if os.path.isdir(subfolder_path):\n",
    "        for class_label in [\"0\", \"1\"]:\n",
    "            class_dir = os.path.join(subfolder_path, class_label)\n",
    "            if os.path.exists(class_dir):\n",
    "                n_images = len(os.listdir(class_dir))\n",
    "                counts[f\"class_{class_label}\"] += n_images\n",
    "\n",
    "print(\"Cantidad de imágenes por clase:\")\n",
    "for k, v in counts.items():\n",
    "    print(f\"{k}: {v}\")\n",
    "\n",
    "# Visualización\n",
    "sns.barplot(x=list(counts.keys()), y=list(counts.values()))\n",
    "plt.title(\"Distribución de clases (total de imágenes)\")\n",
    "plt.show()"
   ]
  },
  {
   "cell_type": "code",
   "execution_count": null,
   "id": "36cae0d5",
   "metadata": {},
   "outputs": [],
   "source": [
    "def mostrar_imagen_aleatoria(clase=\"0\"):\n",
    "    muestras = []\n",
    "    for carpeta in os.listdir(image_root):\n",
    "        path_clase = os.path.join(image_root, carpeta, clase)\n",
    "        if os.path.exists(path_clase):\n",
    "            imgs = os.listdir(path_clase)\n",
    "            if imgs:\n",
    "                muestras.append(os.path.join(path_clase, random.choice(imgs)))\n",
    "\n",
    "    img_path = random.choice(muestras)\n",
    "    img = Image.open(img_path)\n",
    "    plt.imshow(img)\n",
    "    plt.axis(\"off\")\n",
    "    plt.title(f\"Ejemplo de clase {clase}\")\n",
    "    plt.show()\n",
    "\n",
    "# Mostrar imágenes\n",
    "mostrar_imagen_aleatoria(\"0\")\n",
    "mostrar_imagen_aleatoria(\"1\")"
   ]
  },
  {
   "cell_type": "code",
   "execution_count": null,
   "id": "e8d9e65e",
   "metadata": {},
   "outputs": [],
   "source": [
    "sizes = []\n",
    "formats = []\n",
    "\n",
    "for carpeta in os.listdir(image_root):\n",
    "    for clase in [\"0\", \"1\"]:\n",
    "        path = os.path.join(image_root, carpeta, clase)\n",
    "        if os.path.exists(path):\n",
    "            for archivo in os.listdir(path):\n",
    "                try:\n",
    "                    img = Image.open(os.path.join(path, archivo))\n",
    "                    sizes.append(img.size)\n",
    "                    formats.append(img.format)\n",
    "                except:\n",
    "                    continue\n",
    "\n",
    "# Tamaños\n",
    "from collections import Counter\n",
    "size_counts = Counter(sizes)\n",
    "print(\"Tamaños de imágenes más comunes:\")\n",
    "print(size_counts.most_common(5))\n",
    "\n",
    "# Formatos\n",
    "format_counts = Counter(formats)\n",
    "print(\"\\nFormatos de imagen:\")\n",
    "print(format_counts)"
   ]
  }
 ],
 "metadata": {
  "kernelspec": {
   "display_name": "3.11.9",
   "language": "python",
   "name": "python3"
  },
  "language_info": {
   "codemirror_mode": {
    "name": "ipython",
    "version": 3
   },
   "file_extension": ".py",
   "mimetype": "text/x-python",
   "name": "python",
   "nbconvert_exporter": "python",
   "pygments_lexer": "ipython3",
   "version": "3.11.9"
  }
 },
 "nbformat": 4,
 "nbformat_minor": 5
}
