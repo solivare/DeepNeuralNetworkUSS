{
 "cells": [
  {
   "cell_type": "code",
   "execution_count": null,
   "id": "e775718c",
   "metadata": {},
   "outputs": [],
   "source": [
    "# 📦 Importaciones\n",
    "import os\n",
    "print(os.getcwd())\n",
    "\n",
    "import sys\n",
    "sys.path.append(\"../src\")\n",
    "\n",
    "import yaml\n",
    "import train\n",
    "import model\n",
    "import utils\n",
    "import os"
   ]
  },
  {
   "cell_type": "code",
   "execution_count": null,
   "id": "e078a9f6",
   "metadata": {},
   "outputs": [],
   "source": [
    "# 📖 Cargar configuración\n",
    "with open(\"../config.yaml\", \"r\") as f:\n",
    "    config = yaml.safe_load(f)\n",
    "\n",
    "# 📁 Extraer parámetros desde config\n",
    "img_height = config[\"image\"][\"height\"]\n",
    "img_width = config[\"image\"][\"width\"]\n",
    "image_size = (img_height, img_width)\n",
    "\n",
    "batch_size = config[\"training\"][\"batch_size\"]\n",
    "epochs = config[\"training\"][\"epochs\"]\n",
    "learning_rate = config[\"training\"][\"learning_rate\"]\n",
    "seed = config[\"training\"][\"seed\"]\n",
    "\n",
    "data_dir = config[\"paths\"][\"absolute_data_path\"]\n",
    "model_path = config[\"paths\"][\"model\"]"
   ]
  },
  {
   "cell_type": "code",
   "execution_count": null,
   "id": "a4c5820d",
   "metadata": {},
   "outputs": [],
   "source": [
    "# 📂 Cargar datasets\n",
    "train_ds, val_ds = train.load_datasets(\n",
    "    data_dir=data_dir,\n",
    "    image_size=image_size,\n",
    "    batch_size=batch_size,\n",
    "    validation_split=0.2,\n",
    "    seed=seed\n",
    ")"
   ]
  },
  {
   "cell_type": "code",
   "execution_count": null,
   "id": "7cb4e74a",
   "metadata": {},
   "outputs": [],
   "source": [
    "# 🧠 Crear modelo CNN\n",
    "cnn_model = model.build_model(config)"
   ]
  },
  {
   "cell_type": "code",
   "execution_count": null,
   "id": "38141450",
   "metadata": {},
   "outputs": [],
   "source": [
    "# 🏋️ Entrenar el modelo\n",
    "train_gen, val_gen = train.get_data_generators(config)\n",
    "\n",
    "history = cnn_model.fit(\n",
    "    train_gen,\n",
    "    validation_data=val_gen,\n",
    "    epochs=config[\"training\"][\"epochs\"],  \n",
    "    callbacks=[]  # opcional: EarlyStopping, etc.\n",
    ")"
   ]
  },
  {
   "cell_type": "code",
   "execution_count": null,
   "id": "10e11b81",
   "metadata": {},
   "outputs": [],
   "source": [
    "# 💾 Guardar modelo entrenado\n",
    "utils.save_model(cnn_model, config[\"paths\"][\"model\"])"
   ]
  },
  {
   "cell_type": "code",
   "execution_count": null,
   "id": "286f2632",
   "metadata": {},
   "outputs": [],
   "source": [
    "# 📊 Visualizar métricas\n",
    "utils.plot_training_history(history)"
   ]
  }
 ],
 "metadata": {
  "kernelspec": {
   "display_name": "3.11.9",
   "language": "python",
   "name": "python3"
  },
  "language_info": {
   "codemirror_mode": {
    "name": "ipython",
    "version": 3
   },
   "file_extension": ".py",
   "mimetype": "text/x-python",
   "name": "python",
   "nbconvert_exporter": "python",
   "pygments_lexer": "ipython3",
   "version": "3.11.9"
  }
 },
 "nbformat": 4,
 "nbformat_minor": 5
}
