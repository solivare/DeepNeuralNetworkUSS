{
 "cells": [
  {
   "cell_type": "code",
   "execution_count": null,
   "id": "d31eb9fd",
   "metadata": {},
   "outputs": [],
   "source": [
    "# 📊 Evaluación de Red Neuronal en Imágenes Histopatológicas\n",
    "\n",
    "# 🔧 Cargar librerías\n",
    "import os\n",
    "import sys\n",
    "sys.path.append(\"../src\")\n",
    "\n",
    "import yaml\n",
    "import numpy as np\n",
    "import matplotlib.pyplot as plt\n",
    "from tensorflow.keras.models import load_model\n",
    "from sklearn.metrics import classification_report, confusion_matrix\n",
    "\n",
    "import evaluate\n",
    "import utils"
   ]
  },
  {
   "cell_type": "code",
   "execution_count": null,
   "id": "5a332430",
   "metadata": {},
   "outputs": [],
   "source": [
    "# 📁 Cargar configuración\n",
    "with open(\"../config.yaml\", \"r\") as f:\n",
    "    config = yaml.safe_load(f)\n",
    "\n",
    "model_path = config[\"paths\"][\"model\"]\n",
    "data_path = config[\"paths\"][\"prepared_data\"]\n",
    "batch_size = config[\"training\"][\"batch_size\"]\n",
    "img_height = config[\"image\"][\"height\"]\n",
    "img_width = config[\"image\"][\"width\"]"
   ]
  },
  {
   "cell_type": "code",
   "execution_count": null,
   "id": "e94c1c49",
   "metadata": {},
   "outputs": [],
   "source": [
    "# 🔁 Cargar datos de validación (sin shuffle)\n",
    "from tensorflow.keras.preprocessing.image import ImageDataGenerator\n",
    "\n",
    "test_datagen = ImageDataGenerator(rescale=1./255)\n",
    "\n",
    "val_generator = test_datagen.flow_from_directory(\n",
    "    os.path.join(data_path, \"test\"),\n",
    "    target_size=(img_height, img_width),\n",
    "    batch_size=batch_size,\n",
    "    class_mode=\"binary\",\n",
    "    shuffle=False\n",
    ")"
   ]
  },
  {
   "cell_type": "code",
   "execution_count": null,
   "id": "40478419",
   "metadata": {},
   "outputs": [],
   "source": [
    "# 💾 Cargar modelo entrenado\n",
    "model = load_model(model_path)"
   ]
  },
  {
   "cell_type": "code",
   "execution_count": null,
   "id": "2cefafdc",
   "metadata": {},
   "outputs": [],
   "source": [
    "# 🔍 Evaluar rendimiento\n",
    "loss, acc = model.evaluate(val_generator)\n",
    "print(f\"🔹 Pérdida (val_loss): {loss:.4f}\")\n",
    "print(f\"🔹 Precisión (val_accuracy): {acc:.4f}\")"
   ]
  },
  {
   "cell_type": "code",
   "execution_count": null,
   "id": "f4400409",
   "metadata": {},
   "outputs": [],
   "source": [
    "# 🎯 Predicciones y métricas\n",
    "y_true = val_generator.classes\n",
    "y_prob = model.predict(val_generator)\n",
    "\n",
    "threshold = config.get(\"evaluation\", {}).get(\"threshold\", 0.5)\n",
    "y_pred = (y_prob > threshold).astype(int).flatten()\n",
    "\n",
    "#y_pred = (y_prob > 0.5).astype(int).flatten()\n",
    "\n",
    "# 📉 Reporte de métricas\n",
    "print(\"\\n📋 Reporte de clasificación:\\n\")\n",
    "print(classification_report(y_true, y_pred))\n",
    "\n",
    "# 📚 Matriz de confusión\n",
    "utils.show_confusion_matrix(y_true, y_pred)"
   ]
  },
  {
   "cell_type": "code",
   "execution_count": null,
   "id": "d248de8f",
   "metadata": {},
   "outputs": [],
   "source": [
    "# 📈 Distribución de predicciones\n",
    "evaluate.plot_prediction_distribution(y_true, y_prob)\n",
    "evaluate.plot_f1_vs_threshold(y_true, y_prob, modelo=\"Red Neuronal\")"
   ]
  },
  {
   "cell_type": "code",
   "execution_count": null,
   "id": "07b2e949",
   "metadata": {},
   "outputs": [],
   "source": [
    "# 📌 Comentarios pedagógicos\n",
    "\n",
    "# - A diferencia de datasets tabulares, aquí las predicciones se basan en características visuales complejas.\n",
    "# - La elección del umbral de decisión (default=0.5) puede ser optimizada según el problema (por ejemplo, minimizar falsos negativos).\n",
    "# - En proyectos médicos, es importante revisar visualmente algunas imágenes clasificadas erróneamente."
   ]
  },
  {
   "cell_type": "code",
   "execution_count": null,
   "id": "7aeea915",
   "metadata": {},
   "outputs": [],
   "source": [
    "# 🖼️ Mostrar imágenes mal clasificadas\n",
    "evaluate.show_misclassified_images(val_generator, model)"
   ]
  }
 ],
 "metadata": {
  "kernelspec": {
   "display_name": "3.11.9",
   "language": "python",
   "name": "python3"
  },
  "language_info": {
   "codemirror_mode": {
    "name": "ipython",
    "version": 3
   },
   "file_extension": ".py",
   "mimetype": "text/x-python",
   "name": "python",
   "nbconvert_exporter": "python",
   "pygments_lexer": "ipython3",
   "version": "3.11.9"
  }
 },
 "nbformat": 4,
 "nbformat_minor": 5
}
