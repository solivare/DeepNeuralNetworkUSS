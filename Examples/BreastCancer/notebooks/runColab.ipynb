{
 "cells": [
  {
   "cell_type": "code",
   "execution_count": null,
   "id": "b23e94df",
   "metadata": {},
   "outputs": [],
   "source": [
    "# 🧠 Clasificación de Cáncer de Mama con CNNs\n",
    "# Proyecto: Breast Histopathology Images (IDC)\n",
    "\n",
    "# ---------------------------------------------\n",
    "# ⚙️ Setup inicial en Google Colab\n",
    "# ---------------------------------------------\n",
    "\n",
    "# Si es tu primera vez:\n",
    "# !apt-get install git\n",
    "\n",
    "# 🔁 Clonar repositorio del curso\n",
    "!git clone https://github.com/solivare/DeepNeuralNetworkUSS.git\n",
    "\n",
    "# Cambiar al directorio del proyecto\n",
    "%cd DeepNeuralNetworkUSS/Examples/BreastCancer/\n",
    "\n",
    "# Instalar dependencias\n",
    "!pip install -r requirements.txt"
   ]
  },
  {
   "cell_type": "code",
   "execution_count": null,
   "id": "6a0cba84",
   "metadata": {},
   "outputs": [],
   "source": [
    "# ⚙️ Montar Google Drive\n",
    "from google.colab import drive\n",
    "drive.mount('/content/drive')\n",
    "\n",
    "# 📁 Verificar contenido \n",
    "!ls \"/content/drive/MyDrive/breast_images_prepared\""
   ]
  },
  {
   "cell_type": "code",
   "execution_count": null,
   "id": "83f18a23",
   "metadata": {},
   "outputs": [],
   "source": [
    "# ---------------------------------------------\n",
    "# 🛠️ Ajuste de rutas de importación\n",
    "# ---------------------------------------------\n",
    "\n",
    "import os\n",
    "import sys\n",
    "\n",
    "src_path = os.path.abspath(\"src\")\n",
    "if src_path not in sys.path:\n",
    "    sys.path.append(src_path)"
   ]
  },
  {
   "cell_type": "code",
   "execution_count": null,
   "id": "2a019745",
   "metadata": {},
   "outputs": [],
   "source": [
    "# ---------------------------------------------\n",
    "# 🧼 Preprocesamiento de los datos\n",
    "# ---------------------------------------------\n",
    "\n",
    "#%cd src\n",
    "#!python preprocess.py\n",
    "#%cd .."
   ]
  },
  {
   "cell_type": "code",
   "execution_count": null,
   "id": "d6672b39",
   "metadata": {},
   "outputs": [],
   "source": [
    "# ---------------------------------------------\n",
    "# 🧼 Renombrar directorio de datos preprocesados\n",
    "# ---------------------------------------------\n",
    "\n",
    "# 🔁 Sobrescribir la ruta de los datos con la de Drive\n",
    "config = train.load_config(\"config.yaml\")\n",
    "config[\"paths\"][\"prepared_data\"] = \"/content/drive/MyDrive/breast_images_prepared\""
   ]
  },
  {
   "cell_type": "code",
   "execution_count": null,
   "id": "077240db",
   "metadata": {},
   "outputs": [],
   "source": [
    "# ---------------------------------------------\n",
    "# 🧠 Entrenamiento del modelo\n",
    "# ---------------------------------------------\n",
    "\n",
    "import train\n",
    "import model\n",
    "import utils\n",
    "import evaluate as ev\n",
    "\n",
    "#config = train.load_config(\"config.yaml\")\n",
    "#cnn_model, history = train.train_model(config)\n",
    "\n",
    "#utils.plot_training_history(history, model_name=\"CNN Breast Cancer\")\n",
    "#utils.save_model(cnn_model, path=config[\"paths\"][\"model\"])\n",
    "\n",
    "# 📊 Cargar datos y entrenar modelo\n",
    "train_gen, val_gen = train.get_data_generators(config)\n",
    "\n",
    "cnn_model = model.build_model(config)\n",
    "\n",
    "history = cnn_model.fit(\n",
    "    train_gen,\n",
    "    validation_data=val_gen,\n",
    "    epochs=config[\"training\"][\"epochs\"]\n",
    ")\n",
    "\n",
    "utils.save_model(cnn_model, config[\"paths\"][\"model\"])"
   ]
  },
  {
   "cell_type": "code",
   "execution_count": null,
   "id": "122212b6",
   "metadata": {},
   "outputs": [],
   "source": [
    "# ---------------------------------------------\n",
    "# 📈 Evaluación del modelo\n",
    "# ---------------------------------------------\n",
    "\n",
    "from tensorflow.keras.models import load_model\n",
    "\n",
    "#cnn_model = load_model(config[\"paths\"][\"model\"])\n",
    "\n",
    "# Obtener datos de validación\n",
    "#val_gen = train.get_data_generators(config)[1]\n",
    "#y_true = val_gen.classes\n",
    "#y_proba = cnn_model.predict(val_gen).flatten()\n",
    "#threshold = config.get(\"evaluation\", {}).get(\"threshold\", 0.5)\n",
    "#y_pred = (y_proba >= threshold).astype(int)\n",
    "\n",
    "# Métricas y visualizaciones\n",
    "#ev.plot_confusion_matrix(y_true, y_pred)\n",
    "#ev.plot_roc_curve(y_true, y_proba)\n",
    "#ev.plot_prediction_distribution(y_true, y_proba)\n",
    "#ev.plot_f1_vs_threshold(y_true, y_proba, modelo=\"CNN\")\n",
    "\n",
    "# 📈 Evaluación del modelo\n",
    "y_true = val_gen.classes\n",
    "y_scores = cnn_model.predict(val_gen).flatten()\n",
    "y_pred = ev.predict_with_threshold(y_scores, threshold=config[\"evaluation\"][\"threshold\"])\n",
    "\n",
    "ev.plot_confusion_matrix(y_true, y_pred)\n",
    "ev.plot_roc_curve(y_true, y_scores)\n",
    "ev.plot_prediction_distribution(y_true, y_scores)\n",
    "ev.plot_f1_vs_threshold(y_true, y_scores)\n"
   ]
  },
  {
   "cell_type": "code",
   "execution_count": null,
   "id": "893a249f",
   "metadata": {},
   "outputs": [],
   "source": [
    "# ---------------------------------------------\n",
    "# 🔍 Análisis de errores y Grad-CAM\n",
    "# ---------------------------------------------\n",
    "\n",
    "# Mostrar imágenes mal clasificadas\n",
    "ev.show_misclassified_images(val_gen, cnn_model)"
   ]
  },
  {
   "cell_type": "code",
   "execution_count": null,
   "id": "232e2a35",
   "metadata": {},
   "outputs": [],
   "source": [
    "# ---------------------------------------------\n",
    "# ✅ Reflexión final\n",
    "# ---------------------------------------------\n",
    "# - ¿El modelo muestra overfitting? ¿Cómo lo ves en las curvas?\n",
    "# - ¿Qué tan bien discrimina entre clases? ¿AUC > 0.85?\n",
    "# - ¿El modelo predice con alta confianza o con muchas dudas?\n",
    "# - ¿Qué otras técnicas podrías aplicar para mejorar resultados?"
   ]
  }
 ],
 "metadata": {
  "language_info": {
   "name": "python"
  }
 },
 "nbformat": 4,
 "nbformat_minor": 5
}
