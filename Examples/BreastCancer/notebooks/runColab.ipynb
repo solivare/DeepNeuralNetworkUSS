{
  "cells": [
    {
      "cell_type": "code",
      "execution_count": null,
      "id": "b23e94df",
      "metadata": {
        "id": "b23e94df"
      },
      "outputs": [],
      "source": [
        "# 🧠 Clasificación de Cáncer de Mama con CNNs\n",
        "# Proyecto: Breast Histopathology Images (IDC)\n",
        "\n",
        "# ---------------------------------------------\n",
        "# ⚙️ Setup inicial en Google Colab\n",
        "# ---------------------------------------------\n",
        "\n",
        "# Si es tu primera vez:\n",
        "# !apt-get install git\n",
        "\n",
        "# 🔁 Clonar repositorio del curso\n",
        "!git clone https://github.com/solivare/DeepNeuralNetworkUSS.git\n",
        "\n",
        "# Cambiar al directorio del proyecto\n",
        "%cd DeepNeuralNetworkUSS/Examples/BreastCancer/\n",
        "\n",
        "# Instalar dependencias\n",
        "!pip install -r requirements.txt"
      ]
    },
    {
      "cell_type": "code",
      "execution_count": null,
      "id": "6a0cba84",
      "metadata": {
        "id": "6a0cba84"
      },
      "outputs": [],
      "source": [
        "# ⚙️ Montar Google Drive\n",
        "from google.colab import drive\n",
        "drive.mount('/content/drive')\n",
        "\n",
        "# 📁 Verificar contenido\n",
        "!ls \"/content/drive/MyDrive/DeepNeuralNetworkUSS/Data/breast_images_prepared\""
      ]
    },
    {
      "cell_type": "code",
      "execution_count": null,
      "id": "83f18a23",
      "metadata": {
        "id": "83f18a23"
      },
      "outputs": [],
      "source": [
        "# ---------------------------------------------\n",
        "# 🛠️ Ajuste de rutas de importación\n",
        "# ---------------------------------------------\n",
        "\n",
        "import os\n",
        "import sys\n",
        "\n",
        "src_path = os.path.abspath(\"src\")\n",
        "if src_path not in sys.path:\n",
        "    sys.path.append(src_path)"
      ]
    },
    {
      "cell_type": "code",
      "execution_count": null,
      "id": "d6672b39",
      "metadata": {
        "id": "d6672b39"
      },
      "outputs": [],
      "source": [
        "# ---------------------------------------------\n",
        "# 🧼 Renombrar directorio de datos preprocesados\n",
        "# ---------------------------------------------\n",
        "\n",
        "import train\n",
        "\n",
        "# 🔁 Sobrescribir la ruta de los datos con la de Drive\n",
        "config = train.load_config(\"config.yaml\")\n",
        "config[\"paths\"][\"prepared_data\"] = \"/content/drive/MyDrive/DeepNeuralNetworkUSS/Data/breast_images_prepared\""
      ]
    },
    {
      "cell_type": "code",
      "execution_count": null,
      "id": "077240db",
      "metadata": {
        "id": "077240db"
      },
      "outputs": [],
      "source": [
        "# ---------------------------------------------\n",
        "# 🧠 Entrenamiento del modelo\n",
        "# ---------------------------------------------\n",
        "\n",
        "#import train\n",
        "import model\n",
        "import utils\n",
        "import evaluate as ev\n",
        "\n",
        "# 📊 Cargar datos y entrenar modelo\n",
        "train_gen, val_gen = train.get_data_generators(config)\n",
        "\n",
        "cnn_model = model.build_model(config)\n",
        "\n",
        "history = cnn_model.fit(\n",
        "    train_gen,\n",
        "    validation_data=val_gen,\n",
        "    epochs=config[\"training\"][\"epochs\"]\n",
        ")\n",
        "\n",
        "utils.save_model(cnn_model, config[\"paths\"][\"model\"])"
      ]
    },
    {
      "cell_type": "code",
      "source": [
        "# ---------------------------------------------\n",
        "# 📈 Evaluación del modelo\n",
        "# ---------------------------------------------\n",
        "\n",
        "from tensorflow.keras.models import load_model\n",
        "\n",
        "# 💾 Cargar modelo entrenado\n",
        "model_path = config[\"paths\"][\"model\"]\n",
        "model = load_model(model_path)\n",
        "\n",
        "# 🎯 Umbral configurable\n",
        "threshold = config.get(\"evaluation\", {}).get(\"threshold\", 0.5)\n",
        "\n",
        "# 🧪 Obtener predicciones y etiquetas verdaderas\n",
        "y_true = val_gen.classes\n",
        "y_prob = model.predict(val_gen).flatten()\n",
        "y_pred = (y_prob > threshold).astype(int).flatten()\n",
        "\n",
        "# 📈 Evaluación\n",
        "ev.plot_confusion_matrix(y_true, y_pred)\n",
        "ev.plot_roc_curve(y_true, y_prob)\n",
        "ev.plot_prediction_distribution(y_true, y_prob)\n",
        "ev.plot_f1_vs_threshold(y_true, y_prob)"
      ],
      "metadata": {
        "id": "9IBaD4JY8-R_"
      },
      "id": "9IBaD4JY8-R_",
      "execution_count": null,
      "outputs": []
    },
    {
      "cell_type": "code",
      "execution_count": null,
      "id": "893a249f",
      "metadata": {
        "id": "893a249f"
      },
      "outputs": [],
      "source": [
        "# ---------------------------------------------\n",
        "# 🔍 Análisis de errores y Grad-CAM\n",
        "# ---------------------------------------------\n",
        "\n",
        "# Mostrar imágenes mal clasificadas\n",
        "ev.show_misclassified_images(val_gen, cnn_model)"
      ]
    }
  ],
  "metadata": {
    "language_info": {
      "name": "python"
    },
    "colab": {
      "provenance": []
    },
    "kernelspec": {
      "name": "python3",
      "display_name": "Python 3"
    }
  },
  "nbformat": 4,
  "nbformat_minor": 5
}