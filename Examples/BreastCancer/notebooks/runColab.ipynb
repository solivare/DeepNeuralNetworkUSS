{
 "cells": [
  {
   "cell_type": "markdown",
   "metadata": {},
   "source": [
    "# ⚙️ Setup inicial en Google Colab"
   ]
  },
  {
   "cell_type": "code",
   "metadata": {},
   "source": [
    "# Clona el repositorio del curso (puedes cambiar este link si ya lo moviste)
",
    "!git clone https://github.com/solivare/DeepNeuralNetworkUSS.git
",
    "%cd DeepNeuralNetworkUSS/Examples/BreastCancer/
",
    "!pip install -r requirements.txt"
   ],
   "execution_count": null,
   "outputs": []
  },
  {
   "cell_type": "code",
   "metadata": {},
   "source": [
    "# 🔧 Ajuste de rutas
",
    "import os
",
    "import sys
",
    "
",
    "src_path = os.path.abspath("src")
",
    "if src_path not in sys.path:
",
    "    sys.path.append(src_path)"
   ],
   "execution_count": null,
   "outputs": []
  },
  {
   "cell_type": "code",
   "metadata": {},
   "source": [
    "# 🧼 Preprocesamiento de los datos
",
    "%cd src
",
    "!python preprocess.py
",
    "%cd .."
   ],
   "execution_count": null,
   "outputs": []
  },
  {
   "cell_type": "code",
   "metadata": {},
   "source": [
    "# 🏋️ Entrenamiento del modelo
",
    "import train
",
    "import model
",
    "import utils
",
    "import evaluate
",
    "
",
    "config = train.load_config("config.yaml")
",
    "cnn_model, history = train.train_model(config)
",
    "utils.plot_training_history(history, model_name="Red Neuronal")
",
    "utils.save_model(cnn_model, path=config["paths"]["model"])"
   ],
   "execution_count": null,
   "outputs": []
  },
  {
   "cell_type": "code",
   "metadata": {},
   "source": [
    "# 📈 Evaluación del modelo
",
    "from tensorflow.keras.models import load_model
",
    "import numpy as np
",
    "
",
    "model_path = config["paths"]["model"]
",
    "model = load_model(model_path)
",
    "
",
    "# ⚠️ Cargar datos de validación (sin shuffle)
",
    "from tensorflow.keras.preprocessing.image import ImageDataGenerator
",
    "
",
    "test_datagen = ImageDataGenerator(rescale=1./255)
",
    "val_generator = test_datagen.flow_from_directory(
",
    "    os.path.join(config["paths"]["prepared_data"], "test"),
",
    "    target_size=(config["image"]["height"], config["image"]["width"]),
",
    "    batch_size=config["training"]["batch_size"],
",
    "    class_mode="binary",
",
    "    shuffle=False
",
    ")
",
    "
",
    "# 🔮 Predicciones y evaluación
",
    "y_true = val_generator.classes
",
    "y_prob = model.predict(val_generator).ravel()
",
    "y_pred = (y_prob > config["threshold"]).astype(int)
",
    "
",
    "evaluate.plot_confusion_matrix(y_true, y_pred)
",
    "evaluate.plot_roc_curve(y_true, y_prob)
",
    "evaluate.plot_prediction_distribution(y_true, y_prob)
",
    "evaluate.plot_f1_vs_threshold(y_true, y_prob, modelo="Red Neuronal")"
   ],
   "execution_count": null,
   "outputs": []
  },
  {
   "cell_type": "markdown",
   "metadata": {},
   "source": [
    "## ✅ Preguntas de reflexión final
",
    "
",
    "### 🔧 Sobre el modelo:
",
    "- ¿Cuántas capas convolucionales tiene la red?
",
    "- ¿Qué función de activación utilizaste?
",
    "- ¿Qué hiperparámetros ajustarías para mejorar la red?
",
    "
",
    "### 📊 Sobre la evaluación:
",
    "- ¿Qué tan bien clasifica la red imágenes de cáncer maligno?
",
    "- ¿Qué métricas te parecen más relevantes en este caso?
",
    "- ¿Detectaste signos de sobreajuste?
",
    "
",
    "### 🔍 Sobre interpretabilidad:
",
    "- ¿Qué información te entrega el mapa Grad-CAM?
",
    "- ¿Qué observas en las imágenes mal clasificadas?
",
    "
",
    "✍️ Anota tus conclusiones y comenta posibles mejoras para este modelo."
   ]
  }
 ],
 "metadata": {
  "kernelspec": {
   "display_name": "Python 3",
   "language": "python",
   "name": "python3"
  },
  "language_info": {
   "name": "python"
  }
 },
 "nbformat": 4,
 "nbformat_minor": 2
}
