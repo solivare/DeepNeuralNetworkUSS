{
 "cells": [
  {
   "cell_type": "code",
   "execution_count": 1,
   "id": "b2650385",
   "metadata": {},
   "outputs": [],
   "source": [
    "# Evaluación y Comparación de Modelos\n",
    "# Compararemos dos enfoques para detectar fraudes:\n",
    "# - Modelo base: Regresión logística\n",
    "# - Modelo avanzado: Red neuronal densa"
   ]
  },
  {
   "cell_type": "code",
   "execution_count": 2,
   "id": "8539351e",
   "metadata": {},
   "outputs": [],
   "source": [
    "# 1. Importar librerías y módulos del proyecto\n",
    "import os\n",
    "import sys\n",
    "sys.path.append(\"../src\")\n",
    "\n",
    "import train\n",
    "import yaml\n",
    "import pandas as pd\n",
    "import numpy as np\n",
    "from sklearn.linear_model import LogisticRegression\n",
    "from sklearn.metrics import classification_report, roc_auc_score, roc_curve\n",
    "from sklearn.preprocessing import StandardScaler\n",
    "from tensorflow.keras.models import load_model\n",
    "import matplotlib.pyplot as plt\n",
    "\n",
    "from utils import get_training_data_path, plot_f1_vs_threshold, plot_prediction_distribution\n",
    "from utils import plot_confusion_matrix, get_classification_metrics_df\n",
    "from utils import plot_ks_overtraining"
   ]
  },
  {
   "cell_type": "code",
   "execution_count": 4,
   "id": "19c6d7cc",
   "metadata": {},
   "outputs": [],
   "source": [
    "# 2. Cargar configuración y datos\n",
    "config = train.load_config()\n",
    "train_path = get_training_data_path(config)\n",
    "X_train, y_train = train.load_data(train_path, config[\"base_dir\"])\n",
    "X_test, y_test = train.load_data(config[\"paths\"][\"test\"], config[\"base_dir\"])\n",
    "\n",
    "scaler = StandardScaler()\n",
    "X_train_scaled = scaler.fit_transform(X_train)\n",
    "X_test_scaled = scaler.transform(X_test)"
   ]
  },
  {
   "cell_type": "code",
   "execution_count": 5,
   "id": "f71ad425",
   "metadata": {},
   "outputs": [],
   "source": [
    "# 3. Entrenar modelo base (regresión logística)\n",
    "logreg = LogisticRegression(max_iter=1000)\n",
    "logreg.fit(X_train_scaled, y_train)\n",
    "\n",
    "y_pred_log = logreg.predict(X_test_scaled)\n",
    "y_prob_log = logreg.predict_proba(X_test_scaled)[:, 1]"
   ]
  },
  {
   "cell_type": "code",
   "execution_count": 6,
   "id": "ae82fd78",
   "metadata": {},
   "outputs": [
    {
     "ename": "ValueError",
     "evalue": "File not found: filepath=c:\\Users\\jorge\\Documentos\\GitHub\\DeepNeuralNetworkUSS1\\Examples\\Fraud\\models\\model.keras. Please ensure the file is an accessible `.keras` zip file.",
     "output_type": "error",
     "traceback": [
      "\u001b[31m---------------------------------------------------------------------------\u001b[39m",
      "\u001b[31mValueError\u001b[39m                                Traceback (most recent call last)",
      "\u001b[36mCell\u001b[39m\u001b[36m \u001b[39m\u001b[32mIn[6]\u001b[39m\u001b[32m, line 3\u001b[39m\n\u001b[32m      1\u001b[39m \u001b[38;5;66;03m# 4. Cargar red neuronal ya entrenada\u001b[39;00m\n\u001b[32m      2\u001b[39m model_path = os.path.join(config[\u001b[33m\"\u001b[39m\u001b[33mbase_dir\u001b[39m\u001b[33m\"\u001b[39m], \u001b[33m\"\u001b[39m\u001b[33mmodels\u001b[39m\u001b[33m\"\u001b[39m, \u001b[33m\"\u001b[39m\u001b[33mmodel.keras\u001b[39m\u001b[33m\"\u001b[39m)\n\u001b[32m----> \u001b[39m\u001b[32m3\u001b[39m nn_model = \u001b[43mload_model\u001b[49m\u001b[43m(\u001b[49m\u001b[43mmodel_path\u001b[49m\u001b[43m)\u001b[49m\n\u001b[32m      5\u001b[39m y_prob_nn = nn_model.predict(X_test_scaled).flatten()\n\u001b[32m      6\u001b[39m y_prob_train_nn = nn_model.predict(X_train_scaled).flatten()\n",
      "\u001b[36mFile \u001b[39m\u001b[32m~\\AppData\\Local\\Packages\\PythonSoftwareFoundation.Python.3.11_qbz5n2kfra8p0\\LocalCache\\local-packages\\Python311\\site-packages\\keras\\src\\saving\\saving_api.py:200\u001b[39m, in \u001b[36mload_model\u001b[39m\u001b[34m(filepath, custom_objects, compile, safe_mode)\u001b[39m\n\u001b[32m    196\u001b[39m     \u001b[38;5;28;01mreturn\u001b[39;00m legacy_h5_format.load_model_from_hdf5(\n\u001b[32m    197\u001b[39m         filepath, custom_objects=custom_objects, \u001b[38;5;28mcompile\u001b[39m=\u001b[38;5;28mcompile\u001b[39m\n\u001b[32m    198\u001b[39m     )\n\u001b[32m    199\u001b[39m \u001b[38;5;28;01melif\u001b[39;00m \u001b[38;5;28mstr\u001b[39m(filepath).endswith(\u001b[33m\"\u001b[39m\u001b[33m.keras\u001b[39m\u001b[33m\"\u001b[39m):\n\u001b[32m--> \u001b[39m\u001b[32m200\u001b[39m     \u001b[38;5;28;01mraise\u001b[39;00m \u001b[38;5;167;01mValueError\u001b[39;00m(\n\u001b[32m    201\u001b[39m         \u001b[33mf\u001b[39m\u001b[33m\"\u001b[39m\u001b[33mFile not found: filepath=\u001b[39m\u001b[38;5;132;01m{\u001b[39;00mfilepath\u001b[38;5;132;01m}\u001b[39;00m\u001b[33m. \u001b[39m\u001b[33m\"\u001b[39m\n\u001b[32m    202\u001b[39m         \u001b[33m\"\u001b[39m\u001b[33mPlease ensure the file is an accessible `.keras` \u001b[39m\u001b[33m\"\u001b[39m\n\u001b[32m    203\u001b[39m         \u001b[33m\"\u001b[39m\u001b[33mzip file.\u001b[39m\u001b[33m\"\u001b[39m\n\u001b[32m    204\u001b[39m     )\n\u001b[32m    205\u001b[39m \u001b[38;5;28;01melse\u001b[39;00m:\n\u001b[32m    206\u001b[39m     \u001b[38;5;28;01mraise\u001b[39;00m \u001b[38;5;167;01mValueError\u001b[39;00m(\n\u001b[32m    207\u001b[39m         \u001b[33mf\u001b[39m\u001b[33m\"\u001b[39m\u001b[33mFile format not supported: filepath=\u001b[39m\u001b[38;5;132;01m{\u001b[39;00mfilepath\u001b[38;5;132;01m}\u001b[39;00m\u001b[33m. \u001b[39m\u001b[33m\"\u001b[39m\n\u001b[32m    208\u001b[39m         \u001b[33m\"\u001b[39m\u001b[33mKeras 3 only supports V3 `.keras` files and \u001b[39m\u001b[33m\"\u001b[39m\n\u001b[32m   (...)\u001b[39m\u001b[32m    217\u001b[39m         \u001b[33m\"\u001b[39m\u001b[33mmight have a different name).\u001b[39m\u001b[33m\"\u001b[39m\n\u001b[32m    218\u001b[39m     )\n",
      "\u001b[31mValueError\u001b[39m: File not found: filepath=c:\\Users\\jorge\\Documentos\\GitHub\\DeepNeuralNetworkUSS1\\Examples\\Fraud\\models\\model.keras. Please ensure the file is an accessible `.keras` zip file."
     ]
    }
   ],
   "source": [
    "# 4. Cargar red neuronal ya entrenada\n",
    "model_path = os.path.join(config[\"base_dir\"], \"models\", \"model.keras\")\n",
    "nn_model = load_model(model_path)\n",
    "\n",
    "y_prob_nn = nn_model.predict(X_test_scaled).flatten()\n",
    "y_prob_train_nn = nn_model.predict(X_train_scaled).flatten()\n",
    "\n",
    "threshold = 0.5 #was 0.95\n",
    "y_pred_nn = (y_prob_nn > threshold).astype(int)"
   ]
  },
  {
   "cell_type": "code",
   "execution_count": null,
   "id": "ab1170ff",
   "metadata": {},
   "outputs": [],
   "source": [
    "# 5. Comparar métricas\n",
    "print(\"🔎 Regressión Logística\")\n",
    "print(classification_report(y_test, y_pred_log, target_names=[\"No Fraude\", \"Fraude\"]))\n",
    "print(\"AUC:\", roc_auc_score(y_test, y_prob_log))\n",
    "\n",
    "print(\"\\n🔎 Red Neuronal\")\n",
    "print(classification_report(y_test, y_pred_nn, target_names=[\"No Fraude\", \"Fraude\"]))\n",
    "print(\"AUC:\", roc_auc_score(y_test, y_prob_nn))"
   ]
  },
  {
   "cell_type": "code",
   "execution_count": null,
   "id": "f4433961",
   "metadata": {},
   "outputs": [],
   "source": [
    "# 6. Comparar curvas ROC\n",
    "fpr_log, tpr_log, _ = roc_curve(y_test, y_prob_log)\n",
    "fpr_nn, tpr_nn, _ = roc_curve(y_test, y_prob_nn)\n",
    "\n",
    "plt.figure(figsize=(8,6))\n",
    "plt.plot(fpr_log, tpr_log, label=\"Regresión Logística\")\n",
    "plt.plot(fpr_nn, tpr_nn, label=\"Red Neuronal\")\n",
    "plt.plot([0,1], [0,1], 'k--', alpha=0.5)\n",
    "plt.xlabel(\"Tasa de falsos positivos\")\n",
    "plt.ylabel(\"Tasa de verdaderos positivos\")\n",
    "plt.title(\"Curva ROC - Comparación de Modelos\")\n",
    "plt.legend()\n",
    "plt.grid()\n",
    "plt.show()"
   ]
  },
  {
   "cell_type": "code",
   "execution_count": null,
   "id": "3382e05e",
   "metadata": {},
   "outputs": [],
   "source": [
    "# 7. Metricas de modelos\n",
    "# Matrices de confusión\n",
    "plot_confusion_matrix(y_test, y_pred_log, model_name=\"Regresión Logística\", cmap=\"Blues\")\n",
    "plot_confusion_matrix(y_test, y_pred_nn, model_name=\"Red Neuronal\", cmap=\"Greens\")\n",
    "\n",
    "# Tabla de métricas\n",
    "df_metrics = get_classification_metrics_df(\n",
    "    y_test, y_pred_log, y_prob_log,\n",
    "    y_test, y_pred_nn, y_prob_nn\n",
    ")\n",
    "display(df_metrics)"
   ]
  },
  {
   "cell_type": "code",
   "execution_count": null,
   "id": "c1ba64e6",
   "metadata": {},
   "outputs": [],
   "source": [
    "# 9a. Distribución de predicciones para NN\n",
    "plot_prediction_distribution(y_test, y_prob_nn)\n",
    "plot_f1_vs_threshold(y_test, y_prob_nn, modelo=\"Red Neuronal\")"
   ]
  },
  {
   "cell_type": "code",
   "execution_count": null,
   "id": "50bcb9a5",
   "metadata": {},
   "outputs": [],
   "source": [
    "# 9b. Distribución de predicciones para Regresión Logística\n",
    "plot_prediction_distribution(y_test, y_prob_log)\n",
    "plot_f1_vs_threshold(y_test, y_prob_log, modelo=\"Regresión Logística\")"
   ]
  },
  {
   "cell_type": "code",
   "execution_count": null,
   "id": "a3006bdf",
   "metadata": {},
   "outputs": [],
   "source": [
    "# 10. Evaluación de sobreajuste en la red neuronal\n",
    "plot_ks_overtraining(y_train, y_prob_train_nn, y_test, y_prob_nn)"
   ]
  }
 ],
 "metadata": {
  "kernelspec": {
   "display_name": "Python 3",
   "language": "python",
   "name": "python3"
  },
  "language_info": {
   "codemirror_mode": {
    "name": "ipython",
    "version": 3
   },
   "file_extension": ".py",
   "mimetype": "text/x-python",
   "name": "python",
   "nbconvert_exporter": "python",
   "pygments_lexer": "ipython3",
   "version": "3.11.9"
  }
 },
 "nbformat": 4,
 "nbformat_minor": 5
}
