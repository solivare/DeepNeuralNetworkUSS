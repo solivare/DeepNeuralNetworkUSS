{
 "cells": [
  {
   "cell_type": "code",
   "execution_count": null,
   "id": "fa234d46",
   "metadata": {},
   "outputs": [],
   "source": [
    "# 1. Importar librerías y módulos\n",
    "import sys\n",
    "import os\n",
    "sys.path.append(\"../src\")\n",
    "\n",
    "import train\n",
    "import yaml\n",
    "import pandas as pd\n",
    "from tensorflow.keras.models import load_model\n",
    "from sklearn.metrics import classification_report, roc_auc_score\n",
    "from sklearn.preprocessing import StandardScaler\n",
    "import matplotlib.pyplot as plt\n",
    "from tensorflow.keras.utils import plot_model\n",
    "from utils import plot_training\n",
    "from utils import get_training_data_path"
   ]
  },
  {
   "cell_type": "code",
   "execution_count": null,
   "id": "9ac769f0",
   "metadata": {},
   "outputs": [],
   "source": [
    "# 2. Cargar configuración\n",
    "config = train.load_config()"
   ]
  },
  {
   "cell_type": "code",
   "execution_count": null,
   "id": "a84f6fb6",
   "metadata": {},
   "outputs": [],
   "source": [
    "# 3. Entrenar modelo directamente con la función modular\n",
    "history = train.train(return_history=True)"
   ]
  },
  {
   "cell_type": "code",
   "execution_count": null,
   "id": "36624b16",
   "metadata": {},
   "outputs": [],
   "source": [
    "# 4. Imprimir numero de muestras\n",
    "train_path = get_training_data_path(config)\n",
    "X_train, y_train = train.load_data(train_path, config[\"base_dir\"])\n",
    "X_val, y_val = train.load_data(config[\"paths\"][\"val\"], config[\"base_dir\"])\n",
    "X_test, y_test = train.load_data(config[\"paths\"][\"test\"], config[\"base_dir\"])\n",
    "\n",
    "print(f\"Training set:     {len(X_train)} muestras\")\n",
    "print(f\"Validation set:  {len(X_val)} muestras\")\n",
    "print(f\"Test set:        {len(X_test)} muestras\")"
   ]
  },
  {
   "cell_type": "code",
   "execution_count": null,
   "id": "4040f49f",
   "metadata": {},
   "outputs": [],
   "source": [
    "# 5. Visualizar curvas\n",
    "plot_training(history)"
   ]
  }
 ],
 "metadata": {
  "kernelspec": {
   "display_name": "venv_fraud",
   "language": "python",
   "name": "python3"
  },
  "language_info": {
   "codemirror_mode": {
    "name": "ipython",
    "version": 3
   },
   "file_extension": ".py",
   "mimetype": "text/x-python",
   "name": "python",
   "nbconvert_exporter": "python",
   "pygments_lexer": "ipython3",
   "version": "3.11.9"
  }
 },
 "nbformat": 4,
 "nbformat_minor": 5
}
