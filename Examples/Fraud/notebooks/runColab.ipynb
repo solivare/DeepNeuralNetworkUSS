{
 "cells": [
  {
   "cell_type": "markdown",
   "id": "6ab0faf9",
   "metadata": {},
   "source": [
    "# 🧠 Proyecto de Detección de Fraude con DNN\n",
    "Este notebook está diseñado para ejecutarse directamente en Google Colab y permite clonar el repositorio, instalar dependencias, procesar datos, entrenar una red neuronal y evaluar su desempeño."
   ]
  },
  {
   "cell_type": "code",
   "execution_count": null,
   "id": "ee7e078c",
   "metadata": {},
   "outputs": [],
   "source": [
    "# 📥 Clonar el repositorio (si es público)\n",
    "!git clone https://github.com/solivare/DeepNeuralNetworkUSS.git\n",
    "%cd DeepNeuralNetworkUSS/Examples/Fraud"
   ]
  },
  {
   "cell_type": "code",
   "execution_count": null,
   "id": "62e8f32c",
   "metadata": {},
   "outputs": [],
   "source": [
    "# 📦 Instalar dependencias necesarias\n",
    "!pip install -r requirements.txt"
   ]
  },
  {
   "cell_type": "code",
   "execution_count": null,
   "id": "c409b744",
   "metadata": {},
   "outputs": [],
   "source": [
    "# 🧪 Procesar datos según configuración\n",
    "!python src/preprocess.py"
   ]
  },
  {
   "cell_type": "code",
   "execution_count": null,
   "id": "181d766c",
   "metadata": {},
   "outputs": [],
   "source": [
    "# 🚀 Entrenar el modelo definido en config.yaml\n",
    "!python src/train.py"
   ]
  },
  {
   "cell_type": "code",
   "execution_count": null,
   "id": "6d2d6653",
   "metadata": {},
   "outputs": [],
   "source": [
    "# 📊 Evaluación del modelo entrenado\n",
    "import sys, os\n",
    "sys.path.append('src')\n",
    "import train, evaluate\n",
    "from tensorflow.keras.models import load_model\n",
    "import pandas as pd\n",
    "from sklearn.preprocessing import StandardScaler\n",
    "import matplotlib.pyplot as plt\n",
    "from utils import plot_score_distribution, plot_training, get_training_data_path\n",
    "\n",
    "# Cargar configuración y datos\n",
    "config = train.load_config()\n",
    "train_path = get_training_data_path(config)\n",
    "X_train, y_train = train.load_data(train_path, config['base_dir'])\n",
    "X_test, y_test = train.load_data(config['paths']['test'], config['base_dir'])\n",
    "\n",
    "# Escalar\n",
    "scaler = StandardScaler()\n",
    "X_train = scaler.fit_transform(X_train)\n",
    "X_test = scaler.transform(X_test)\n",
    "\n",
    "# Cargar modelo y predecir\n",
    "model = load_model('models/model.keras')\n",
    "y_prob = model.predict(X_test).flatten()\n",
    "y_pred = (y_prob > 0.5).astype(int)\n",
    "\n",
    "# Métricas\n",
    "evaluate.print_classification_metrics(y_test, y_pred, y_prob)\n",
    "plot_score_distribution(y_test, y_prob)"
   ]
  }
 ],
 "metadata": {
  "language_info": {
   "name": "python"
  }
 },
 "nbformat": 4,
 "nbformat_minor": 5
}
