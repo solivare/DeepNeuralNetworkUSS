{
  "cells": [
    {
      "cell_type": "markdown",
      "metadata": {
        "id": "view-in-github",
        "colab_type": "text"
      },
      "source": [
        "<a href=\"https://colab.research.google.com/github/solivare/DeepNeuralNetworkUSS/blob/Jorge_Urrutia/Examples/Fraud/notebooks/runColab.ipynb\" target=\"_parent\"><img src=\"https://colab.research.google.com/assets/colab-badge.svg\" alt=\"Open In Colab\"/></a>"
      ]
    },
    {
      "cell_type": "markdown",
      "id": "c6069ffc",
      "metadata": {
        "id": "c6069ffc"
      },
      "source": [
        "# 🔗 Proyecto de Detección de Fraude - Google Colab"
      ]
    },
    {
      "cell_type": "code",
      "execution_count": 1,
      "id": "0f84c80e",
      "metadata": {
        "id": "0f84c80e",
        "colab": {
          "base_uri": "https://localhost:8080/"
        },
        "outputId": "dddc740a-20f7-4e7d-ac3b-cb64d7df1715"
      },
      "outputs": [
        {
          "output_type": "stream",
          "name": "stdout",
          "text": [
            "Cloning into 'DeepNeuralNetworkUSS'...\n",
            "remote: Enumerating objects: 1780, done.\u001b[K\n",
            "remote: Counting objects: 100% (106/106), done.\u001b[K\n",
            "remote: Compressing objects: 100% (64/64), done.\u001b[K\n",
            "remote: Total 1780 (delta 48), reused 93 (delta 41), pack-reused 1674 (from 1)\u001b[K\n",
            "Receiving objects: 100% (1780/1780), 70.35 MiB | 19.19 MiB/s, done.\n",
            "Resolving deltas: 100% (266/266), done.\n",
            "/content/DeepNeuralNetworkUSS/Examples/Fraud\n"
          ]
        }
      ],
      "source": [
        "# ✅ Clonar el repositorio (asegúrate de que sea público)\n",
        "!git clone https://github.com/solivare/DeepNeuralNetworkUSS.git\n",
        "%cd DeepNeuralNetworkUSS/Examples/Fraud\n"
      ]
    },
    {
      "cell_type": "code",
      "execution_count": 2,
      "id": "3d8767d0",
      "metadata": {
        "id": "3d8767d0",
        "colab": {
          "base_uri": "https://localhost:8080/"
        },
        "outputId": "2bef29ec-e35a-4bdf-abc9-ced95e59e3f0"
      },
      "outputs": [
        {
          "output_type": "stream",
          "name": "stdout",
          "text": [
            "Requirement already satisfied: pandas in /usr/local/lib/python3.11/dist-packages (from -r requirements.txt (line 1)) (2.2.2)\n",
            "Requirement already satisfied: numpy in /usr/local/lib/python3.11/dist-packages (from -r requirements.txt (line 2)) (2.0.2)\n",
            "Requirement already satisfied: scikit-learn in /usr/local/lib/python3.11/dist-packages (from -r requirements.txt (line 3)) (1.6.1)\n",
            "Requirement already satisfied: tensorflow in /usr/local/lib/python3.11/dist-packages (from -r requirements.txt (line 4)) (2.18.0)\n",
            "Requirement already satisfied: matplotlib in /usr/local/lib/python3.11/dist-packages (from -r requirements.txt (line 5)) (3.10.0)\n",
            "Requirement already satisfied: seaborn in /usr/local/lib/python3.11/dist-packages (from -r requirements.txt (line 6)) (0.13.2)\n",
            "Requirement already satisfied: pyyaml in /usr/local/lib/python3.11/dist-packages (from -r requirements.txt (line 7)) (6.0.2)\n",
            "Requirement already satisfied: pydot in /usr/local/lib/python3.11/dist-packages (from -r requirements.txt (line 8)) (3.0.4)\n",
            "Collecting dataframe_image (from -r requirements.txt (line 9))\n",
            "  Downloading dataframe_image-0.2.7-py3-none-any.whl.metadata (9.3 kB)\n",
            "Requirement already satisfied: python-dateutil>=2.8.2 in /usr/local/lib/python3.11/dist-packages (from pandas->-r requirements.txt (line 1)) (2.9.0.post0)\n",
            "Requirement already satisfied: pytz>=2020.1 in /usr/local/lib/python3.11/dist-packages (from pandas->-r requirements.txt (line 1)) (2025.2)\n",
            "Requirement already satisfied: tzdata>=2022.7 in /usr/local/lib/python3.11/dist-packages (from pandas->-r requirements.txt (line 1)) (2025.2)\n",
            "Requirement already satisfied: scipy>=1.6.0 in /usr/local/lib/python3.11/dist-packages (from scikit-learn->-r requirements.txt (line 3)) (1.16.0)\n",
            "Requirement already satisfied: joblib>=1.2.0 in /usr/local/lib/python3.11/dist-packages (from scikit-learn->-r requirements.txt (line 3)) (1.5.1)\n",
            "Requirement already satisfied: threadpoolctl>=3.1.0 in /usr/local/lib/python3.11/dist-packages (from scikit-learn->-r requirements.txt (line 3)) (3.6.0)\n",
            "Requirement already satisfied: absl-py>=1.0.0 in /usr/local/lib/python3.11/dist-packages (from tensorflow->-r requirements.txt (line 4)) (1.4.0)\n",
            "Requirement already satisfied: astunparse>=1.6.0 in /usr/local/lib/python3.11/dist-packages (from tensorflow->-r requirements.txt (line 4)) (1.6.3)\n",
            "Requirement already satisfied: flatbuffers>=24.3.25 in /usr/local/lib/python3.11/dist-packages (from tensorflow->-r requirements.txt (line 4)) (25.2.10)\n",
            "Requirement already satisfied: gast!=0.5.0,!=0.5.1,!=0.5.2,>=0.2.1 in /usr/local/lib/python3.11/dist-packages (from tensorflow->-r requirements.txt (line 4)) (0.6.0)\n",
            "Requirement already satisfied: google-pasta>=0.1.1 in /usr/local/lib/python3.11/dist-packages (from tensorflow->-r requirements.txt (line 4)) (0.2.0)\n",
            "Requirement already satisfied: libclang>=13.0.0 in /usr/local/lib/python3.11/dist-packages (from tensorflow->-r requirements.txt (line 4)) (18.1.1)\n",
            "Requirement already satisfied: opt-einsum>=2.3.2 in /usr/local/lib/python3.11/dist-packages (from tensorflow->-r requirements.txt (line 4)) (3.4.0)\n",
            "Requirement already satisfied: packaging in /usr/local/lib/python3.11/dist-packages (from tensorflow->-r requirements.txt (line 4)) (25.0)\n",
            "Requirement already satisfied: protobuf!=4.21.0,!=4.21.1,!=4.21.2,!=4.21.3,!=4.21.4,!=4.21.5,<6.0.0dev,>=3.20.3 in /usr/local/lib/python3.11/dist-packages (from tensorflow->-r requirements.txt (line 4)) (5.29.5)\n",
            "Requirement already satisfied: requests<3,>=2.21.0 in /usr/local/lib/python3.11/dist-packages (from tensorflow->-r requirements.txt (line 4)) (2.32.3)\n",
            "Requirement already satisfied: setuptools in /usr/local/lib/python3.11/dist-packages (from tensorflow->-r requirements.txt (line 4)) (75.2.0)\n",
            "Requirement already satisfied: six>=1.12.0 in /usr/local/lib/python3.11/dist-packages (from tensorflow->-r requirements.txt (line 4)) (1.17.0)\n",
            "Requirement already satisfied: termcolor>=1.1.0 in /usr/local/lib/python3.11/dist-packages (from tensorflow->-r requirements.txt (line 4)) (3.1.0)\n",
            "Requirement already satisfied: typing-extensions>=3.6.6 in /usr/local/lib/python3.11/dist-packages (from tensorflow->-r requirements.txt (line 4)) (4.14.1)\n",
            "Requirement already satisfied: wrapt>=1.11.0 in /usr/local/lib/python3.11/dist-packages (from tensorflow->-r requirements.txt (line 4)) (1.17.2)\n",
            "Requirement already satisfied: grpcio<2.0,>=1.24.3 in /usr/local/lib/python3.11/dist-packages (from tensorflow->-r requirements.txt (line 4)) (1.74.0)\n",
            "Requirement already satisfied: tensorboard<2.19,>=2.18 in /usr/local/lib/python3.11/dist-packages (from tensorflow->-r requirements.txt (line 4)) (2.18.0)\n",
            "Requirement already satisfied: keras>=3.5.0 in /usr/local/lib/python3.11/dist-packages (from tensorflow->-r requirements.txt (line 4)) (3.8.0)\n",
            "Requirement already satisfied: h5py>=3.11.0 in /usr/local/lib/python3.11/dist-packages (from tensorflow->-r requirements.txt (line 4)) (3.14.0)\n",
            "Requirement already satisfied: ml-dtypes<0.5.0,>=0.4.0 in /usr/local/lib/python3.11/dist-packages (from tensorflow->-r requirements.txt (line 4)) (0.4.1)\n",
            "Requirement already satisfied: tensorflow-io-gcs-filesystem>=0.23.1 in /usr/local/lib/python3.11/dist-packages (from tensorflow->-r requirements.txt (line 4)) (0.37.1)\n",
            "Requirement already satisfied: contourpy>=1.0.1 in /usr/local/lib/python3.11/dist-packages (from matplotlib->-r requirements.txt (line 5)) (1.3.2)\n",
            "Requirement already satisfied: cycler>=0.10 in /usr/local/lib/python3.11/dist-packages (from matplotlib->-r requirements.txt (line 5)) (0.12.1)\n",
            "Requirement already satisfied: fonttools>=4.22.0 in /usr/local/lib/python3.11/dist-packages (from matplotlib->-r requirements.txt (line 5)) (4.59.0)\n",
            "Requirement already satisfied: kiwisolver>=1.3.1 in /usr/local/lib/python3.11/dist-packages (from matplotlib->-r requirements.txt (line 5)) (1.4.8)\n",
            "Requirement already satisfied: pillow>=8 in /usr/local/lib/python3.11/dist-packages (from matplotlib->-r requirements.txt (line 5)) (11.3.0)\n",
            "Requirement already satisfied: pyparsing>=2.3.1 in /usr/local/lib/python3.11/dist-packages (from matplotlib->-r requirements.txt (line 5)) (3.2.3)\n",
            "Requirement already satisfied: nbconvert>=5 in /usr/local/lib/python3.11/dist-packages (from dataframe_image->-r requirements.txt (line 9)) (7.16.6)\n",
            "Requirement already satisfied: aiohttp>=3.10.2 in /usr/local/lib/python3.11/dist-packages (from dataframe_image->-r requirements.txt (line 9)) (3.12.14)\n",
            "Requirement already satisfied: mistune in /usr/local/lib/python3.11/dist-packages (from dataframe_image->-r requirements.txt (line 9)) (3.1.3)\n",
            "Requirement already satisfied: lxml in /usr/local/lib/python3.11/dist-packages (from dataframe_image->-r requirements.txt (line 9)) (5.4.0)\n",
            "Requirement already satisfied: beautifulsoup4 in /usr/local/lib/python3.11/dist-packages (from dataframe_image->-r requirements.txt (line 9)) (4.13.4)\n",
            "Collecting cssutils (from dataframe_image->-r requirements.txt (line 9))\n",
            "  Downloading cssutils-2.11.1-py3-none-any.whl.metadata (8.7 kB)\n",
            "Collecting playwright (from dataframe_image->-r requirements.txt (line 9))\n",
            "  Downloading playwright-1.54.0-py3-none-manylinux1_x86_64.whl.metadata (3.5 kB)\n",
            "Collecting cssselect (from dataframe_image->-r requirements.txt (line 9))\n",
            "  Downloading cssselect-1.3.0-py3-none-any.whl.metadata (2.6 kB)\n",
            "Requirement already satisfied: aiohappyeyeballs>=2.5.0 in /usr/local/lib/python3.11/dist-packages (from aiohttp>=3.10.2->dataframe_image->-r requirements.txt (line 9)) (2.6.1)\n",
            "Requirement already satisfied: aiosignal>=1.4.0 in /usr/local/lib/python3.11/dist-packages (from aiohttp>=3.10.2->dataframe_image->-r requirements.txt (line 9)) (1.4.0)\n",
            "Requirement already satisfied: attrs>=17.3.0 in /usr/local/lib/python3.11/dist-packages (from aiohttp>=3.10.2->dataframe_image->-r requirements.txt (line 9)) (25.3.0)\n",
            "Requirement already satisfied: frozenlist>=1.1.1 in /usr/local/lib/python3.11/dist-packages (from aiohttp>=3.10.2->dataframe_image->-r requirements.txt (line 9)) (1.7.0)\n",
            "Requirement already satisfied: multidict<7.0,>=4.5 in /usr/local/lib/python3.11/dist-packages (from aiohttp>=3.10.2->dataframe_image->-r requirements.txt (line 9)) (6.6.3)\n",
            "Requirement already satisfied: propcache>=0.2.0 in /usr/local/lib/python3.11/dist-packages (from aiohttp>=3.10.2->dataframe_image->-r requirements.txt (line 9)) (0.3.2)\n",
            "Requirement already satisfied: yarl<2.0,>=1.17.0 in /usr/local/lib/python3.11/dist-packages (from aiohttp>=3.10.2->dataframe_image->-r requirements.txt (line 9)) (1.20.1)\n",
            "Requirement already satisfied: wheel<1.0,>=0.23.0 in /usr/local/lib/python3.11/dist-packages (from astunparse>=1.6.0->tensorflow->-r requirements.txt (line 4)) (0.45.1)\n",
            "Requirement already satisfied: rich in /usr/local/lib/python3.11/dist-packages (from keras>=3.5.0->tensorflow->-r requirements.txt (line 4)) (13.9.4)\n",
            "Requirement already satisfied: namex in /usr/local/lib/python3.11/dist-packages (from keras>=3.5.0->tensorflow->-r requirements.txt (line 4)) (0.1.0)\n",
            "Requirement already satisfied: optree in /usr/local/lib/python3.11/dist-packages (from keras>=3.5.0->tensorflow->-r requirements.txt (line 4)) (0.17.0)\n",
            "Requirement already satisfied: bleach!=5.0.0 in /usr/local/lib/python3.11/dist-packages (from bleach[css]!=5.0.0->nbconvert>=5->dataframe_image->-r requirements.txt (line 9)) (6.2.0)\n",
            "Requirement already satisfied: defusedxml in /usr/local/lib/python3.11/dist-packages (from nbconvert>=5->dataframe_image->-r requirements.txt (line 9)) (0.7.1)\n",
            "Requirement already satisfied: jinja2>=3.0 in /usr/local/lib/python3.11/dist-packages (from nbconvert>=5->dataframe_image->-r requirements.txt (line 9)) (3.1.6)\n",
            "Requirement already satisfied: jupyter-core>=4.7 in /usr/local/lib/python3.11/dist-packages (from nbconvert>=5->dataframe_image->-r requirements.txt (line 9)) (5.8.1)\n",
            "Requirement already satisfied: jupyterlab-pygments in /usr/local/lib/python3.11/dist-packages (from nbconvert>=5->dataframe_image->-r requirements.txt (line 9)) (0.3.0)\n",
            "Requirement already satisfied: markupsafe>=2.0 in /usr/local/lib/python3.11/dist-packages (from nbconvert>=5->dataframe_image->-r requirements.txt (line 9)) (3.0.2)\n",
            "Requirement already satisfied: nbclient>=0.5.0 in /usr/local/lib/python3.11/dist-packages (from nbconvert>=5->dataframe_image->-r requirements.txt (line 9)) (0.10.2)\n",
            "Requirement already satisfied: nbformat>=5.7 in /usr/local/lib/python3.11/dist-packages (from nbconvert>=5->dataframe_image->-r requirements.txt (line 9)) (5.10.4)\n",
            "Requirement already satisfied: pandocfilters>=1.4.1 in /usr/local/lib/python3.11/dist-packages (from nbconvert>=5->dataframe_image->-r requirements.txt (line 9)) (1.5.1)\n",
            "Requirement already satisfied: pygments>=2.4.1 in /usr/local/lib/python3.11/dist-packages (from nbconvert>=5->dataframe_image->-r requirements.txt (line 9)) (2.19.2)\n",
            "Requirement already satisfied: traitlets>=5.1 in /usr/local/lib/python3.11/dist-packages (from nbconvert>=5->dataframe_image->-r requirements.txt (line 9)) (5.7.1)\n",
            "Requirement already satisfied: charset-normalizer<4,>=2 in /usr/local/lib/python3.11/dist-packages (from requests<3,>=2.21.0->tensorflow->-r requirements.txt (line 4)) (3.4.2)\n",
            "Requirement already satisfied: idna<4,>=2.5 in /usr/local/lib/python3.11/dist-packages (from requests<3,>=2.21.0->tensorflow->-r requirements.txt (line 4)) (3.10)\n",
            "Requirement already satisfied: urllib3<3,>=1.21.1 in /usr/local/lib/python3.11/dist-packages (from requests<3,>=2.21.0->tensorflow->-r requirements.txt (line 4)) (2.5.0)\n",
            "Requirement already satisfied: certifi>=2017.4.17 in /usr/local/lib/python3.11/dist-packages (from requests<3,>=2.21.0->tensorflow->-r requirements.txt (line 4)) (2025.7.14)\n",
            "Requirement already satisfied: markdown>=2.6.8 in /usr/local/lib/python3.11/dist-packages (from tensorboard<2.19,>=2.18->tensorflow->-r requirements.txt (line 4)) (3.8.2)\n",
            "Requirement already satisfied: tensorboard-data-server<0.8.0,>=0.7.0 in /usr/local/lib/python3.11/dist-packages (from tensorboard<2.19,>=2.18->tensorflow->-r requirements.txt (line 4)) (0.7.2)\n",
            "Requirement already satisfied: werkzeug>=1.0.1 in /usr/local/lib/python3.11/dist-packages (from tensorboard<2.19,>=2.18->tensorflow->-r requirements.txt (line 4)) (3.1.3)\n",
            "Requirement already satisfied: soupsieve>1.2 in /usr/local/lib/python3.11/dist-packages (from beautifulsoup4->dataframe_image->-r requirements.txt (line 9)) (2.7)\n",
            "Requirement already satisfied: more-itertools in /usr/local/lib/python3.11/dist-packages (from cssutils->dataframe_image->-r requirements.txt (line 9)) (10.7.0)\n",
            "Collecting pyee<14,>=13 (from playwright->dataframe_image->-r requirements.txt (line 9))\n",
            "  Downloading pyee-13.0.0-py3-none-any.whl.metadata (2.9 kB)\n",
            "Requirement already satisfied: greenlet<4.0.0,>=3.1.1 in /usr/local/lib/python3.11/dist-packages (from playwright->dataframe_image->-r requirements.txt (line 9)) (3.2.3)\n",
            "Requirement already satisfied: webencodings in /usr/local/lib/python3.11/dist-packages (from bleach!=5.0.0->bleach[css]!=5.0.0->nbconvert>=5->dataframe_image->-r requirements.txt (line 9)) (0.5.1)\n",
            "Requirement already satisfied: tinycss2<1.5,>=1.1.0 in /usr/local/lib/python3.11/dist-packages (from bleach[css]!=5.0.0->nbconvert>=5->dataframe_image->-r requirements.txt (line 9)) (1.4.0)\n",
            "Requirement already satisfied: platformdirs>=2.5 in /usr/local/lib/python3.11/dist-packages (from jupyter-core>=4.7->nbconvert>=5->dataframe_image->-r requirements.txt (line 9)) (4.3.8)\n",
            "Requirement already satisfied: jupyter-client>=6.1.12 in /usr/local/lib/python3.11/dist-packages (from nbclient>=0.5.0->nbconvert>=5->dataframe_image->-r requirements.txt (line 9)) (6.1.12)\n",
            "Requirement already satisfied: fastjsonschema>=2.15 in /usr/local/lib/python3.11/dist-packages (from nbformat>=5.7->nbconvert>=5->dataframe_image->-r requirements.txt (line 9)) (2.21.1)\n",
            "Requirement already satisfied: jsonschema>=2.6 in /usr/local/lib/python3.11/dist-packages (from nbformat>=5.7->nbconvert>=5->dataframe_image->-r requirements.txt (line 9)) (4.25.0)\n",
            "Requirement already satisfied: markdown-it-py>=2.2.0 in /usr/local/lib/python3.11/dist-packages (from rich->keras>=3.5.0->tensorflow->-r requirements.txt (line 4)) (3.0.0)\n",
            "Requirement already satisfied: jsonschema-specifications>=2023.03.6 in /usr/local/lib/python3.11/dist-packages (from jsonschema>=2.6->nbformat>=5.7->nbconvert>=5->dataframe_image->-r requirements.txt (line 9)) (2025.4.1)\n",
            "Requirement already satisfied: referencing>=0.28.4 in /usr/local/lib/python3.11/dist-packages (from jsonschema>=2.6->nbformat>=5.7->nbconvert>=5->dataframe_image->-r requirements.txt (line 9)) (0.36.2)\n",
            "Requirement already satisfied: rpds-py>=0.7.1 in /usr/local/lib/python3.11/dist-packages (from jsonschema>=2.6->nbformat>=5.7->nbconvert>=5->dataframe_image->-r requirements.txt (line 9)) (0.26.0)\n",
            "Requirement already satisfied: pyzmq>=13 in /usr/local/lib/python3.11/dist-packages (from jupyter-client>=6.1.12->nbclient>=0.5.0->nbconvert>=5->dataframe_image->-r requirements.txt (line 9)) (26.2.1)\n",
            "Requirement already satisfied: tornado>=4.1 in /usr/local/lib/python3.11/dist-packages (from jupyter-client>=6.1.12->nbclient>=0.5.0->nbconvert>=5->dataframe_image->-r requirements.txt (line 9)) (6.4.2)\n",
            "Requirement already satisfied: mdurl~=0.1 in /usr/local/lib/python3.11/dist-packages (from markdown-it-py>=2.2.0->rich->keras>=3.5.0->tensorflow->-r requirements.txt (line 4)) (0.1.2)\n",
            "Downloading dataframe_image-0.2.7-py3-none-any.whl (6.7 MB)\n",
            "\u001b[2K   \u001b[90m━━━━━━━━━━━━━━━━━━━━━━━━━━━━━━━━━━━━━━━━\u001b[0m \u001b[32m6.7/6.7 MB\u001b[0m \u001b[31m74.4 MB/s\u001b[0m eta \u001b[36m0:00:00\u001b[0m\n",
            "\u001b[?25hDownloading cssselect-1.3.0-py3-none-any.whl (18 kB)\n",
            "Downloading cssutils-2.11.1-py3-none-any.whl (385 kB)\n",
            "\u001b[2K   \u001b[90m━━━━━━━━━━━━━━━━━━━━━━━━━━━━━━━━━━━━━━━━\u001b[0m \u001b[32m385.7/385.7 kB\u001b[0m \u001b[31m30.0 MB/s\u001b[0m eta \u001b[36m0:00:00\u001b[0m\n",
            "\u001b[?25hDownloading playwright-1.54.0-py3-none-manylinux1_x86_64.whl (45.9 MB)\n",
            "\u001b[2K   \u001b[90m━━━━━━━━━━━━━━━━━━━━━━━━━━━━━━━━━━━━━━━━\u001b[0m \u001b[32m45.9/45.9 MB\u001b[0m \u001b[31m20.4 MB/s\u001b[0m eta \u001b[36m0:00:00\u001b[0m\n",
            "\u001b[?25hDownloading pyee-13.0.0-py3-none-any.whl (15 kB)\n",
            "Installing collected packages: pyee, cssutils, cssselect, playwright, dataframe_image\n",
            "Successfully installed cssselect-1.3.0 cssutils-2.11.1 dataframe_image-0.2.7 playwright-1.54.0 pyee-13.0.0\n"
          ]
        }
      ],
      "source": [
        "# ✅ Instalar librerías necesarias\n",
        "!pip install -r requirements.txt\n"
      ]
    },
    {
      "cell_type": "code",
      "execution_count": 3,
      "id": "165d9394",
      "metadata": {
        "id": "165d9394",
        "colab": {
          "base_uri": "https://localhost:8080/"
        },
        "outputId": "cb70520e-9650-449d-9334-a0836ec7cfe2"
      },
      "outputs": [
        {
          "output_type": "stream",
          "name": "stdout",
          "text": [
            "/usr/local/lib/python3.11/dist-packages/gdown/__main__.py:140: FutureWarning: Option `--id` was deprecated in version 4.3.1 and will be removed in 5.0. You don't need to pass it anymore to use a file ID.\n",
            "  warnings.warn(\n",
            "Downloading...\n",
            "From (original): https://drive.google.com/uc?id=1KVCoiYWN9mtDnQhhqDNeEpDr9Az9jKVa\n",
            "From (redirected): https://drive.google.com/uc?id=1KVCoiYWN9mtDnQhhqDNeEpDr9Az9jKVa&confirm=t&uuid=bc7c8c15-1aa1-44a6-a56b-a060271a8b5a\n",
            "To: /content/DeepNeuralNetworkUSS/Examples/Fraud/data/creditcard.csv\n",
            "100% 151M/151M [00:01<00:00, 125MB/s]\n"
          ]
        }
      ],
      "source": [
        "# ✅ Descargar el dataset desde Google Drive (archivo ya compartido públicamente)\n",
        "!pip install -q gdown\n",
        "!mkdir -p data\n",
        "!gdown --id 1KVCoiYWN9mtDnQhhqDNeEpDr9Az9jKVa -O data/creditcard.csv\n"
      ]
    },
    {
      "cell_type": "code",
      "execution_count": 4,
      "id": "9f3f88ee",
      "metadata": {
        "id": "9f3f88ee",
        "colab": {
          "base_uri": "https://localhost:8080/"
        },
        "outputId": "cebb63aa-e418-4bba-c593-9c0b3fbef8f8"
      },
      "outputs": [
        {
          "output_type": "stream",
          "name": "stdout",
          "text": [
            "Dataset original: 284807 filas, 31 columnas\n",
            "✅ Archivos completos guardados (train_full, val, test)\n"
          ]
        }
      ],
      "source": [
        "# ✅ Procesar los datos\n",
        "!python src/preprocess.py\n"
      ]
    },
    {
      "cell_type": "code",
      "source": [
        "# ✅ Entrenar modelo NN\n",
        "!python -c \"import src.train as train; train.train()\""
      ],
      "metadata": {
        "id": "PlZAoAl1HiPS",
        "colab": {
          "base_uri": "https://localhost:8080/"
        },
        "outputId": "7b83d44d-8b48-49fa-a0d8-ebd6173be5f1"
      },
      "id": "PlZAoAl1HiPS",
      "execution_count": null,
      "outputs": [
        {
          "output_type": "stream",
          "name": "stdout",
          "text": [
            "2025-08-05 03:22:12.462313: E external/local_xla/xla/stream_executor/cuda/cuda_fft.cc:477] Unable to register cuFFT factory: Attempting to register factory for plugin cuFFT when one has already been registered\n",
            "WARNING: All log messages before absl::InitializeLog() is called are written to STDERR\n",
            "E0000 00:00:1754364132.498788    1390 cuda_dnn.cc:8310] Unable to register cuDNN factory: Attempting to register factory for plugin cuDNN when one has already been registered\n",
            "E0000 00:00:1754364132.509580    1390 cuda_blas.cc:1418] Unable to register cuBLAS factory: Attempting to register factory for plugin cuBLAS when one has already been registered\n",
            "2025-08-05 03:22:12.541601: I tensorflow/core/platform/cpu_feature_guard.cc:210] This TensorFlow binary is optimized to use available CPU instructions in performance-critical operations.\n",
            "To enable the following instructions: AVX2 FMA, in other operations, rebuild TensorFlow with the appropriate compiler flags.\n",
            "2025-08-05 03:22:19.362847: W tensorflow/core/common_runtime/gpu/gpu_bfc_allocator.cc:47] Overriding orig_value setting because the TF_FORCE_GPU_ALLOW_GROWTH environment variable is set. Original config value was 0.\n",
            "I0000 00:00:1754364139.365513    1390 gpu_device.cc:2022] Created device /job:localhost/replica:0/task:0/device:GPU:0 with 13942 MB memory:  -> device: 0, name: Tesla T4, pci bus id: 0000:00:04.0, compute capability: 7.5\n",
            "✅ Usando class_weight: {0: np.float64(0.5008642347502763), 1: np.float64(289.7732558139535)}\n",
            "🛑 EarlyStopping ACTIVADO (patience = 5)\n",
            "Epoch 1/50\n",
            "WARNING: All log messages before absl::InitializeLog() is called are written to STDERR\n",
            "I0000 00:00:1754364143.000274    1443 service.cc:148] XLA service 0x7d9804007b30 initialized for platform CUDA (this does not guarantee that XLA will be used). Devices:\n",
            "I0000 00:00:1754364143.000450    1443 service.cc:156]   StreamExecutor device (0): Tesla T4, Compute Capability 7.5\n",
            "2025-08-05 03:22:23.081121: I tensorflow/compiler/mlir/tensorflow/utils/dump_mlir_util.cc:268] disabling MLIR crash reproducer, set env var `MLIR_CRASH_REPRODUCER_DIRECTORY` to enable.\n",
            "I0000 00:00:1754364143.313431    1443 cuda_dnn.cc:529] Loaded cuDNN version 90300\n",
            "I0000 00:00:1754364146.170692    1443 device_compiler.h:188] Compiled cluster using XLA!  This line is logged at most once for the lifetime of the process.\n",
            "\u001b[1m1558/1558\u001b[0m \u001b[32m━━━━━━━━━━━━━━━━━━━━\u001b[0m\u001b[37m\u001b[0m \u001b[1m13s\u001b[0m 5ms/step - accuracy: 0.9464 - loss: 0.8843 - val_accuracy: 0.9780 - val_loss: 0.1173\n",
            "Epoch 2/50\n",
            "\u001b[1m1558/1558\u001b[0m \u001b[32m━━━━━━━━━━━━━━━━━━━━\u001b[0m\u001b[37m\u001b[0m \u001b[1m14s\u001b[0m 3ms/step - accuracy: 0.9548 - loss: 0.2623 - val_accuracy: 0.9749 - val_loss: 0.1223\n",
            "Epoch 3/50\n",
            "\u001b[1m1558/1558\u001b[0m \u001b[32m━━━━━━━━━━━━━━━━━━━━\u001b[0m\u001b[37m\u001b[0m \u001b[1m5s\u001b[0m 3ms/step - accuracy: 0.9578 - loss: 0.1760 - val_accuracy: 0.9751 - val_loss: 0.0983\n",
            "Epoch 4/50\n",
            "\u001b[1m1558/1558\u001b[0m \u001b[32m━━━━━━━━━━━━━━━━━━━━\u001b[0m\u001b[37m\u001b[0m \u001b[1m4s\u001b[0m 3ms/step - accuracy: 0.9673 - loss: 0.1729 - val_accuracy: 0.9817 - val_loss: 0.0810\n",
            "Epoch 5/50\n",
            "\u001b[1m1558/1558\u001b[0m \u001b[32m━━━━━━━━━━━━━━━━━━━━\u001b[0m\u001b[37m\u001b[0m \u001b[1m6s\u001b[0m 4ms/step - accuracy: 0.9685 - loss: 0.1952 - val_accuracy: 0.9849 - val_loss: 0.0821\n",
            "Epoch 6/50\n",
            "\u001b[1m1558/1558\u001b[0m \u001b[32m━━━━━━━━━━━━━━━━━━━━\u001b[0m\u001b[37m\u001b[0m \u001b[1m9s\u001b[0m 3ms/step - accuracy: 0.9761 - loss: 0.1382 - val_accuracy: 0.9740 - val_loss: 0.1026\n",
            "Epoch 7/50\n",
            "\u001b[1m1558/1558\u001b[0m \u001b[32m━━━━━━━━━━━━━━━━━━━━\u001b[0m\u001b[37m\u001b[0m \u001b[1m6s\u001b[0m 4ms/step - accuracy: 0.9720 - loss: 0.1233 - val_accuracy: 0.9804 - val_loss: 0.0812\n",
            "Epoch 8/50\n",
            "\u001b[1m1558/1558\u001b[0m \u001b[32m━━━━━━━━━━━━━━━━━━━━\u001b[0m\u001b[37m\u001b[0m \u001b[1m10s\u001b[0m 4ms/step - accuracy: 0.9763 - loss: 0.0969 - val_accuracy: 0.9799 - val_loss: 0.0702\n",
            "Epoch 9/50\n",
            "\u001b[1m1558/1558\u001b[0m \u001b[32m━━━━━━━━━━━━━━━━━━━━\u001b[0m\u001b[37m\u001b[0m \u001b[1m9s\u001b[0m 3ms/step - accuracy: 0.9734 - loss: 0.1094 - val_accuracy: 0.9858 - val_loss: 0.0566\n",
            "Epoch 10/50\n",
            "\u001b[1m1558/1558\u001b[0m \u001b[32m━━━━━━━━━━━━━━━━━━━━\u001b[0m\u001b[37m\u001b[0m \u001b[1m6s\u001b[0m 3ms/step - accuracy: 0.9778 - loss: 0.1037 - val_accuracy: 0.9793 - val_loss: 0.0764\n",
            "Epoch 11/50\n",
            "\u001b[1m1558/1558\u001b[0m \u001b[32m━━━━━━━━━━━━━━━━━━━━\u001b[0m\u001b[37m\u001b[0m \u001b[1m5s\u001b[0m 3ms/step - accuracy: 0.9729 - loss: 0.0885 - val_accuracy: 0.9870 - val_loss: 0.0487\n",
            "Epoch 12/50\n",
            "\u001b[1m1558/1558\u001b[0m \u001b[32m━━━━━━━━━━━━━━━━━━━━\u001b[0m\u001b[37m\u001b[0m \u001b[1m5s\u001b[0m 3ms/step - accuracy: 0.9786 - loss: 0.0846 - val_accuracy: 0.9848 - val_loss: 0.0570\n",
            "Epoch 13/50\n",
            "\u001b[1m1558/1558\u001b[0m \u001b[32m━━━━━━━━━━━━━━━━━━━━\u001b[0m\u001b[37m\u001b[0m \u001b[1m5s\u001b[0m 3ms/step - accuracy: 0.9762 - loss: 0.1045 - val_accuracy: 0.9826 - val_loss: 0.0561\n",
            "Epoch 14/50\n",
            "\u001b[1m1558/1558\u001b[0m \u001b[32m━━━━━━━━━━━━━━━━━━━━\u001b[0m\u001b[37m\u001b[0m \u001b[1m5s\u001b[0m 3ms/step - accuracy: 0.9753 - loss: 0.0909 - val_accuracy: 0.9801 - val_loss: 0.0605\n",
            "Epoch 15/50\n",
            "\u001b[1m 336/1558\u001b[0m \u001b[32m━━━━\u001b[0m\u001b[37m━━━━━━━━━━━━━━━━\u001b[0m \u001b[1m3s\u001b[0m 3ms/step - accuracy: 0.9735 - loss: 0.0630"
          ]
        }
      ]
    },
    {
      "cell_type": "code",
      "source": [
        "# ✅ Carga de configuracion\n",
        "import sys, os\n",
        "sys.path.append(\"src\")\n",
        "\n",
        "import train\n",
        "import evaluate\n",
        "from utils import *\n",
        "\n",
        "import pandas as pd\n",
        "from tensorflow.keras.models import load_model\n",
        "from sklearn.preprocessing import StandardScaler\n",
        "from sklearn.linear_model import LogisticRegression\n",
        "\n",
        "# Cargar configuración y datos\n",
        "config = train.load_config()\n",
        "train_path = get_training_data_path(config)\n",
        "X_train, y_train = train.load_data(train_path, config[\"base_dir\"])\n",
        "X_test, y_test = train.load_data(config[\"paths\"][\"test\"], config[\"base_dir\"])\n",
        "\n",
        "# Escalado\n",
        "scaler = StandardScaler()\n",
        "X_train_scaled = scaler.fit_transform(X_train)\n",
        "X_test_scaled = scaler.transform(X_test)"
      ],
      "metadata": {
        "id": "w3p2jYNtvSN7"
      },
      "id": "w3p2jYNtvSN7",
      "execution_count": null,
      "outputs": []
    },
    {
      "cell_type": "code",
      "source": [
        "# ✅ Carga de modelo NN y entrenamiento modelo Regresion Logistica\n",
        "\n",
        "# Red Neuronal\n",
        "model_path = os.path.join(config[\"base_dir\"], \"models\", \"model.keras\")\n",
        "nn_model = load_model(model_path)\n",
        "y_prob_nn = nn_model.predict(X_test_scaled).flatten()\n",
        "y_prob_train_nn = nn_model.predict(X_train_scaled).flatten()\n",
        "y_pred_nn = (y_prob_nn > 0.5).astype(int)\n",
        "\n",
        "# Regresión Logística\n",
        "lr_model = LogisticRegression(max_iter=1000)\n",
        "lr_model.fit(X_train_scaled, y_train)\n",
        "y_prob_lr = lr_model.predict_proba(X_test_scaled)[:, 1]\n",
        "y_pred_lr = (y_prob_lr > 0.5).astype(int)\n",
        "\n",
        "# Grafico Loss Function y Precision para la NN\n",
        "plot_training(history)"
      ],
      "metadata": {
        "id": "oRyacNvNvSQv"
      },
      "id": "oRyacNvNvSQv",
      "execution_count": null,
      "outputs": []
    },
    {
      "cell_type": "code",
      "source": [
        "# ✅ Evaluación: generación de métricas y visualizaciones\n",
        "\n",
        "from sklearn.metrics import classification_report, roc_auc_score, roc_curve\n",
        "\n",
        "print(\"🔎 Regressión Logística\")\n",
        "print(classification_report(y_test, y_pred_lr, target_names=[\"No Fraude\", \"Fraude\"]))\n",
        "print(\"AUC:\", roc_auc_score(y_test, y_prob_lr))\n",
        "\n",
        "print(\"\\n🔎 Red Neuronal\")\n",
        "print(classification_report(y_test, y_pred_nn, target_names=[\"No Fraude\", \"Fraude\"]))\n",
        "print(\"AUC:\", roc_auc_score(y_test, y_prob_nn))"
      ],
      "metadata": {
        "id": "MuDjb4oEvSWQ"
      },
      "id": "MuDjb4oEvSWQ",
      "execution_count": null,
      "outputs": []
    },
    {
      "cell_type": "code",
      "source": [
        "# ✅ Comparar curvas ROC\n",
        "fpr_lr, tpr_lr, _ = roc_curve(y_test, y_prob_lr)\n",
        "fpr_nn, tpr_nn, _ = roc_curve(y_test, y_prob_nn)\n",
        "\n",
        "plt.figure(figsize=(8,6))\n",
        "plt.plot(fpr_lr, tpr_lr, label=\"Regresión Logística\")\n",
        "plt.plot(fpr_nn, tpr_nn, label=\"Red Neuronal\")\n",
        "plt.plot([0,1], [0,1], 'k--', alpha=0.5)\n",
        "plt.xlabel(\"Tasa de falsos positivos\")\n",
        "plt.ylabel(\"Tasa de verdaderos positivos\")\n",
        "plt.title(\"Curva ROC - Comparación de Modelos\")\n",
        "plt.legend()\n",
        "plt.grid()\n",
        "plt.show()"
      ],
      "metadata": {
        "id": "XA-R9T8zvSYv"
      },
      "id": "XA-R9T8zvSYv",
      "execution_count": null,
      "outputs": []
    },
    {
      "cell_type": "code",
      "source": [
        "# ✅  Metricas de modelos\n",
        "\n",
        "# Matrices de confusión\n",
        "plot_confusion_matrix(y_test, y_pred_lr, model_name=\"Regresión Logística\", cmap=\"Blues\")\n",
        "plot_confusion_matrix(y_test, y_pred_nn, model_name=\"Red Neuronal\", cmap=\"Greens\")\n",
        "\n",
        "# Tabla de métricas\n",
        "df_metrics = get_classification_metrics_df(\n",
        "    y_test, y_pred_lr, y_prob_lr,\n",
        "    y_test, y_pred_nn, y_prob_nn\n",
        ")\n",
        "display(df_metrics)"
      ],
      "metadata": {
        "id": "ft5Is3mnvSbZ"
      },
      "id": "ft5Is3mnvSbZ",
      "execution_count": null,
      "outputs": []
    },
    {
      "cell_type": "code",
      "source": [
        "# ✅ Distribución de predicciones para NN\n",
        "plot_prediction_distribution(y_test, y_prob_nn)\n",
        "plot_f1_vs_threshold(y_test, y_prob_nn, modelo=\"Red Neuronal\")"
      ],
      "metadata": {
        "id": "BacbTurbyF7l"
      },
      "id": "BacbTurbyF7l",
      "execution_count": null,
      "outputs": []
    },
    {
      "cell_type": "code",
      "source": [
        "# ✅ Distribución de predicciones para Regresión Logística\n",
        "plot_prediction_distribution(y_test, y_prob_lr)\n",
        "plot_f1_vs_threshold(y_test, y_prob_lr, modelo=\"Regresión Logística\")"
      ],
      "metadata": {
        "id": "osZHnvUNyF-G"
      },
      "id": "osZHnvUNyF-G",
      "execution_count": null,
      "outputs": []
    },
    {
      "cell_type": "code",
      "source": [
        "# ✅ Evaluación de sobreajuste en la red neuronal\n",
        "plot_ks_overtraining(y_train, y_prob_train_nn, y_test, y_prob_nn)"
      ],
      "metadata": {
        "id": "amXHy3f_yGAz"
      },
      "id": "amXHy3f_yGAz",
      "execution_count": null,
      "outputs": []
    },
    {
      "cell_type": "code",
      "source": [],
      "metadata": {
        "id": "CafcqnvyIdgH"
      },
      "id": "CafcqnvyIdgH",
      "execution_count": null,
      "outputs": []
    }
  ],
  "metadata": {
    "colab": {
      "provenance": [],
      "machine_shape": "hm",
      "gpuType": "T4",
      "include_colab_link": true
    },
    "language_info": {
      "name": "python"
    },
    "kernelspec": {
      "name": "python3",
      "display_name": "Python 3"
    },
    "accelerator": "GPU"
  },
  "nbformat": 4,
  "nbformat_minor": 5
}