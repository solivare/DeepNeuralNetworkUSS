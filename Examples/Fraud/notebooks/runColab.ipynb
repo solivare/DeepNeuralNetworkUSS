{
 "cells": [
  {
   "cell_type": "markdown",
   "id": "6ab0faf9",
   "metadata": {},
   "source": [
    "# 🧠 Proyecto de Detección de Fraude con DNN\n",
    "Este notebook está diseñado para ejecutarse directamente en Google Colab y permite clonar el repositorio, instalar dependencias, procesar datos, entrenar una red neuronal y evaluar su desempeño."
   ]
  },
  {
   "cell_type": "code",
   "execution_count": 1,
   "id": "ee7e078c",
   "metadata": {},
   "outputs": [
    {
     "name": "stdout",
     "output_type": "stream",
     "text": [
      "c:\\Users\\jorge\\Documentos\\GitHub\\DeepNeuralNetworkUSS1\\Examples\\Fraud\\notebooks\\DeepNeuralNetworkUSS\\Examples\\Fraud\n"
     ]
    },
    {
     "name": "stderr",
     "output_type": "stream",
     "text": [
      "Cloning into 'DeepNeuralNetworkUSS'...\n"
     ]
    }
   ],
   "source": [
    "# 📥 Clonar el repositorio (si es público)\n",
    "!git clone https://github.com/solivare/DeepNeuralNetworkUSS.git\n",
    "%cd DeepNeuralNetworkUSS/Examples/Fraud"
   ]
  },
  {
   "cell_type": "code",
   "execution_count": 2,
   "id": "62e8f32c",
   "metadata": {},
   "outputs": [
    {
     "name": "stdout",
     "output_type": "stream",
     "text": [
      "Defaulting to user installation because normal site-packages is not writeable\n",
      "Collecting pandas (from -r requirements.txt (line 1))\n",
      "  Using cached pandas-2.3.0-cp313-cp313-win_amd64.whl.metadata (19 kB)\n",
      "Collecting numpy (from -r requirements.txt (line 2))\n",
      "  Downloading numpy-2.3.1-cp313-cp313-win_amd64.whl.metadata (60 kB)\n",
      "Collecting scikit-learn (from -r requirements.txt (line 3))\n",
      "  Using cached scikit_learn-1.7.0-cp313-cp313-win_amd64.whl.metadata (14 kB)\n"
     ]
    },
    {
     "name": "stderr",
     "output_type": "stream",
     "text": [
      "ERROR: Ignored the following versions that require a different python version: 1.21.2 Requires-Python >=3.7,<3.11; 1.21.3 Requires-Python >=3.7,<3.11; 1.21.4 Requires-Python >=3.7,<3.11; 1.21.5 Requires-Python >=3.7,<3.11; 1.21.6 Requires-Python >=3.7,<3.11; 1.26.0 Requires-Python <3.13,>=3.9; 1.26.1 Requires-Python <3.13,>=3.9\n",
      "ERROR: Could not find a version that satisfies the requirement tensorflow (from versions: none)\n",
      "ERROR: No matching distribution found for tensorflow\n"
     ]
    }
   ],
   "source": [
    "# 📦 Instalar dependencias necesarias\n",
    "!pip install -r requirements.txt"
   ]
  },
  {
   "cell_type": "code",
   "execution_count": 3,
   "id": "c409b744",
   "metadata": {},
   "outputs": [
    {
     "name": "stderr",
     "output_type": "stream",
     "text": [
      "Traceback (most recent call last):\n",
      "  File \u001b[35m\"c:\\Users\\jorge\\Documentos\\GitHub\\DeepNeuralNetworkUSS1\\Examples\\Fraud\\notebooks\\DeepNeuralNetworkUSS\\Examples\\Fraud\\src\\preprocess.py\"\u001b[0m, line \u001b[35m1\u001b[0m, in \u001b[35m<module>\u001b[0m\n",
      "    import pandas as pd\n",
      "\u001b[1;35mModuleNotFoundError\u001b[0m: \u001b[35mNo module named 'pandas'\u001b[0m\n"
     ]
    }
   ],
   "source": [
    "# 🧪 Procesar datos según configuración\n",
    "!python src/preprocess.py"
   ]
  },
  {
   "cell_type": "code",
   "execution_count": 4,
   "id": "181d766c",
   "metadata": {},
   "outputs": [
    {
     "name": "stderr",
     "output_type": "stream",
     "text": [
      "Traceback (most recent call last):\n",
      "  File \u001b[35m\"c:\\Users\\jorge\\Documentos\\GitHub\\DeepNeuralNetworkUSS1\\Examples\\Fraud\\notebooks\\DeepNeuralNetworkUSS\\Examples\\Fraud\\src\\train.py\"\u001b[0m, line \u001b[35m1\u001b[0m, in \u001b[35m<module>\u001b[0m\n",
      "    import pandas as pd\n",
      "\u001b[1;35mModuleNotFoundError\u001b[0m: \u001b[35mNo module named 'pandas'\u001b[0m\n"
     ]
    }
   ],
   "source": [
    "# 🚀 Entrenar el modelo definido en config.yaml\n",
    "!python src/train.py"
   ]
  },
  {
   "cell_type": "code",
   "execution_count": 5,
   "id": "6d2d6653",
   "metadata": {},
   "outputs": [
    {
     "ename": "ModuleNotFoundError",
     "evalue": "No module named 'utils'",
     "output_type": "error",
     "traceback": [
      "\u001b[31m---------------------------------------------------------------------------\u001b[39m",
      "\u001b[31mModuleNotFoundError\u001b[39m                       Traceback (most recent call last)",
      "\u001b[36mCell\u001b[39m\u001b[36m \u001b[39m\u001b[32mIn[5]\u001b[39m\u001b[32m, line 9\u001b[39m\n\u001b[32m      7\u001b[39m \u001b[38;5;28;01mfrom\u001b[39;00m\u001b[38;5;250m \u001b[39m\u001b[34;01msklearn\u001b[39;00m\u001b[34;01m.\u001b[39;00m\u001b[34;01mpreprocessing\u001b[39;00m\u001b[38;5;250m \u001b[39m\u001b[38;5;28;01mimport\u001b[39;00m StandardScaler\n\u001b[32m      8\u001b[39m \u001b[38;5;28;01mimport\u001b[39;00m\u001b[38;5;250m \u001b[39m\u001b[34;01mmatplotlib\u001b[39;00m\u001b[34;01m.\u001b[39;00m\u001b[34;01mpyplot\u001b[39;00m\u001b[38;5;250m \u001b[39m\u001b[38;5;28;01mas\u001b[39;00m\u001b[38;5;250m \u001b[39m\u001b[34;01mplt\u001b[39;00m\n\u001b[32m----> \u001b[39m\u001b[32m9\u001b[39m \u001b[38;5;28;01mfrom\u001b[39;00m\u001b[38;5;250m \u001b[39m\u001b[34;01mutils\u001b[39;00m\u001b[38;5;250m \u001b[39m\u001b[38;5;28;01mimport\u001b[39;00m plot_score_distribution, plot_training, get_training_data_path\n\u001b[32m     11\u001b[39m \u001b[38;5;66;03m# Cargar configuración y datos\u001b[39;00m\n\u001b[32m     12\u001b[39m config = train.load_config()\n",
      "\u001b[31mModuleNotFoundError\u001b[39m: No module named 'utils'"
     ]
    }
   ],
   "source": [
    "# 📊 Evaluación del modelo entrenado\n",
    "import sys, os\n",
    "sys.path.append('src')\n",
    "import train, evaluate\n",
    "from tensorflow.keras.models import load_model\n",
    "import pandas as pd\n",
    "from sklearn.preprocessing import StandardScaler\n",
    "import matplotlib.pyplot as plt\n",
    "from utils import plot_score_distribution, plot_training, get_training_data_path\n",
    "\n",
    "# Cargar configuración y datos\n",
    "config = train.load_config()\n",
    "train_path = get_training_data_path(config)\n",
    "X_train, y_train = train.load_data(train_path, config['base_dir'])\n",
    "X_test, y_test = train.load_data(config['paths']['test'], config['base_dir'])\n",
    "\n",
    "# Escalar\n",
    "scaler = StandardScaler()\n",
    "X_train = scaler.fit_transform(X_train)\n",
    "X_test = scaler.transform(X_test)\n",
    "\n",
    "# Cargar modelo y predecir\n",
    "model = load_model('models/model.keras')\n",
    "y_prob = model.predict(X_test).flatten()\n",
    "y_pred = (y_prob > 0.5).astype(int)\n",
    "\n",
    "# Métricas\n",
    "evaluate.print_classification_metrics(y_test, y_pred, y_prob)\n",
    "plot_score_distribution(y_test, y_prob)"
   ]
  }
 ],
 "metadata": {
  "kernelspec": {
   "display_name": "Python 3",
   "language": "python",
   "name": "python3"
  },
  "language_info": {
   "codemirror_mode": {
    "name": "ipython",
    "version": 3
   },
   "file_extension": ".py",
   "mimetype": "text/x-python",
   "name": "python",
   "nbconvert_exporter": "python",
   "pygments_lexer": "ipython3",
   "version": "3.11.9"
  }
 },
 "nbformat": 4,
 "nbformat_minor": 5
}
