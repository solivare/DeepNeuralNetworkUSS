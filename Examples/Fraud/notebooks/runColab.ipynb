{
  "cells": [
    {
      "cell_type": "markdown",
      "id": "c6069ffc",
      "metadata": {
        "id": "c6069ffc"
      },
      "source": [
        "# 🔗 Proyecto de Detección de Fraude - Google Colab"
      ]
    },
    {
      "cell_type": "code",
      "execution_count": null,
      "id": "0f84c80e",
      "metadata": {
        "id": "0f84c80e"
      },
      "outputs": [],
      "source": [
        "# ✅ Clonar el repositorio (asegúrate de que sea público)\n",
        "!git clone https://github.com/solivare/DeepNeuralNetworkUSS.git\n",
        "%cd DeepNeuralNetworkUSS/Examples/Fraud\n"
      ]
    },
    {
      "cell_type": "code",
      "execution_count": null,
      "id": "3d8767d0",
      "metadata": {
        "id": "3d8767d0"
      },
      "outputs": [],
      "source": [
        "# ✅ Instalar librerías necesarias\n",
        "!pip install -r requirements.txt\n"
      ]
    },
    {
      "cell_type": "code",
      "execution_count": null,
      "id": "165d9394",
      "metadata": {
        "id": "165d9394"
      },
      "outputs": [],
      "source": [
        "# ✅ Descargar el dataset desde Google Drive (archivo ya compartido públicamente)\n",
        "!pip install -q gdown\n",
        "!mkdir -p data\n",
        "!gdown --id 1KVCoiYWN9mtDnQhhqDNeEpDr9Az9jKVa -O data/creditcard.csv\n"
      ]
    },
    {
      "cell_type": "code",
      "execution_count": null,
      "id": "9f3f88ee",
      "metadata": {
        "id": "9f3f88ee"
      },
      "outputs": [],
      "source": [
        "# ✅ Procesar los datos\n",
        "!python src/preprocess.py\n"
      ]
    },
    {
      "cell_type": "code",
      "source": [
        "# ✅ Entrenar modelo NN\n",
        "!python -c \"import src.train as train; train.train()\""
      ],
      "metadata": {
        "id": "PlZAoAl1HiPS"
      },
      "id": "PlZAoAl1HiPS",
      "execution_count": null,
      "outputs": []
    },
    {
      "cell_type": "code",
      "source": [
        "# ✅ Carga de configuracion\n",
        "import sys, os\n",
        "sys.path.append(\"src\")\n",
        "\n",
        "import train\n",
        "import evaluate\n",
        "from utils import *\n",
        "\n",
        "import pandas as pd\n",
        "from tensorflow.keras.models import load_model\n",
        "from sklearn.preprocessing import StandardScaler\n",
        "from sklearn.linear_model import LogisticRegression\n",
        "\n",
        "# Cargar configuración y datos\n",
        "config = train.load_config()\n",
        "train_path = get_training_data_path(config)\n",
        "X_train, y_train = train.load_data(train_path, config[\"base_dir\"])\n",
        "X_test, y_test = train.load_data(config[\"paths\"][\"test\"], config[\"base_dir\"])\n",
        "\n",
        "# Escalado\n",
        "scaler = StandardScaler()\n",
        "X_train_scaled = scaler.fit_transform(X_train)\n",
        "X_test_scaled = scaler.transform(X_test)"
      ],
      "metadata": {
        "id": "w3p2jYNtvSN7"
      },
      "id": "w3p2jYNtvSN7",
      "execution_count": null,
      "outputs": []
    },
    {
      "cell_type": "code",
      "source": [
        "# ✅ Carga de modelo NN y entrenamiento modelo Regresion Logistica\n",
        "\n",
        "# Red Neuronal\n",
        "model_path = os.path.join(config[\"base_dir\"], \"models\", \"model.keras\")\n",
        "nn_model = load_model(model_path)\n",
        "y_prob_nn = nn_model.predict(X_test_scaled).flatten()\n",
        "y_prob_train_nn = nn_model.predict(X_train_scaled).flatten()\n",
        "y_pred_nn = (y_prob_nn > 0.5).astype(int)\n",
        "\n",
        "# Regresión Logística\n",
        "lr_model = LogisticRegression(max_iter=1000)\n",
        "lr_model.fit(X_train_scaled, y_train)\n",
        "y_prob_lr = lr_model.predict_proba(X_test_scaled)[:, 1]\n",
        "y_pred_lr = (y_prob_lr > 0.5).astype(int)\n",
        "\n",
        "# Grafico Loss Function y Precision para la NN\n",
        "plot_training(history)"
      ],
      "metadata": {
        "id": "oRyacNvNvSQv"
      },
      "id": "oRyacNvNvSQv",
      "execution_count": null,
      "outputs": []
    },
    {
      "cell_type": "code",
      "source": [
        "# ✅ Evaluación: generación de métricas y visualizaciones\n",
        "\n",
        "from sklearn.metrics import classification_report, roc_auc_score, roc_curve\n",
        "\n",
        "print(\"🔎 Regressión Logística\")\n",
        "print(classification_report(y_test, y_pred_lr, target_names=[\"No Fraude\", \"Fraude\"]))\n",
        "print(\"AUC:\", roc_auc_score(y_test, y_prob_lr))\n",
        "\n",
        "print(\"\\n🔎 Red Neuronal\")\n",
        "print(classification_report(y_test, y_pred_nn, target_names=[\"No Fraude\", \"Fraude\"]))\n",
        "print(\"AUC:\", roc_auc_score(y_test, y_prob_nn))"
      ],
      "metadata": {
        "id": "MuDjb4oEvSWQ"
      },
      "id": "MuDjb4oEvSWQ",
      "execution_count": null,
      "outputs": []
    },
    {
      "cell_type": "code",
      "source": [
        "# ✅ Comparar curvas ROC\n",
        "fpr_lr, tpr_lr, _ = roc_curve(y_test, y_prob_lr)\n",
        "fpr_nn, tpr_nn, _ = roc_curve(y_test, y_prob_nn)\n",
        "\n",
        "plt.figure(figsize=(8,6))\n",
        "plt.plot(fpr_lr, tpr_lr, label=\"Regresión Logística\")\n",
        "plt.plot(fpr_nn, tpr_nn, label=\"Red Neuronal\")\n",
        "plt.plot([0,1], [0,1], 'k--', alpha=0.5)\n",
        "plt.xlabel(\"Tasa de falsos positivos\")\n",
        "plt.ylabel(\"Tasa de verdaderos positivos\")\n",
        "plt.title(\"Curva ROC - Comparación de Modelos\")\n",
        "plt.legend()\n",
        "plt.grid()\n",
        "plt.show()"
      ],
      "metadata": {
        "id": "XA-R9T8zvSYv"
      },
      "id": "XA-R9T8zvSYv",
      "execution_count": null,
      "outputs": []
    },
    {
      "cell_type": "code",
      "source": [
        "# ✅  Metricas de modelos\n",
        "\n",
        "# Matrices de confusión\n",
        "plot_confusion_matrix(y_test, y_pred_lr, model_name=\"Regresión Logística\", cmap=\"Blues\")\n",
        "plot_confusion_matrix(y_test, y_pred_nn, model_name=\"Red Neuronal\", cmap=\"Greens\")\n",
        "\n",
        "# Tabla de métricas\n",
        "df_metrics = get_classification_metrics_df(\n",
        "    y_test, y_pred_lr, y_prob_lr,\n",
        "    y_test, y_pred_nn, y_prob_nn\n",
        ")\n",
        "display(df_metrics)"
      ],
      "metadata": {
        "id": "ft5Is3mnvSbZ"
      },
      "id": "ft5Is3mnvSbZ",
      "execution_count": null,
      "outputs": []
    },
    {
      "cell_type": "code",
      "source": [
        "# ✅ Distribución de predicciones para NN\n",
        "plot_prediction_distribution(y_test, y_prob_nn)\n",
        "plot_f1_vs_threshold(y_test, y_prob_nn, modelo=\"Red Neuronal\")"
      ],
      "metadata": {
        "id": "BacbTurbyF7l"
      },
      "id": "BacbTurbyF7l",
      "execution_count": null,
      "outputs": []
    },
    {
      "cell_type": "code",
      "source": [
        "# ✅ Distribución de predicciones para Regresión Logística\n",
        "plot_prediction_distribution(y_test, y_prob_lr)\n",
        "plot_f1_vs_threshold(y_test, y_prob_lr, modelo=\"Regresión Logística\")"
      ],
      "metadata": {
        "id": "osZHnvUNyF-G"
      },
      "id": "osZHnvUNyF-G",
      "execution_count": null,
      "outputs": []
    },
    {
      "cell_type": "code",
      "source": [
        "# ✅ Evaluación de sobreajuste en la red neuronal\n",
        "plot_ks_overtraining(y_train, y_prob_train_nn, y_test, y_prob_nn)"
      ],
      "metadata": {
        "id": "amXHy3f_yGAz"
      },
      "id": "amXHy3f_yGAz",
      "execution_count": null,
      "outputs": []
    },
    {
      "cell_type": "code",
      "source": [],
      "metadata": {
        "id": "CafcqnvyIdgH"
      },
      "id": "CafcqnvyIdgH",
      "execution_count": null,
      "outputs": []
    }
  ],
  "metadata": {
    "colab": {
      "provenance": [],
      "machine_shape": "hm",
      "gpuType": "A100"
    },
    "language_info": {
      "name": "python"
    },
    "kernelspec": {
      "name": "python3",
      "display_name": "Python 3"
    },
    "accelerator": "GPU"
  },
  "nbformat": 4,
  "nbformat_minor": 5
}