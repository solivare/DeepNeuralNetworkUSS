{
 "cells": [
  {
   "cell_type": "code",
   "execution_count": null,
   "id": "60ba7132",
   "metadata": {},
   "outputs": [],
   "source": [
    "# 1. Cargar librerías\n",
    "import pandas as pd\n",
    "import matplotlib.pyplot as plt\n",
    "import seaborn as sns\n",
    "\n",
    "from utils import plot_correlation_matrix"
   ]
  },
  {
   "cell_type": "code",
   "execution_count": null,
   "id": "b790e780",
   "metadata": {},
   "outputs": [],
   "source": [
    "# 2. Cargar dataset completo\n",
    "df = pd.read_csv(\"../data/creditcard.csv\")\n",
    "print(f\"Dataset cargado: {df.shape}\")"
   ]
  },
  {
   "cell_type": "code",
   "execution_count": null,
   "id": "e9eefdf2",
   "metadata": {},
   "outputs": [],
   "source": [
    "# 2. Cargar dataset completo\n",
    "df = pd.read_csv(\"../data/creditcard.csv\")\n",
    "print(f\"Dataset cargado: {df.shape}\")"
   ]
  },
  {
   "cell_type": "code",
   "execution_count": null,
   "id": "47e44a3c",
   "metadata": {},
   "outputs": [],
   "source": [
    "# 3. Mostrar primeros registros y distribución de clases\n",
    "df.head()\n",
    "df[\"Class\"].value_counts(normalize=True) * 100"
   ]
  },
  {
   "cell_type": "code",
   "execution_count": null,
   "id": "1a6f8b9e",
   "metadata": {},
   "outputs": [],
   "source": [
    "# 4. Visualización de balance de clases\n",
    "sns.countplot(data=df, x=\"Class\")\n",
    "plt.title(\"Distribución de Clases (0 = No Fraude, 1 = Fraude)\")\n",
    "plt.show()"
   ]
  },
  {
   "cell_type": "code",
   "execution_count": null,
   "id": "a9e5ab66",
   "metadata": {},
   "outputs": [],
   "source": [
    "# 5. Estadísticas descriptivas\n",
    "df.describe()"
   ]
  },
  {
   "cell_type": "code",
   "execution_count": null,
   "id": "07f3b44f",
   "metadata": {},
   "outputs": [],
   "source": [
    "# 6. Correlación con variable target\n",
    "corr = df.corr()[\"Class\"].drop(\"Class\")\n",
    "corr.abs().sort_values(ascending=False).plot(kind=\"bar\", figsize=(10, 4))\n",
    "plt.title(\"Correlación (absoluta) con la clase\")\n",
    "plt.ylabel(\"Correlación\")\n",
    "plt.grid(True)\n",
    "plt.show()"
   ]
  },
  {
   "cell_type": "code",
   "execution_count": null,
   "id": "ce06251c",
   "metadata": {},
   "outputs": [],
   "source": [
    "# 7. Visualización de algunas variables (ejemplo: Amount)\n",
    "sns.boxplot(data=df, x=\"Class\", y=\"Amount\")\n",
    "plt.title(\"Distribución del monto por clase\")\n",
    "plt.show()"
   ]
  },
  {
   "cell_type": "code",
   "execution_count": null,
   "id": "83d5c28c",
   "metadata": {},
   "outputs": [],
   "source": [
    "# 8. Visualización de la correlacion entre variables \n",
    "\n",
    "# Mostrar matriz completa y top 10\n",
    "plot_correlation_matrix(df)\n",
    "\n",
    "# Solo mostrar correlaciones fuertes (mayores a 0.7)\n",
    "#plot_correlation_matrix(df, threshold=0.3)\n",
    "\n",
    "# Herramienta en seaborn\n",
    "corr = df.corr()\n",
    "sns.heatmap(corr, cmap='coolwarm')\n",
    "plt.show()"
   ]
  },
  {
   "cell_type": "code",
   "execution_count": null,
   "id": "12301085",
   "metadata": {},
   "outputs": [],
   "source": [
    "# 9. Distribucion del tiempo de transaccion y la cantidad transferida.\n",
    "plt.figure(figsize=(12, 6))\n",
    "plt.subplot(1, 2, 1)\n",
    "sns.histplot(df['Time'], bins=50, kde=True)\n",
    "plt.title('Distribución del Tiempo de Transacción')\n",
    "plt.subplot(1, 2, 2)\n",
    "sns.histplot(df['Amount'], bins=50, kde=True)\n",
    "plt.title('Distribución del Monto de Transacción')\n",
    "plt.tight_layout()\n",
    "plt.show()"
   ]
  }
 ],
 "metadata": {
  "kernelspec": {
   "display_name": "venv_fraud",
   "language": "python",
   "name": "python3"
  },
  "language_info": {
   "codemirror_mode": {
    "name": "ipython",
    "version": 3
   },
   "file_extension": ".py",
   "mimetype": "text/x-python",
   "name": "python",
   "nbconvert_exporter": "python",
   "pygments_lexer": "ipython3",
   "version": "3.11.9"
  }
 },
 "nbformat": 4,
 "nbformat_minor": 5
}
