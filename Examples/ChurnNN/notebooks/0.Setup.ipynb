{
 "cells": [
  {
   "cell_type": "markdown",
   "id": "6a209779",
   "metadata": {},
   "source": [
    "## 🔧 Configuración automática para Google Colab\n"
   ]
  },
  {
   "cell_type": "code",
   "execution_count": 1,
   "id": "cfa45fb4",
   "metadata": {},
   "outputs": [],
   "source": [
    "import os"
   ]
  },
  {
   "cell_type": "code",
   "execution_count": 2,
   "id": "0cbad382",
   "metadata": {},
   "outputs": [
    {
     "name": "stderr",
     "output_type": "stream",
     "text": [
      "Cloning into 'DeepNeuralNetworkUSS'...\n"
     ]
    }
   ],
   "source": [
    "# Paso 1: Clonar el repositorio (si aún no existe)\n",
    "repo_dir = \"/content/DeepNeuralNetworkUSS\"\n",
    "if not os.path.exists(repo_dir):\n",
    "    !git clone https://github.com/solivare/DeepNeuralNetworkUSS.git"
   ]
  },
  {
   "cell_type": "code",
   "execution_count": 3,
   "id": "385104d8",
   "metadata": {},
   "outputs": [
    {
     "name": "stdout",
     "output_type": "stream",
     "text": [
      "[WinError 3] El sistema no puede encontrar la ruta especificada: '/content/DeepNeuralNetworkUSS/Examples/ChurnNN'\n",
      "c:\\Users\\Bayron\\Documents\\GitHub\\DeepNeuralNetworkUSS\\Examples\\ChurnNN\\notebooks\n"
     ]
    }
   ],
   "source": [
    "# Paso 2: Cambiar a la carpeta del proyecto de churn\n",
    "%cd /content/DeepNeuralNetworkUSS/Examples/ChurnNN"
   ]
  },
  {
   "cell_type": "code",
   "execution_count": 4,
   "id": "5b431ad2",
   "metadata": {},
   "outputs": [
    {
     "name": "stdout",
     "output_type": "stream",
     "text": [
      "⚠️ No se encontró requirements.txt\n"
     ]
    }
   ],
   "source": [
    "# Paso 3: Instalar dependencias\n",
    "if os.path.exists(\"requirements.txt\"):\n",
    "    !pip install -q -r requirements.txt\n",
    "else:\n",
    "    print(\"⚠️ No se encontró requirements.txt\")"
   ]
  },
  {
   "cell_type": "code",
   "execution_count": null,
   "id": "7dbe58b6",
   "metadata": {},
   "outputs": [],
   "source": [
    "# Paso 4: Agregar src al path\n",
    "import sys\n",
    "src_path = \"/content/DeepNeuralNetworkUSS/Examples/ChurnNN/src\"\n",
    "if src_path not in sys.path:\n",
    "    sys.path.append(src_path)\n",
    "\n",
    "print(\"✅ Entorno listo. Puedes continuar con main.ipynb\")"
   ]
  }
 ],
 "metadata": {
  "kernelspec": {
   "display_name": "base",
   "language": "python",
   "name": "python3"
  },
  "language_info": {
   "codemirror_mode": {
    "name": "ipython",
    "version": 3
   },
   "file_extension": ".py",
   "mimetype": "text/x-python",
   "name": "python",
   "nbconvert_exporter": "python",
   "pygments_lexer": "ipython3",
   "version": "3.12.4"
  }
 },
 "nbformat": 4,
 "nbformat_minor": 5
}
