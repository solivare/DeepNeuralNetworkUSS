{
 "cells": [
  {
   "cell_type": "code",
   "execution_count": null,
   "id": "204d55f7",
   "metadata": {},
   "outputs": [],
   "source": [
    "# 🔧 Configurar entorno para ejecutar el proyecto en Google Colab\n",
    "\n",
    "import os\n",
    "import sys\n",
    "\n",
    "# Paso 1: Clonar repositorio si no existe\n",
    "REPO_PATH = \"/content/DeepNeuralNetworkUSS\"\n",
    "if not os.path.exists(REPO_PATH):\n",
    "    !git clone https://github.com/solivare/DeepNeuralNetworkUSS.git\n",
    "\n",
    "# Paso 2: Definir ruta base del proyecto\n",
    "BASE_PATH = os.path.join(REPO_PATH, \"Examples\", \"ChurnNN\")\n",
    "SRC_PATH = os.path.join(BASE_PATH, \"src\")\n",
    "\n",
    "# Paso 3: Instalar dependencias\n",
    "REQ_PATH = os.path.join(BASE_PATH, \"requirements.txt\")\n",
    "if os.path.exists(REQ_PATH):\n",
    "    !pip install -q -r {REQ_PATH}\n",
    "else:\n",
    "    print(\"⚠️ requirements.txt no encontrado\")\n",
    "\n",
    "# Paso 4: Agregar src al path\n",
    "if SRC_PATH not in sys.path:\n",
    "    sys.path.append(SRC_PATH)\n",
    "\n",
    "print(\"✅ Entorno configurado.\")\n"
   ]
  },
  {
   "cell_type": "code",
   "execution_count": null,
   "id": "cadd49df",
   "metadata": {},
   "outputs": [],
   "source": [
    "# 📦 Importar librerías y cargar dataset\n",
    "\n",
    "import pandas as pd\n",
    "from sklearn.model_selection import train_test_split\n",
    "from sklearn.preprocessing import StandardScaler\n",
    "\n",
    "# Cargar datos\n",
    "data_path = os.path.join(BASE_PATH, \"data\", \"churn_dataset.csv\")\n",
    "df = pd.read_csv(data_path)\n",
    "df.head()\n"
   ]
  },
  {
   "cell_type": "code",
   "execution_count": null,
   "id": "41e6accf",
   "metadata": {},
   "outputs": [],
   "source": [
    "# 🔍 Separar variables y escalar\n",
    "\n",
    "X = df.drop(\"churn\", axis=1)\n",
    "y = df[\"churn\"]\n",
    "\n",
    "scaler = StandardScaler()\n",
    "X_scaled = scaler.fit_transform(X)\n",
    "X_train, X_test, y_train, y_test = train_test_split(\n",
    "    X_scaled, y, test_size=0.2, random_state=42\n",
    ")\n"
   ]
  },
  {
   "cell_type": "code",
   "execution_count": null,
   "id": "d43c58c1",
   "metadata": {},
   "outputs": [],
   "source": [
    "# 🧠 Construir modelo desde configuración\n",
    "\n",
    "import yaml\n",
    "from model import build_model\n",
    "from utils import plot_metrics, show_confusion_matrix\n",
    "\n",
    "# Cargar configuración\n",
    "config_path = os.path.join(SRC_PATH, \"config.yaml\")\n",
    "with open(config_path) as f:\n",
    "    config = yaml.safe_load(f)\n",
    "\n",
    "model = build_model(config)\n"
   ]
  },
  {
   "cell_type": "code",
   "execution_count": null,
   "id": "b942ef81",
   "metadata": {},
   "outputs": [],
   "source": [
    "# 🚂 Entrenar modelo\n",
    "\n",
    "history = model.fit(\n",
    "    X_train, y_train,\n",
    "    validation_split=0.2,\n",
    "    epochs=config['training']['epochs'],\n",
    "    batch_size=config['training']['batch_size']\n",
    ")\n"
   ]
  },
  {
   "cell_type": "code",
   "execution_count": null,
   "id": "d08d6559",
   "metadata": {},
   "outputs": [],
   "source": [
    "# 📉 Visualización del entrenamiento\n",
    "\n",
    "plot_metrics(history)\n"
   ]
  },
  {
   "cell_type": "code",
   "execution_count": null,
   "id": "ade36dee",
   "metadata": {},
   "outputs": [],
   "source": [
    "# 🧪 Evaluar modelo\n",
    "\n",
    "y_pred = model.predict(X_test)\n",
    "y_pred_classes = (y_pred > 0.5).astype(int)\n",
    "show_confusion_matrix(y_test, y_pred_classes)\n"
   ]
  }
 ],
 "metadata": {
  "language_info": {
   "name": "python"
  }
 },
 "nbformat": 4,
 "nbformat_minor": 5
}
