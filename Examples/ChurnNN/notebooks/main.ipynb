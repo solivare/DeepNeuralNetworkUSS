{
 "cells": [
  {
   "cell_type": "markdown",
   "id": "b140e23d",
   "metadata": {},
   "source": [
    "# 📊 Predicción de Abandono de Clientes (Churn)\n",
    "Este proyecto entrena una red neuronal simple para predecir si un cliente abandonará un servicio.\n",
    "\n",
    "### Objetivos:\n",
    "- Cargar y preparar un dataset tabular\n",
    "- Entrenar una red neuronal con Keras\n",
    "- Visualizar curvas de entrenamiento\n",
    "- Evaluar el modelo con métricas comunes\n",
    "- Aplicar buenas prácticas de ingeniería de proyectos"
   ]
  },
  {
   "cell_type": "code",
   "execution_count": 1,
   "id": "7c5f0f5b",
   "metadata": {},
   "outputs": [],
   "source": [
    "# 📦 1. Importar librerías principales\n",
    "import pandas as pd\n",
    "from sklearn.model_selection import train_test_split\n",
    "from sklearn.preprocessing import StandardScaler"
   ]
  },
  {
   "cell_type": "code",
   "execution_count": 2,
   "id": "dfb99523",
   "metadata": {},
   "outputs": [
    {
     "data": {
      "text/html": [
       "<div>\n",
       "<style scoped>\n",
       "    .dataframe tbody tr th:only-of-type {\n",
       "        vertical-align: middle;\n",
       "    }\n",
       "\n",
       "    .dataframe tbody tr th {\n",
       "        vertical-align: top;\n",
       "    }\n",
       "\n",
       "    .dataframe thead th {\n",
       "        text-align: right;\n",
       "    }\n",
       "</style>\n",
       "<table border=\"1\" class=\"dataframe\">\n",
       "  <thead>\n",
       "    <tr style=\"text-align: right;\">\n",
       "      <th></th>\n",
       "      <th>compras</th>\n",
       "      <th>llamadas_soporte</th>\n",
       "      <th>dias_inactivo</th>\n",
       "      <th>tiempo_suscrito</th>\n",
       "      <th>churn</th>\n",
       "    </tr>\n",
       "  </thead>\n",
       "  <tbody>\n",
       "    <tr>\n",
       "      <th>0</th>\n",
       "      <td>4</td>\n",
       "      <td>0</td>\n",
       "      <td>27</td>\n",
       "      <td>1</td>\n",
       "      <td>1</td>\n",
       "    </tr>\n",
       "    <tr>\n",
       "      <th>1</th>\n",
       "      <td>1</td>\n",
       "      <td>2</td>\n",
       "      <td>25</td>\n",
       "      <td>13</td>\n",
       "      <td>1</td>\n",
       "    </tr>\n",
       "    <tr>\n",
       "      <th>2</th>\n",
       "      <td>3</td>\n",
       "      <td>1</td>\n",
       "      <td>18</td>\n",
       "      <td>6</td>\n",
       "      <td>1</td>\n",
       "    </tr>\n",
       "    <tr>\n",
       "      <th>3</th>\n",
       "      <td>3</td>\n",
       "      <td>2</td>\n",
       "      <td>23</td>\n",
       "      <td>17</td>\n",
       "      <td>1</td>\n",
       "    </tr>\n",
       "    <tr>\n",
       "      <th>4</th>\n",
       "      <td>2</td>\n",
       "      <td>3</td>\n",
       "      <td>18</td>\n",
       "      <td>12</td>\n",
       "      <td>1</td>\n",
       "    </tr>\n",
       "  </tbody>\n",
       "</table>\n",
       "</div>"
      ],
      "text/plain": [
       "   compras  llamadas_soporte  dias_inactivo  tiempo_suscrito  churn\n",
       "0        4                 0             27                1      1\n",
       "1        1                 2             25               13      1\n",
       "2        3                 1             18                6      1\n",
       "3        3                 2             23               17      1\n",
       "4        2                 3             18               12      1"
      ]
     },
     "execution_count": 2,
     "metadata": {},
     "output_type": "execute_result"
    }
   ],
   "source": [
    "# 📁 2. Cargar y explorar el dataset\n",
    "df = pd.read_csv('../data/churn_dataset.csv')\n",
    "df.head()"
   ]
  },
  {
   "cell_type": "code",
   "execution_count": null,
   "id": "9010148e",
   "metadata": {},
   "outputs": [],
   "source": [
    "# 🔍 3. Separar variables predictoras y variable objetivo\n",
    "X = df.drop(\"churn\", axis=1)\n",
    "y = df[\"churn\"]"
   ]
  },
  {
   "cell_type": "code",
   "execution_count": null,
   "id": "e5c663b0",
   "metadata": {},
   "outputs": [],
   "source": [
    "# 🧼 4. Escalar los datos y dividir en train/test\n",
    "scaler = StandardScaler()\n",
    "X_scaled = scaler.fit_transform(X)\n",
    "X_train, X_test, y_train, y_test = train_test_split(X_scaled, y, test_size=0.2, random_state=42)"
   ]
  },
  {
   "cell_type": "code",
   "execution_count": null,
   "id": "a78cde27",
   "metadata": {},
   "outputs": [],
   "source": [
    "# 🧠 5. Cargar configuración y modelo\n",
    "import sys, os, yaml\n",
    "sys.path.append(os.path.abspath(\"../src\"))\n",
    "\n",
    "from model import build_model\n",
    "from utils import plot_metrics, show_confusion_matrix\n",
    "\n",
    "with open(\"../src/config.yaml\") as f:\n",
    "    config = yaml.safe_load(f)\n",
    "\n",
    "model = build_model(config)"
   ]
  },
  {
   "cell_type": "code",
   "execution_count": null,
   "id": "5254ce16",
   "metadata": {},
   "outputs": [],
   "source": [
    "# 🚂 6. Entrenar el modelo\n",
    "history = model.fit(X_train, y_train,\n",
    "                    validation_split=0.2,\n",
    "                    epochs=config['training']['epochs'],\n",
    "                    batch_size=config['training']['batch_size'])"
   ]
  },
  {
   "cell_type": "code",
   "execution_count": null,
   "id": "b9973ee5",
   "metadata": {},
   "outputs": [],
   "source": [
    "# 📉 7. Visualizar métricas de entrenamiento\n",
    "plot_metrics(history)"
   ]
  },
  {
   "cell_type": "code",
   "execution_count": null,
   "id": "25cde911",
   "metadata": {},
   "outputs": [],
   "source": [
    "# 🧪 8. Evaluar el modelo en test\n",
    "y_pred = model.predict(X_test)\n",
    "y_pred_classes = (y_pred > 0.5).astype(int)\n",
    "\n",
    "show_confusion_matrix(y_test, y_pred_classes)"
   ]
  }
 ],
 "metadata": {
  "kernelspec": {
   "display_name": "base",
   "language": "python",
   "name": "python3"
  },
  "language_info": {
   "codemirror_mode": {
    "name": "ipython",
    "version": 3
   },
   "file_extension": ".py",
   "mimetype": "text/x-python",
   "name": "python",
   "nbconvert_exporter": "python",
   "pygments_lexer": "ipython3",
   "version": "3.12.4"
  }
 },
 "nbformat": 4,
 "nbformat_minor": 5
}
