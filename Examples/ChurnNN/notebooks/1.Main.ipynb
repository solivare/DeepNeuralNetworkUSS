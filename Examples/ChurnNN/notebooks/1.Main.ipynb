{
 "cells": [
  {
   "cell_type": "code",
   "execution_count": null,
   "id": "41c1d731",
   "metadata": {},
   "outputs": [],
   "source": [
    "# 📦 1. Importar librerías principales\n",
    "import os\n",
    "import sys\n",
    "import pandas as pd\n",
    "from sklearn.model_selection import train_test_split\n",
    "from sklearn.preprocessing import StandardScaler\n",
    "\n",
    "# 📁 2. Configurar paths automáticamente según entorno (Colab o local)\n",
    "# Ruta base = carpeta ChurnNN\n",
    "BASE_PATH = os.path.abspath(os.path.join(os.getcwd(), \"..\"))\n",
    "\n",
    "# Agregar src al path para importar módulos\n",
    "SRC_PATH = os.path.join(BASE_PATH, \"src\")\n",
    "if SRC_PATH not in sys.path:\n",
    "    sys.path.append(SRC_PATH)\n",
    "\n",
    "# 📁 3. Cargar y explorar el dataset\n",
    "data_path = os.path.join(BASE_PATH, \"data\", \"churn_dataset.csv\")\n",
    "df = pd.read_csv(data_path)\n",
    "df.head()"
   ]
  },
  {
   "cell_type": "code",
   "execution_count": null,
   "id": "05e43ed0",
   "metadata": {},
   "outputs": [],
   "source": [
    "# 🔍 4. Separar variables predictoras y variable objetivo\n",
    "X = df.drop(\"churn\", axis=1)\n",
    "y = df[\"churn\"]\n",
    "\n",
    "# 🧼 5. Escalar los datos y dividir en train/test\n",
    "scaler = StandardScaler()\n",
    "X_scaled = scaler.fit_transform(X)\n",
    "X_train, X_test, y_train, y_test = train_test_split(\n",
    "    X_scaled, y, test_size=0.2, random_state=42\n",
    ")"
   ]
  },
  {
   "cell_type": "code",
   "execution_count": null,
   "id": "999075ba",
   "metadata": {},
   "outputs": [],
   "source": [
    "# 🧠 6. Cargar configuración y modelo\n",
    "import yaml\n",
    "from model import build_model\n",
    "from utils import plot_metrics, show_confusion_matrix\n",
    "\n",
    "# Cargar parámetros desde config.yaml\n",
    "config_path = os.path.join(SRC_PATH, \"config.yaml\")\n",
    "with open(config_path) as f:\n",
    "    config = yaml.safe_load(f)\n",
    "\n",
    "# Construir modelo\n",
    "model = build_model(config)"
   ]
  },
  {
   "cell_type": "code",
   "execution_count": null,
   "id": "2b3b689d",
   "metadata": {},
   "outputs": [],
   "source": [
    "# 🚂 7. Entrenar el modelo\n",
    "history = model.fit(\n",
    "    X_train, y_train,\n",
    "    validation_split=0.2,\n",
    "    epochs=config['training']['epochs'],\n",
    "    batch_size=config['training']['batch_size']\n",
    ")"
   ]
  },
  {
   "cell_type": "code",
   "execution_count": null,
   "id": "6028349a",
   "metadata": {},
   "outputs": [],
   "source": [
    "# 📉 8. Visualizar métricas de entrenamiento\n",
    "plot_metrics(history)"
   ]
  },
  {
   "cell_type": "code",
   "execution_count": null,
   "id": "6dea3b72",
   "metadata": {},
   "outputs": [],
   "source": [
    "# 🧪 9. Evaluar el modelo en test\n",
    "y_pred = model.predict(X_test)\n",
    "y_pred_classes = (y_pred > 0.5).astype(int)\n",
    "\n",
    "show_confusion_matrix(y_test, y_pred_classes)"
   ]
  },
  {
   "cell_type": "code",
   "execution_count": null,
   "id": "ac6e8fbb",
   "metadata": {},
   "outputs": [],
   "source": []
  }
 ],
 "metadata": {
  "kernelspec": {
   "display_name": "Python 3 (ipykernel)",
   "language": "python",
   "name": "python3"
  },
  "language_info": {
   "codemirror_mode": {
    "name": "ipython",
    "version": 3
   },
   "file_extension": ".py",
   "mimetype": "text/x-python",
   "name": "python",
   "nbconvert_exporter": "python",
   "pygments_lexer": "ipython3",
   "version": "3.12.4"
  }
 },
 "nbformat": 4,
 "nbformat_minor": 5
}
