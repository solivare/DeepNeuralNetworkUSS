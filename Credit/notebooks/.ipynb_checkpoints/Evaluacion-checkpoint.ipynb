{
 "cells": [
  {
   "cell_type": "code",
   "execution_count": null,
   "id": "81e48581",
   "metadata": {},
   "outputs": [],
   "source": [
    "### 🔧 TAREA\n",
    "# Compara el desempeño de la red neuronal con la regresión logística. Analiza sus métricas, curva ROC y precisión vs. recall."
   ]
  },
  {
   "cell_type": "code",
   "execution_count": null,
   "id": "07fafa41",
   "metadata": {},
   "outputs": [],
   "source": [
    "import sys\n",
    "sys.path.append(\"../src\")\n",
    "\n",
    "import train\n",
    "import model\n",
    "import utils\n",
    "import evaluate as ev\n",
    "\n",
    "import pandas as pd\n",
    "import numpy as np\n",
    "from sklearn.linear_model import LogisticRegression"
   ]
  },
  {
   "cell_type": "code",
   "execution_count": null,
   "id": "530f6ab9",
   "metadata": {},
   "outputs": [],
   "source": [
    "# 🔧 Cargar configuración\n",
    "config = train.load_config(\"../config.yaml\")"
   ]
  },
  {
   "cell_type": "code",
   "execution_count": null,
   "id": "3caccf1a",
   "metadata": {},
   "outputs": [],
   "source": [
    "# 📦 Cargar y preparar los datos\n",
    "X, y = train.load_data(\"../data/credit_clean.csv\")\n",
    "X_train, X_test, y_train, y_test = train.preprocess(X, y, config)"
   ]
  },
  {
   "cell_type": "code",
   "execution_count": null,
   "id": "c8b6d314",
   "metadata": {},
   "outputs": [],
   "source": [
    "# 🧪 Entrenar modelo base (Regresión Logística)\n",
    "base_model = LogisticRegression(max_iter=1000)\n",
    "base_model.fit(X_train, y_train)\n",
    "\n",
    "# 🔍 Predicciones del modelo base\n",
    "y_pred_log = base_model.predict(X_test)\n",
    "y_proba_log = base_model.predict_proba(X_test)[:, 1]"
   ]
  },
  {
   "cell_type": "code",
   "execution_count": null,
   "id": "06ebe1ce",
   "metadata": {},
   "outputs": [],
   "source": [
    "# 📥 Cargar modelo entrenado Red Neuronal\n",
    "from tensorflow.keras.models import load_model\n",
    "nn_model = load_model(\"../models/nn_model.keras\")\n",
    "\n",
    "# 🔍 Predicciones de Red Neuronal\n",
    "y_proba_nn = nn_model.predict(X_test).flatten()\n",
    "y_pred_nn = ev.predict_with_threshold(y_proba_nn, threshold=0.5)"
   ]
  },
  {
   "cell_type": "code",
   "execution_count": null,
   "id": "a19e13ca",
   "metadata": {},
   "outputs": [],
   "source": [
    "# 📊 Evaluación individual\n",
    "ev.evaluate_model(y_test, y_pred_log, y_proba_log, model_name=\"Regresión Logística\")\n",
    "ev.evaluate_model(y_test, y_pred_nn, y_proba_nn, model_name=\"Red Neuronal\")"
   ]
  },
  {
   "cell_type": "code",
   "execution_count": null,
   "id": "79693854",
   "metadata": {},
   "outputs": [],
   "source": [
    "# 🧱 Matrices de Confusión\n",
    "ev.plot_confusion_matrix(y_test, y_pred_log, model_name=\"Regresión Logística\")\n",
    "ev.plot_confusion_matrix(y_test, y_pred_nn, model_name=\"Red Neuronal\")"
   ]
  },
  {
   "cell_type": "code",
   "execution_count": null,
   "id": "f5c28ad5",
   "metadata": {},
   "outputs": [],
   "source": [
    "# 📈 Comparación de curvas ROC\n",
    "ev.plot_roc_comparison(y_test, y_proba_nn, y_test, y_proba_log,\n",
    "                       label1=\"Red Neuronal\", label2=\"Regresión Logística\")"
   ]
  },
  {
   "cell_type": "code",
   "execution_count": null,
   "id": "eee253c4",
   "metadata": {},
   "outputs": [],
   "source": [
    "# 🔍 Comparación de curvas Precision-Recall\n",
    "ev.plot_precision_recall_curves(y_test, y_proba_nn, y_test, y_proba_log,\n",
    "                                 label1=\"Red Neuronal\", label2=\"Regresión Logística\")"
   ]
  },
  {
   "cell_type": "code",
   "execution_count": null,
   "id": "f6b60797",
   "metadata": {},
   "outputs": [],
   "source": [
    "# 📋 Comparación de métricas en tabla\n",
    "df_metrics = ev.compare_models_metrics(\n",
    "    y_test, y_pred_nn, y_proba_nn,\n",
    "    y_test, y_pred_log, y_proba_log,\n",
    "    model_name_1=\"Red Neuronal\",\n",
    "    model_name_2=\"Regresión Logística\"\n",
    ")\n",
    "\n",
    "import IPython.display as display\n",
    "display.display(df_metrics)"
   ]
  },
  {
   "cell_type": "code",
   "execution_count": null,
   "id": "990f8530",
   "metadata": {},
   "outputs": [],
   "source": [
    "### 📊 Pregunta de reflexión\n",
    "#¿En qué umbral se maximiza el F1-score para cada modelo? ¿Te parece razonable utilizar 0.5 como punto de corte en este contexto?\n",
    "#¿Es uno de los modelos más conservador o arriesgado que el otro?"
   ]
  }
 ],
 "metadata": {
  "kernelspec": {
   "display_name": "3.11.9",
   "language": "python",
   "name": "python3"
  },
  "language_info": {
   "codemirror_mode": {
    "name": "ipython",
    "version": 3
   },
   "file_extension": ".py",
   "mimetype": "text/x-python",
   "name": "python",
   "nbconvert_exporter": "python",
   "pygments_lexer": "ipython3",
   "version": "3.11.9"
  }
 },
 "nbformat": 4,
 "nbformat_minor": 5
}
